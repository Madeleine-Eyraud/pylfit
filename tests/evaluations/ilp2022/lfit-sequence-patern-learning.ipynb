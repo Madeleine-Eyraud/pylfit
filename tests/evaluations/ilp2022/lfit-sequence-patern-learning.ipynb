{
 "cells": [
  {
   "cell_type": "markdown",
   "id": "c41c569b",
   "metadata": {
    "papermill": {
     "duration": 0.060839,
     "end_time": "2022-05-23T14:16:44.896880",
     "exception": false,
     "start_time": "2022-05-23T14:16:44.836041",
     "status": "completed"
    },
    "tags": []
   },
   "source": [
    "# Settings"
   ]
  },
  {
   "cell_type": "code",
   "execution_count": 1,
   "id": "4930ad21",
   "metadata": {
    "execution": {
     "iopub.execute_input": "2022-05-23T14:16:45.020412Z",
     "iopub.status.busy": "2022-05-23T14:16:45.019614Z",
     "iopub.status.idle": "2022-05-23T14:16:45.032336Z",
     "shell.execute_reply": "2022-05-23T14:16:45.031676Z"
    },
    "papermill": {
     "duration": 0.075956,
     "end_time": "2022-05-23T14:16:45.034615",
     "exception": false,
     "start_time": "2022-05-23T14:16:44.958659",
     "status": "completed"
    },
    "tags": []
   },
   "outputs": [],
   "source": [
    "NB_EVENTS = 3\n",
    "LEN_SEQUENCE = 4"
   ]
  },
  {
   "cell_type": "markdown",
   "id": "c31c40a2",
   "metadata": {
    "papermill": {
     "duration": 0.059312,
     "end_time": "2022-05-23T14:16:45.156557",
     "exception": false,
     "start_time": "2022-05-23T14:16:45.097245",
     "status": "completed"
    },
    "tags": []
   },
   "source": [
    "# Installs"
   ]
  },
  {
   "cell_type": "code",
   "execution_count": 2,
   "id": "56b8156c",
   "metadata": {
    "execution": {
     "iopub.execute_input": "2022-05-23T14:16:45.289209Z",
     "iopub.status.busy": "2022-05-23T14:16:45.288695Z",
     "iopub.status.idle": "2022-05-23T14:16:58.963620Z",
     "shell.execute_reply": "2022-05-23T14:16:58.962511Z"
    },
    "papermill": {
     "duration": 13.742228,
     "end_time": "2022-05-23T14:16:58.966279",
     "exception": false,
     "start_time": "2022-05-23T14:16:45.224051",
     "status": "completed"
    },
    "tags": []
   },
   "outputs": [
    {
     "name": "stdout",
     "output_type": "stream",
     "text": [
      "Collecting pylfit\r\n",
      "  Downloading pylfit-0.2.2-py3-none-any.whl (83 kB)\r\n",
      "\u001b[2K     \u001b[90m━━━━━━━━━━━━━━━━━━━━━━━━━━━━━━━━━━━━━━━\u001b[0m \u001b[32m83.9/83.9 KB\u001b[0m \u001b[31m550.2 kB/s\u001b[0m eta \u001b[36m0:00:00\u001b[0m\r\n",
      "\u001b[?25hInstalling collected packages: pylfit\r\n",
      "Successfully installed pylfit-0.2.2\r\n",
      "\u001b[33mWARNING: Running pip as the 'root' user can result in broken permissions and conflicting behaviour with the system package manager. It is recommended to use a virtual environment instead: https://pip.pypa.io/warnings/venv\u001b[0m\u001b[33m\r\n",
      "\u001b[0m"
     ]
    }
   ],
   "source": [
    "!pip install pylfit"
   ]
  },
  {
   "cell_type": "code",
   "execution_count": 3,
   "id": "2c59d44e",
   "metadata": {
    "_cell_guid": "b1076dfc-b9ad-4769-8c92-a6c4dae69d19",
    "_uuid": "8f2839f25d086af736a60e9eeb907d3b93b6e0e5",
    "execution": {
     "iopub.execute_input": "2022-05-23T14:16:59.093811Z",
     "iopub.status.busy": "2022-05-23T14:16:59.093527Z",
     "iopub.status.idle": "2022-05-23T14:16:59.110817Z",
     "shell.execute_reply": "2022-05-23T14:16:59.109906Z"
    },
    "papermill": {
     "duration": 0.084248,
     "end_time": "2022-05-23T14:16:59.113323",
     "exception": false,
     "start_time": "2022-05-23T14:16:59.029075",
     "status": "completed"
    },
    "tags": []
   },
   "outputs": [],
   "source": [
    "import numpy as np\n",
    "import pandas as pd\n",
    "import itertools\n",
    "\n",
    "import pylfit\n",
    "\n",
    "import os\n",
    "for dirname, _, filenames in os.walk('/kaggle/input'):\n",
    "    for filename in filenames:\n",
    "        print(os.path.join(dirname, filename))\n"
   ]
  },
  {
   "cell_type": "markdown",
   "id": "eade55e7",
   "metadata": {
    "papermill": {
     "duration": 0.062429,
     "end_time": "2022-05-23T14:16:59.239505",
     "exception": false,
     "start_time": "2022-05-23T14:16:59.177076",
     "status": "completed"
    },
    "tags": []
   },
   "source": [
    "# 1) Data generation"
   ]
  },
  {
   "cell_type": "code",
   "execution_count": 4,
   "id": "81971378",
   "metadata": {
    "execution": {
     "iopub.execute_input": "2022-05-23T14:16:59.367174Z",
     "iopub.status.busy": "2022-05-23T14:16:59.366799Z",
     "iopub.status.idle": "2022-05-23T14:16:59.372074Z",
     "shell.execute_reply": "2022-05-23T14:16:59.371459Z"
    },
    "papermill": {
     "duration": 0.07178,
     "end_time": "2022-05-23T14:16:59.374829",
     "exception": false,
     "start_time": "2022-05-23T14:16:59.303049",
     "status": "completed"
    },
    "tags": []
   },
   "outputs": [
    {
     "name": "stdout",
     "output_type": "stream",
     "text": [
      "Events: {'t2', 't1', 't0'}\n"
     ]
    }
   ],
   "source": [
    "events = {\"t\"+str(i) for i in range(0,NB_EVENTS)}\n",
    "print(\"Events:\",events)\n",
    "# DBG\n",
    "#events"
   ]
  },
  {
   "cell_type": "code",
   "execution_count": 5,
   "id": "0be5f44a",
   "metadata": {
    "execution": {
     "iopub.execute_input": "2022-05-23T14:16:59.503874Z",
     "iopub.status.busy": "2022-05-23T14:16:59.502955Z",
     "iopub.status.idle": "2022-05-23T14:16:59.521765Z",
     "shell.execute_reply": "2022-05-23T14:16:59.520658Z"
    },
    "papermill": {
     "duration": 0.086112,
     "end_time": "2022-05-23T14:16:59.524885",
     "exception": false,
     "start_time": "2022-05-23T14:16:59.438773",
     "status": "completed"
    },
    "tags": []
   },
   "outputs": [
    {
     "name": "stdout",
     "output_type": "stream",
     "text": [
      "Sequences: 81\n"
     ]
    },
    {
     "data": {
      "text/plain": [
       "[['t2', 't2', 't2', 't2'],\n",
       " ['t2', 't2', 't2', 't1'],\n",
       " ['t2', 't2', 't2', 't0'],\n",
       " ['t2', 't2', 't1', 't2'],\n",
       " ['t2', 't2', 't1', 't1'],\n",
       " ['t2', 't2', 't1', 't0'],\n",
       " ['t2', 't2', 't0', 't2'],\n",
       " ['t2', 't2', 't0', 't1'],\n",
       " ['t2', 't2', 't0', 't0'],\n",
       " ['t2', 't1', 't2', 't2'],\n",
       " ['t2', 't1', 't2', 't1'],\n",
       " ['t2', 't1', 't2', 't0'],\n",
       " ['t2', 't1', 't1', 't2'],\n",
       " ['t2', 't1', 't1', 't1'],\n",
       " ['t2', 't1', 't1', 't0'],\n",
       " ['t2', 't1', 't0', 't2'],\n",
       " ['t2', 't1', 't0', 't1'],\n",
       " ['t2', 't1', 't0', 't0'],\n",
       " ['t2', 't0', 't2', 't2'],\n",
       " ['t2', 't0', 't2', 't1'],\n",
       " ['t2', 't0', 't2', 't0'],\n",
       " ['t2', 't0', 't1', 't2'],\n",
       " ['t2', 't0', 't1', 't1'],\n",
       " ['t2', 't0', 't1', 't0'],\n",
       " ['t2', 't0', 't0', 't2'],\n",
       " ['t2', 't0', 't0', 't1'],\n",
       " ['t2', 't0', 't0', 't0'],\n",
       " ['t1', 't2', 't2', 't2'],\n",
       " ['t1', 't2', 't2', 't1'],\n",
       " ['t1', 't2', 't2', 't0'],\n",
       " ['t1', 't2', 't1', 't2'],\n",
       " ['t1', 't2', 't1', 't1'],\n",
       " ['t1', 't2', 't1', 't0'],\n",
       " ['t1', 't2', 't0', 't2'],\n",
       " ['t1', 't2', 't0', 't1'],\n",
       " ['t1', 't2', 't0', 't0'],\n",
       " ['t1', 't1', 't2', 't2'],\n",
       " ['t1', 't1', 't2', 't1'],\n",
       " ['t1', 't1', 't2', 't0'],\n",
       " ['t1', 't1', 't1', 't2'],\n",
       " ['t1', 't1', 't1', 't1'],\n",
       " ['t1', 't1', 't1', 't0'],\n",
       " ['t1', 't1', 't0', 't2'],\n",
       " ['t1', 't1', 't0', 't1'],\n",
       " ['t1', 't1', 't0', 't0'],\n",
       " ['t1', 't0', 't2', 't2'],\n",
       " ['t1', 't0', 't2', 't1'],\n",
       " ['t1', 't0', 't2', 't0'],\n",
       " ['t1', 't0', 't1', 't2'],\n",
       " ['t1', 't0', 't1', 't1'],\n",
       " ['t1', 't0', 't1', 't0'],\n",
       " ['t1', 't0', 't0', 't2'],\n",
       " ['t1', 't0', 't0', 't1'],\n",
       " ['t1', 't0', 't0', 't0'],\n",
       " ['t0', 't2', 't2', 't2'],\n",
       " ['t0', 't2', 't2', 't1'],\n",
       " ['t0', 't2', 't2', 't0'],\n",
       " ['t0', 't2', 't1', 't2'],\n",
       " ['t0', 't2', 't1', 't1'],\n",
       " ['t0', 't2', 't1', 't0'],\n",
       " ['t0', 't2', 't0', 't2'],\n",
       " ['t0', 't2', 't0', 't1'],\n",
       " ['t0', 't2', 't0', 't0'],\n",
       " ['t0', 't1', 't2', 't2'],\n",
       " ['t0', 't1', 't2', 't1'],\n",
       " ['t0', 't1', 't2', 't0'],\n",
       " ['t0', 't1', 't1', 't2'],\n",
       " ['t0', 't1', 't1', 't1'],\n",
       " ['t0', 't1', 't1', 't0'],\n",
       " ['t0', 't1', 't0', 't2'],\n",
       " ['t0', 't1', 't0', 't1'],\n",
       " ['t0', 't1', 't0', 't0'],\n",
       " ['t0', 't0', 't2', 't2'],\n",
       " ['t0', 't0', 't2', 't1'],\n",
       " ['t0', 't0', 't2', 't0'],\n",
       " ['t0', 't0', 't1', 't2'],\n",
       " ['t0', 't0', 't1', 't1'],\n",
       " ['t0', 't0', 't1', 't0'],\n",
       " ['t0', 't0', 't0', 't2'],\n",
       " ['t0', 't0', 't0', 't1'],\n",
       " ['t0', 't0', 't0', 't0']]"
      ]
     },
     "execution_count": 5,
     "metadata": {},
     "output_type": "execute_result"
    }
   ],
   "source": [
    "sequences = list(itertools.product(events, repeat=LEN_SEQUENCE))\n",
    "sequences = [list(s) for s in sequences]\n",
    "print(\"Sequences:\",len(sequences))\n",
    "# DBG\n",
    "sequences"
   ]
  },
  {
   "cell_type": "code",
   "execution_count": 6,
   "id": "0ca547aa",
   "metadata": {
    "execution": {
     "iopub.execute_input": "2022-05-23T14:16:59.654803Z",
     "iopub.status.busy": "2022-05-23T14:16:59.654539Z",
     "iopub.status.idle": "2022-05-23T14:16:59.663969Z",
     "shell.execute_reply": "2022-05-23T14:16:59.663079Z"
    },
    "papermill": {
     "duration": 0.078098,
     "end_time": "2022-05-23T14:16:59.666234",
     "exception": false,
     "start_time": "2022-05-23T14:16:59.588136",
     "status": "completed"
    },
    "tags": []
   },
   "outputs": [
    {
     "name": "stdout",
     "output_type": "stream",
     "text": [
      "Positives:\n",
      "[['t1', 't1', 't0', 't2'], ['t1', 't0', 't2', 't2'], ['t1', 't0', 't2', 't1'], ['t1', 't0', 't1', 't2'], ['t1', 't0', 't0', 't2'], ['t0', 't2', 't2', 't2'], ['t0', 't2', 't2', 't1'], ['t0', 't2', 't1', 't2'], ['t0', 't2', 't1', 't1'], ['t0', 't1', 't2', 't2'], ['t0', 't1', 't2', 't1'], ['t0', 't1', 't1', 't2'], ['t0', 't1', 't0', 't2'], ['t0', 't0', 't2', 't2'], ['t0', 't0', 't2', 't1'], ['t0', 't0', 't1', 't2'], ['t0', 't0', 't0', 't2']]\n",
      "\n",
      "Negatives\n",
      "[['t2', 't2', 't2', 't2'], ['t2', 't2', 't2', 't1'], ['t2', 't2', 't2', 't0'], ['t2', 't2', 't1', 't2'], ['t2', 't2', 't1', 't1'], ['t2', 't2', 't1', 't0'], ['t2', 't2', 't0', 't2'], ['t2', 't2', 't0', 't1'], ['t2', 't2', 't0', 't0'], ['t2', 't1', 't2', 't2'], ['t2', 't1', 't2', 't1'], ['t2', 't1', 't2', 't0'], ['t2', 't1', 't1', 't2'], ['t2', 't1', 't1', 't1'], ['t2', 't1', 't1', 't0'], ['t2', 't1', 't0', 't2'], ['t2', 't1', 't0', 't1'], ['t2', 't1', 't0', 't0'], ['t2', 't0', 't2', 't2'], ['t2', 't0', 't2', 't1'], ['t2', 't0', 't2', 't0'], ['t2', 't0', 't1', 't2'], ['t2', 't0', 't1', 't1'], ['t2', 't0', 't1', 't0'], ['t2', 't0', 't0', 't2'], ['t2', 't0', 't0', 't1'], ['t2', 't0', 't0', 't0'], ['t1', 't2', 't2', 't2'], ['t1', 't2', 't2', 't1'], ['t1', 't2', 't2', 't0'], ['t1', 't2', 't1', 't2'], ['t1', 't2', 't1', 't1'], ['t1', 't2', 't1', 't0'], ['t1', 't2', 't0', 't2'], ['t1', 't2', 't0', 't1'], ['t1', 't2', 't0', 't0'], ['t1', 't1', 't2', 't2'], ['t1', 't1', 't2', 't1'], ['t1', 't1', 't2', 't0'], ['t1', 't1', 't1', 't2'], ['t1', 't1', 't1', 't1'], ['t1', 't1', 't1', 't0'], ['t1', 't1', 't0', 't1'], ['t1', 't1', 't0', 't0'], ['t1', 't0', 't2', 't0'], ['t1', 't0', 't1', 't1'], ['t1', 't0', 't1', 't0'], ['t1', 't0', 't0', 't1'], ['t1', 't0', 't0', 't0'], ['t0', 't2', 't2', 't0'], ['t0', 't2', 't1', 't0'], ['t0', 't2', 't0', 't2'], ['t0', 't2', 't0', 't1'], ['t0', 't2', 't0', 't0'], ['t0', 't1', 't2', 't0'], ['t0', 't1', 't1', 't1'], ['t0', 't1', 't1', 't0'], ['t0', 't1', 't0', 't1'], ['t0', 't1', 't0', 't0'], ['t0', 't0', 't2', 't0'], ['t0', 't0', 't1', 't1'], ['t0', 't0', 't1', 't0'], ['t0', 't0', 't0', 't1'], ['t0', 't0', 't0', 't0']]\n"
     ]
    }
   ],
   "source": [
    "# Must have t0 and t2 such that all t2 should appear later than all t0 (F(t0) and F(t2) and G(t0 -> F(t2)) and G(t2 -> not F(t0)))\n",
    "pos = []\n",
    "neg = []\n",
    "\n",
    "for s in sequences:\n",
    "    \n",
    "    \n",
    "    if(\"t0\" not in s or \"t2\" not in s):\n",
    "        valid = False\n",
    "    else:\n",
    "        t0_indices = [i for i, x in enumerate(s) if x == \"t0\"]\n",
    "        t2_indices = [i for i, x in enumerate(s) if x == \"t2\"]\n",
    "        last_t0 = max(t0_indices)\n",
    "        first_t2 = min(t2_indices)\n",
    "        valid = last_t0 < first_t2\n",
    "        \n",
    "    if(valid):\n",
    "        pos.append(s)\n",
    "    else:\n",
    "        neg.append(s)\n",
    "\n",
    "print(\"Positives:\")\n",
    "print(pos)\n",
    "print()\n",
    "print(\"Negatives\")\n",
    "print(neg)"
   ]
  },
  {
   "cell_type": "markdown",
   "id": "d2b2087f",
   "metadata": {
    "papermill": {
     "duration": 0.064642,
     "end_time": "2022-05-23T14:16:59.794411",
     "exception": false,
     "start_time": "2022-05-23T14:16:59.729769",
     "status": "completed"
    },
    "tags": []
   },
   "source": [
    "# 2) Basic encoding"
   ]
  },
  {
   "cell_type": "code",
   "execution_count": 7,
   "id": "0f51be92",
   "metadata": {
    "execution": {
     "iopub.execute_input": "2022-05-23T14:16:59.933241Z",
     "iopub.status.busy": "2022-05-23T14:16:59.932933Z",
     "iopub.status.idle": "2022-05-23T14:16:59.952844Z",
     "shell.execute_reply": "2022-05-23T14:16:59.952181Z"
    },
    "papermill": {
     "duration": 0.092028,
     "end_time": "2022-05-23T14:16:59.954865",
     "exception": false,
     "start_time": "2022-05-23T14:16:59.862837",
     "status": "completed"
    },
    "tags": []
   },
   "outputs": [
    {
     "data": {
      "text/plain": [
       "[(['t1', 't1', 't0', 't2'], ['pos']),\n",
       " (['t1', 't0', 't2', 't2'], ['pos']),\n",
       " (['t1', 't0', 't2', 't1'], ['pos']),\n",
       " (['t1', 't0', 't1', 't2'], ['pos']),\n",
       " (['t1', 't0', 't0', 't2'], ['pos']),\n",
       " (['t0', 't2', 't2', 't2'], ['pos']),\n",
       " (['t0', 't2', 't2', 't1'], ['pos']),\n",
       " (['t0', 't2', 't1', 't2'], ['pos']),\n",
       " (['t0', 't2', 't1', 't1'], ['pos']),\n",
       " (['t0', 't1', 't2', 't2'], ['pos']),\n",
       " (['t0', 't1', 't2', 't1'], ['pos']),\n",
       " (['t0', 't1', 't1', 't2'], ['pos']),\n",
       " (['t0', 't1', 't0', 't2'], ['pos']),\n",
       " (['t0', 't0', 't2', 't2'], ['pos']),\n",
       " (['t0', 't0', 't2', 't1'], ['pos']),\n",
       " (['t0', 't0', 't1', 't2'], ['pos']),\n",
       " (['t0', 't0', 't0', 't2'], ['pos']),\n",
       " (['t2', 't2', 't2', 't2'], ['neg']),\n",
       " (['t2', 't2', 't2', 't1'], ['neg']),\n",
       " (['t2', 't2', 't2', 't0'], ['neg']),\n",
       " (['t2', 't2', 't1', 't2'], ['neg']),\n",
       " (['t2', 't2', 't1', 't1'], ['neg']),\n",
       " (['t2', 't2', 't1', 't0'], ['neg']),\n",
       " (['t2', 't2', 't0', 't2'], ['neg']),\n",
       " (['t2', 't2', 't0', 't1'], ['neg']),\n",
       " (['t2', 't2', 't0', 't0'], ['neg']),\n",
       " (['t2', 't1', 't2', 't2'], ['neg']),\n",
       " (['t2', 't1', 't2', 't1'], ['neg']),\n",
       " (['t2', 't1', 't2', 't0'], ['neg']),\n",
       " (['t2', 't1', 't1', 't2'], ['neg']),\n",
       " (['t2', 't1', 't1', 't1'], ['neg']),\n",
       " (['t2', 't1', 't1', 't0'], ['neg']),\n",
       " (['t2', 't1', 't0', 't2'], ['neg']),\n",
       " (['t2', 't1', 't0', 't1'], ['neg']),\n",
       " (['t2', 't1', 't0', 't0'], ['neg']),\n",
       " (['t2', 't0', 't2', 't2'], ['neg']),\n",
       " (['t2', 't0', 't2', 't1'], ['neg']),\n",
       " (['t2', 't0', 't2', 't0'], ['neg']),\n",
       " (['t2', 't0', 't1', 't2'], ['neg']),\n",
       " (['t2', 't0', 't1', 't1'], ['neg']),\n",
       " (['t2', 't0', 't1', 't0'], ['neg']),\n",
       " (['t2', 't0', 't0', 't2'], ['neg']),\n",
       " (['t2', 't0', 't0', 't1'], ['neg']),\n",
       " (['t2', 't0', 't0', 't0'], ['neg']),\n",
       " (['t1', 't2', 't2', 't2'], ['neg']),\n",
       " (['t1', 't2', 't2', 't1'], ['neg']),\n",
       " (['t1', 't2', 't2', 't0'], ['neg']),\n",
       " (['t1', 't2', 't1', 't2'], ['neg']),\n",
       " (['t1', 't2', 't1', 't1'], ['neg']),\n",
       " (['t1', 't2', 't1', 't0'], ['neg']),\n",
       " (['t1', 't2', 't0', 't2'], ['neg']),\n",
       " (['t1', 't2', 't0', 't1'], ['neg']),\n",
       " (['t1', 't2', 't0', 't0'], ['neg']),\n",
       " (['t1', 't1', 't2', 't2'], ['neg']),\n",
       " (['t1', 't1', 't2', 't1'], ['neg']),\n",
       " (['t1', 't1', 't2', 't0'], ['neg']),\n",
       " (['t1', 't1', 't1', 't2'], ['neg']),\n",
       " (['t1', 't1', 't1', 't1'], ['neg']),\n",
       " (['t1', 't1', 't1', 't0'], ['neg']),\n",
       " (['t1', 't1', 't0', 't1'], ['neg']),\n",
       " (['t1', 't1', 't0', 't0'], ['neg']),\n",
       " (['t1', 't0', 't2', 't0'], ['neg']),\n",
       " (['t1', 't0', 't1', 't1'], ['neg']),\n",
       " (['t1', 't0', 't1', 't0'], ['neg']),\n",
       " (['t1', 't0', 't0', 't1'], ['neg']),\n",
       " (['t1', 't0', 't0', 't0'], ['neg']),\n",
       " (['t0', 't2', 't2', 't0'], ['neg']),\n",
       " (['t0', 't2', 't1', 't0'], ['neg']),\n",
       " (['t0', 't2', 't0', 't2'], ['neg']),\n",
       " (['t0', 't2', 't0', 't1'], ['neg']),\n",
       " (['t0', 't2', 't0', 't0'], ['neg']),\n",
       " (['t0', 't1', 't2', 't0'], ['neg']),\n",
       " (['t0', 't1', 't1', 't1'], ['neg']),\n",
       " (['t0', 't1', 't1', 't0'], ['neg']),\n",
       " (['t0', 't1', 't0', 't1'], ['neg']),\n",
       " (['t0', 't1', 't0', 't0'], ['neg']),\n",
       " (['t0', 't0', 't2', 't0'], ['neg']),\n",
       " (['t0', 't0', 't1', 't1'], ['neg']),\n",
       " (['t0', 't0', 't1', 't0'], ['neg']),\n",
       " (['t0', 't0', 't0', 't1'], ['neg']),\n",
       " (['t0', 't0', 't0', 't0'], ['neg'])]"
      ]
     },
     "execution_count": 7,
     "metadata": {},
     "output_type": "execute_result"
    }
   ],
   "source": [
    "def convert_to_LFIT(positives, negatives):\n",
    "    observations = []\n",
    "    for s in positives:\n",
    "        observations.append((list(s),[\"pos\"]))\n",
    "    for s in negatives:\n",
    "        observations.append((list(s),[\"neg\"]))\n",
    "    return observations\n",
    "\n",
    "convert_to_LFIT(pos,neg)"
   ]
  },
  {
   "cell_type": "code",
   "execution_count": 8,
   "id": "da448fbb",
   "metadata": {
    "execution": {
     "iopub.execute_input": "2022-05-23T14:17:00.085259Z",
     "iopub.status.busy": "2022-05-23T14:17:00.084667Z",
     "iopub.status.idle": "2022-05-23T14:17:00.105643Z",
     "shell.execute_reply": "2022-05-23T14:17:00.104683Z"
    },
    "papermill": {
     "duration": 0.088962,
     "end_time": "2022-05-23T14:17:00.108098",
     "exception": false,
     "start_time": "2022-05-23T14:17:00.019136",
     "status": "completed"
    },
    "tags": []
   },
   "outputs": [
    {
     "name": "stdout",
     "output_type": "stream",
     "text": [
      "StateTransitionsDataset summary:\n",
      " Features: \n",
      "  pos_0: ['t0', 't1', 't2']\n",
      "  pos_1: ['t0', 't1', 't2']\n",
      "  pos_2: ['t0', 't1', 't2']\n",
      "  pos_3: ['t0', 't1', 't2']\n",
      " Targets: \n",
      "  class: ['neg', 'pos']\n",
      " Data:\n",
      "  (['t1', 't1', 't0', 't2'], ['pos'])\n",
      "  (['t1', 't0', 't2', 't2'], ['pos'])\n",
      "  (['t1', 't0', 't2', 't1'], ['pos'])\n",
      "  (['t1', 't0', 't1', 't2'], ['pos'])\n",
      "  (['t1', 't0', 't0', 't2'], ['pos'])\n",
      "  (['t0', 't2', 't2', 't2'], ['pos'])\n",
      "  (['t0', 't2', 't2', 't1'], ['pos'])\n",
      "  (['t0', 't2', 't1', 't2'], ['pos'])\n",
      "  (['t0', 't2', 't1', 't1'], ['pos'])\n",
      "  (['t0', 't1', 't2', 't2'], ['pos'])\n",
      "  (['t0', 't1', 't2', 't1'], ['pos'])\n",
      "  (['t0', 't1', 't1', 't2'], ['pos'])\n",
      "  (['t0', 't1', 't0', 't2'], ['pos'])\n",
      "  (['t0', 't0', 't2', 't2'], ['pos'])\n",
      "  (['t0', 't0', 't2', 't1'], ['pos'])\n",
      "  (['t0', 't0', 't1', 't2'], ['pos'])\n",
      "  (['t0', 't0', 't0', 't2'], ['pos'])\n",
      "  (['t2', 't2', 't2', 't2'], ['neg'])\n",
      "  (['t2', 't2', 't2', 't1'], ['neg'])\n",
      "  (['t2', 't2', 't2', 't0'], ['neg'])\n",
      "  (['t2', 't2', 't1', 't2'], ['neg'])\n",
      "  (['t2', 't2', 't1', 't1'], ['neg'])\n",
      "  (['t2', 't2', 't1', 't0'], ['neg'])\n",
      "  (['t2', 't2', 't0', 't2'], ['neg'])\n",
      "  (['t2', 't2', 't0', 't1'], ['neg'])\n",
      "  (['t2', 't2', 't0', 't0'], ['neg'])\n",
      "  (['t2', 't1', 't2', 't2'], ['neg'])\n",
      "  (['t2', 't1', 't2', 't1'], ['neg'])\n",
      "  (['t2', 't1', 't2', 't0'], ['neg'])\n",
      "  (['t2', 't1', 't1', 't2'], ['neg'])\n",
      "  (['t2', 't1', 't1', 't1'], ['neg'])\n",
      "  (['t2', 't1', 't1', 't0'], ['neg'])\n",
      "  (['t2', 't1', 't0', 't2'], ['neg'])\n",
      "  (['t2', 't1', 't0', 't1'], ['neg'])\n",
      "  (['t2', 't1', 't0', 't0'], ['neg'])\n",
      "  (['t2', 't0', 't2', 't2'], ['neg'])\n",
      "  (['t2', 't0', 't2', 't1'], ['neg'])\n",
      "  (['t2', 't0', 't2', 't0'], ['neg'])\n",
      "  (['t2', 't0', 't1', 't2'], ['neg'])\n",
      "  (['t2', 't0', 't1', 't1'], ['neg'])\n",
      "  (['t2', 't0', 't1', 't0'], ['neg'])\n",
      "  (['t2', 't0', 't0', 't2'], ['neg'])\n",
      "  (['t2', 't0', 't0', 't1'], ['neg'])\n",
      "  (['t2', 't0', 't0', 't0'], ['neg'])\n",
      "  (['t1', 't2', 't2', 't2'], ['neg'])\n",
      "  (['t1', 't2', 't2', 't1'], ['neg'])\n",
      "  (['t1', 't2', 't2', 't0'], ['neg'])\n",
      "  (['t1', 't2', 't1', 't2'], ['neg'])\n",
      "  (['t1', 't2', 't1', 't1'], ['neg'])\n",
      "  (['t1', 't2', 't1', 't0'], ['neg'])\n",
      "  (['t1', 't2', 't0', 't2'], ['neg'])\n",
      "  (['t1', 't2', 't0', 't1'], ['neg'])\n",
      "  (['t1', 't2', 't0', 't0'], ['neg'])\n",
      "  (['t1', 't1', 't2', 't2'], ['neg'])\n",
      "  (['t1', 't1', 't2', 't1'], ['neg'])\n",
      "  (['t1', 't1', 't2', 't0'], ['neg'])\n",
      "  (['t1', 't1', 't1', 't2'], ['neg'])\n",
      "  (['t1', 't1', 't1', 't1'], ['neg'])\n",
      "  (['t1', 't1', 't1', 't0'], ['neg'])\n",
      "  (['t1', 't1', 't0', 't1'], ['neg'])\n",
      "  (['t1', 't1', 't0', 't0'], ['neg'])\n",
      "  (['t1', 't0', 't2', 't0'], ['neg'])\n",
      "  (['t1', 't0', 't1', 't1'], ['neg'])\n",
      "  (['t1', 't0', 't1', 't0'], ['neg'])\n",
      "  (['t1', 't0', 't0', 't1'], ['neg'])\n",
      "  (['t1', 't0', 't0', 't0'], ['neg'])\n",
      "  (['t0', 't2', 't2', 't0'], ['neg'])\n",
      "  (['t0', 't2', 't1', 't0'], ['neg'])\n",
      "  (['t0', 't2', 't0', 't2'], ['neg'])\n",
      "  (['t0', 't2', 't0', 't1'], ['neg'])\n",
      "  (['t0', 't2', 't0', 't0'], ['neg'])\n",
      "  (['t0', 't1', 't2', 't0'], ['neg'])\n",
      "  (['t0', 't1', 't1', 't1'], ['neg'])\n",
      "  (['t0', 't1', 't1', 't0'], ['neg'])\n",
      "  (['t0', 't1', 't0', 't1'], ['neg'])\n",
      "  (['t0', 't1', 't0', 't0'], ['neg'])\n",
      "  (['t0', 't0', 't2', 't0'], ['neg'])\n",
      "  (['t0', 't0', 't1', 't1'], ['neg'])\n",
      "  (['t0', 't0', 't1', 't0'], ['neg'])\n",
      "  (['t0', 't0', 't0', 't1'], ['neg'])\n",
      "  (['t0', 't0', 't0', 't0'], ['neg'])\n",
      "\n"
     ]
    }
   ],
   "source": [
    "data = convert_to_LFIT(pos,neg)\n",
    "\n",
    "# Convert array data as a StateTransitionsDataset using pylfit.preprocessing\n",
    "dataset = pylfit.preprocessing.transitions_dataset_from_array(data=data, \\\n",
    "feature_names=[\"pos_\"+str(i) for i in range(len(data[0][0]))], target_names=[\"class\"])\n",
    "dataset.summary()\n",
    "print()"
   ]
  },
  {
   "cell_type": "code",
   "execution_count": 9,
   "id": "d4ede0e8",
   "metadata": {
    "execution": {
     "iopub.execute_input": "2022-05-23T14:17:00.244084Z",
     "iopub.status.busy": "2022-05-23T14:17:00.243408Z",
     "iopub.status.idle": "2022-05-23T14:17:00.267255Z",
     "shell.execute_reply": "2022-05-23T14:17:00.266542Z"
    },
    "papermill": {
     "duration": 0.096924,
     "end_time": "2022-05-23T14:17:00.270507",
     "exception": false,
     "start_time": "2022-05-23T14:17:00.173583",
     "status": "completed"
    },
    "tags": []
   },
   "outputs": [
    {
     "name": "stdout",
     "output_type": "stream",
     "text": [
      "DMVLP summary:\n",
      " Algorithm: gula\n",
      " Features: \n",
      "  pos_0: ['t0', 't1', 't2']\n",
      "  pos_1: ['t0', 't1', 't2']\n",
      "  pos_2: ['t0', 't1', 't2']\n",
      "  pos_3: ['t0', 't1', 't2']\n",
      " Targets: \n",
      "  class: ['neg', 'pos']\n",
      " Rules:\n",
      "  class(neg) :- pos_0(t2).\n",
      "  class(neg) :- pos_3(t0).\n",
      "  class(neg) :- pos_2(t0), pos_3(t1).\n",
      "  class(neg) :- pos_1(t2), pos_2(t0).\n",
      "  class(neg) :- pos_1(t0), pos_2(t1), pos_3(t1).\n",
      "  class(neg) :- pos_1(t1), pos_2(t1), pos_3(t1).\n",
      "  class(neg) :- pos_0(t1), pos_1(t2).\n",
      "  class(neg) :- pos_0(t1), pos_2(t1), pos_3(t1).\n",
      "  class(neg) :- pos_0(t1), pos_1(t1), pos_2(t1).\n",
      "  class(neg) :- pos_0(t1), pos_1(t1), pos_2(t2).\n",
      "  class(neg) :- pos_0(t1), pos_1(t1), pos_3(t1).\n",
      "  class(pos) :- pos_0(t0), pos_1(t1), pos_3(t2).\n",
      "  class(pos) :- pos_0(t0), pos_2(t1), pos_3(t2).\n",
      "  class(pos) :- pos_0(t0), pos_2(t2), pos_3(t1).\n",
      "  class(pos) :- pos_0(t0), pos_2(t2), pos_3(t2).\n",
      "  class(pos) :- pos_0(t0), pos_1(t2), pos_2(t1), pos_3(t1).\n",
      "  class(pos) :- pos_0(t0), pos_1(t0), pos_3(t2).\n",
      "  class(pos) :- pos_0(t1), pos_1(t0), pos_3(t2).\n",
      "  class(pos) :- pos_0(t1), pos_1(t0), pos_2(t2), pos_3(t1).\n",
      "  class(pos) :- pos_0(t1), pos_1(t1), pos_2(t0), pos_3(t2).\n"
     ]
    }
   ],
   "source": [
    "# Initialize a DMVLP with the dataset variables and set GULA as learning algorithm\n",
    "model = pylfit.models.DMVLP(features=dataset.features, targets=dataset.targets)\n",
    "model.compile(algorithm=\"gula\") # model.compile(algorithm=\"pride\")\n",
    "\n",
    "# Fit the DMVLP on the dataset\n",
    "model.fit(dataset=dataset)\n",
    "model.summary()"
   ]
  },
  {
   "cell_type": "code",
   "execution_count": 10,
   "id": "6edf51a2",
   "metadata": {
    "execution": {
     "iopub.execute_input": "2022-05-23T14:17:00.409874Z",
     "iopub.status.busy": "2022-05-23T14:17:00.409273Z",
     "iopub.status.idle": "2022-05-23T14:17:00.417778Z",
     "shell.execute_reply": "2022-05-23T14:17:00.416069Z"
    },
    "papermill": {
     "duration": 0.079977,
     "end_time": "2022-05-23T14:17:00.420596",
     "exception": false,
     "start_time": "2022-05-23T14:17:00.340619",
     "status": "completed"
    },
    "tags": []
   },
   "outputs": [
    {
     "name": "stdout",
     "output_type": "stream",
     "text": [
      "Rules with class neg : 11\n",
      "Rules with class pos : 9\n"
     ]
    }
   ],
   "source": [
    "for label in model.targets[0][1]:\n",
    "    nb_rules = len([r for r in model.rules if model.targets[r.head_variable][1][r.head_value] == label])\n",
    "    print(\"Rules with class\", label,\":\", nb_rules)"
   ]
  },
  {
   "cell_type": "markdown",
   "id": "ab82c2c2",
   "metadata": {
    "papermill": {
     "duration": 0.064629,
     "end_time": "2022-05-23T14:17:00.553698",
     "exception": false,
     "start_time": "2022-05-23T14:17:00.489069",
     "status": "completed"
    },
    "tags": []
   },
   "source": [
    "# 3) Temporal features preprocessing computation and encoding"
   ]
  },
  {
   "cell_type": "code",
   "execution_count": 11,
   "id": "0b223f67",
   "metadata": {
    "execution": {
     "iopub.execute_input": "2022-05-23T14:17:00.686968Z",
     "iopub.status.busy": "2022-05-23T14:17:00.686428Z",
     "iopub.status.idle": "2022-05-23T14:17:00.696569Z",
     "shell.execute_reply": "2022-05-23T14:17:00.695616Z"
    },
    "papermill": {
     "duration": 0.079034,
     "end_time": "2022-05-23T14:17:00.698763",
     "exception": false,
     "start_time": "2022-05-23T14:17:00.619729",
     "status": "completed"
    },
    "tags": []
   },
   "outputs": [],
   "source": [
    "def convert_to_LFIT(events, positives, negatives, property_functions):\n",
    "    features = []\n",
    "    observations = []\n",
    "    \n",
    "    # 1) generate positition features names\n",
    "    if(len(positives) > 0):\n",
    "        obs = positives[0]\n",
    "    elif(len(negatives > 0)):\n",
    "        obs = negatives[0]\n",
    "    else:\n",
    "        raise ValueError(\"No positives/negatives examples in input\")\n",
    "    \n",
    "    features += [\"ev_\"+str(i) for i in range(len(obs))]\n",
    "\n",
    "    #features += futur_properties(events, obs)[0]\n",
    "    \n",
    "    sequence_len = 0\n",
    "    \n",
    "    for s in positives:\n",
    "        obs = list(s)\n",
    "        observations.append([obs,[\"pos\"]])\n",
    "        sequence_len = len(s)\n",
    "    for s in negatives:\n",
    "        obs = list(s)\n",
    "        observations.append([obs,[\"neg\"]])\n",
    "        sequence_len = len(s)\n",
    "        \n",
    "    \n",
    "    # 2) Generate properties features\n",
    "    for p in property_functions:\n",
    "        features += p(events,[])[0]\n",
    "        for obs in observations:\n",
    "            obs[0] += p(events, obs[0][:sequence_len])[1]\n",
    "            \n",
    "    observations = [(tuple(i),tuple(j)) for (i,j) in observations]\n",
    "        \n",
    "    return features, observations\n",
    "\n",
    "#convert_to_LFIT(events,pos,neg,property_functions)#[ltl_next, ltl_finally, ltl_globally, ltl_until, ltl_weak_until])"
   ]
  },
  {
   "cell_type": "code",
   "execution_count": 12,
   "id": "10c93f37",
   "metadata": {
    "execution": {
     "iopub.execute_input": "2022-05-23T14:17:00.831835Z",
     "iopub.status.busy": "2022-05-23T14:17:00.831289Z",
     "iopub.status.idle": "2022-05-23T14:17:00.834733Z",
     "shell.execute_reply": "2022-05-23T14:17:00.834152Z"
    },
    "papermill": {
     "duration": 0.073274,
     "end_time": "2022-05-23T14:17:00.836711",
     "exception": false,
     "start_time": "2022-05-23T14:17:00.763437",
     "status": "completed"
    },
    "tags": []
   },
   "outputs": [],
   "source": [
    "property_functions = []"
   ]
  },
  {
   "cell_type": "markdown",
   "id": "13fe8c6e",
   "metadata": {
    "papermill": {
     "duration": 0.073118,
     "end_time": "2022-05-23T14:17:00.975097",
     "exception": false,
     "start_time": "2022-05-23T14:17:00.901979",
     "status": "completed"
    },
    "tags": []
   },
   "source": [
    "## 3.1) LTL properties"
   ]
  },
  {
   "cell_type": "code",
   "execution_count": 13,
   "id": "44d503e2",
   "metadata": {
    "execution": {
     "iopub.execute_input": "2022-05-23T14:17:01.124718Z",
     "iopub.status.busy": "2022-05-23T14:17:01.124074Z",
     "iopub.status.idle": "2022-05-23T14:17:01.134887Z",
     "shell.execute_reply": "2022-05-23T14:17:01.133872Z"
    },
    "papermill": {
     "duration": 0.091453,
     "end_time": "2022-05-23T14:17:01.137083",
     "exception": false,
     "start_time": "2022-05-23T14:17:01.045630",
     "status": "completed"
    },
    "tags": []
   },
   "outputs": [
    {
     "name": "stdout",
     "output_type": "stream",
     "text": [
      "['t1', 't1', 't0', 't2']\n"
     ]
    },
    {
     "data": {
      "text/plain": [
       "(['ltl_neXt_t0', 'ltl_neXt_t1', 'ltl_neXt_t2'], [False, True, False])"
      ]
     },
     "execution_count": 13,
     "metadata": {},
     "output_type": "execute_result"
    }
   ],
   "source": [
    "# neXt: φ has to hold at the next state. \n",
    "def ltl_next(events, sequence):\n",
    "    features = []\n",
    "    values = []\n",
    "    for e in sorted(events):\n",
    "        features.append(\"ltl_neXt_\"+str(e))\n",
    "        values.append(len(sequence) >= 2 and sequence[1] == e)\n",
    "    return features, values\n",
    "\n",
    "property_functions.append(ltl_next)\n",
    "\n",
    "print(pos[0])\n",
    "ltl_next(events, pos[0])"
   ]
  },
  {
   "cell_type": "code",
   "execution_count": 14,
   "id": "287479b7",
   "metadata": {
    "execution": {
     "iopub.execute_input": "2022-05-23T14:17:01.273711Z",
     "iopub.status.busy": "2022-05-23T14:17:01.273416Z",
     "iopub.status.idle": "2022-05-23T14:17:01.283204Z",
     "shell.execute_reply": "2022-05-23T14:17:01.282016Z"
    },
    "papermill": {
     "duration": 0.080233,
     "end_time": "2022-05-23T14:17:01.285815",
     "exception": false,
     "start_time": "2022-05-23T14:17:01.205582",
     "status": "completed"
    },
    "tags": []
   },
   "outputs": [
    {
     "name": "stdout",
     "output_type": "stream",
     "text": [
      "['t1', 't1', 't0', 't2']\n"
     ]
    },
    {
     "data": {
      "text/plain": [
       "(['ltl_Finally_t0', 'ltl_Finally_t1', 'ltl_Finally_t2'], [True, True, True])"
      ]
     },
     "execution_count": 14,
     "metadata": {},
     "output_type": "execute_result"
    }
   ],
   "source": [
    "# Finally: φ eventually has to hold (somewhere on the subsequent path).\n",
    "def ltl_finally(events, sequence):\n",
    "    features = []\n",
    "    values = []\n",
    "    for e in sorted(events):\n",
    "        features.append(\"ltl_Finally_\"+str(e))\n",
    "        values.append(e in sequence)\n",
    "    return features, values\n",
    "\n",
    "property_functions.append(ltl_finally)\n",
    "\n",
    "print(pos[0])\n",
    "ltl_finally(events, pos[0])"
   ]
  },
  {
   "cell_type": "code",
   "execution_count": 15,
   "id": "344c23d3",
   "metadata": {
    "execution": {
     "iopub.execute_input": "2022-05-23T14:17:01.431474Z",
     "iopub.status.busy": "2022-05-23T14:17:01.431152Z",
     "iopub.status.idle": "2022-05-23T14:17:01.442271Z",
     "shell.execute_reply": "2022-05-23T14:17:01.440617Z"
    },
    "papermill": {
     "duration": 0.087139,
     "end_time": "2022-05-23T14:17:01.444706",
     "exception": false,
     "start_time": "2022-05-23T14:17:01.357567",
     "status": "completed"
    },
    "tags": []
   },
   "outputs": [
    {
     "name": "stdout",
     "output_type": "stream",
     "text": [
      "['t0', 't0', 't0', 't0']\n"
     ]
    },
    {
     "data": {
      "text/plain": [
       "(['ltl_Globally_t0', 'ltl_Globally_t1', 'ltl_Globally_t2'],\n",
       " [True, False, False])"
      ]
     },
     "execution_count": 15,
     "metadata": {},
     "output_type": "execute_result"
    }
   ],
   "source": [
    "# Globally: φ has to hold on the entire subsequent path.\n",
    "def ltl_globally(events, sequence):\n",
    "    features = []\n",
    "    values = []\n",
    "    for e in sorted(events):\n",
    "        features.append(\"ltl_Globally_\"+str(e))\n",
    "        values.append(sequence.count(e) == len(sequence))\n",
    "    return features, values\n",
    "\n",
    "property_functions.append(ltl_globally)\n",
    "\n",
    "print(neg[-1])\n",
    "ltl_globally(events, neg[-1])"
   ]
  },
  {
   "cell_type": "code",
   "execution_count": 16,
   "id": "9dce3552",
   "metadata": {
    "execution": {
     "iopub.execute_input": "2022-05-23T14:17:01.585813Z",
     "iopub.status.busy": "2022-05-23T14:17:01.584944Z",
     "iopub.status.idle": "2022-05-23T14:17:01.597740Z",
     "shell.execute_reply": "2022-05-23T14:17:01.596433Z"
    },
    "papermill": {
     "duration": 0.085074,
     "end_time": "2022-05-23T14:17:01.599950",
     "exception": false,
     "start_time": "2022-05-23T14:17:01.514876",
     "status": "completed"
    },
    "tags": []
   },
   "outputs": [
    {
     "name": "stdout",
     "output_type": "stream",
     "text": [
      "['t1', 't0', 't2', 't2']\n"
     ]
    },
    {
     "data": {
      "text/plain": [
       "(['ltl_t0_Until_t1',\n",
       "  'ltl_t0_Until_t2',\n",
       "  'ltl_t1_Until_t0',\n",
       "  'ltl_t1_Until_t2',\n",
       "  'ltl_t2_Until_t0',\n",
       "  'ltl_t2_Until_t1'],\n",
       " [True, False, True, False, False, True])"
      ]
     },
     "execution_count": 16,
     "metadata": {},
     "output_type": "execute_result"
    }
   ],
   "source": [
    "# Until: ψ has to hold at least until φ becomes true, which must hold at the current or a future position.\n",
    "def ltl_until(events, sequence):\n",
    "    features = []\n",
    "    values = []\n",
    "    for ei in sorted(events): # ei must hold\n",
    "        value = True\n",
    "        for ej in sorted(events): # until ej\n",
    "            if(ei == ej):\n",
    "                continue\n",
    "                \n",
    "            features.append(\"ltl_\"+str(ei)+\"_Until_\"+ej)\n",
    "            \n",
    "            value = False\n",
    "            for e in sequence:\n",
    "                if(e == ei):\n",
    "                    continue\n",
    "\n",
    "                value = e == ej\n",
    "                break\n",
    "                    \n",
    "            values.append(value)\n",
    "    return features, values\n",
    "\n",
    "property_functions.append(ltl_until)\n",
    "\n",
    "print(pos[1])\n",
    "ltl_until(events, pos[1])"
   ]
  },
  {
   "cell_type": "code",
   "execution_count": 17,
   "id": "2783e933",
   "metadata": {
    "execution": {
     "iopub.execute_input": "2022-05-23T14:17:01.739958Z",
     "iopub.status.busy": "2022-05-23T14:17:01.739595Z",
     "iopub.status.idle": "2022-05-23T14:17:01.744003Z",
     "shell.execute_reply": "2022-05-23T14:17:01.742879Z"
    },
    "papermill": {
     "duration": 0.077326,
     "end_time": "2022-05-23T14:17:01.746580",
     "exception": false,
     "start_time": "2022-05-23T14:17:01.669254",
     "status": "completed"
    },
    "tags": []
   },
   "outputs": [],
   "source": [
    "# Release: φ has to be true until and including the point where ψ first becomes true;\n",
    "# Only one event at a time here so equivalent at until"
   ]
  },
  {
   "cell_type": "code",
   "execution_count": 18,
   "id": "e7aba48c",
   "metadata": {
    "execution": {
     "iopub.execute_input": "2022-05-23T14:17:01.893384Z",
     "iopub.status.busy": "2022-05-23T14:17:01.893063Z",
     "iopub.status.idle": "2022-05-23T14:17:01.908650Z",
     "shell.execute_reply": "2022-05-23T14:17:01.907685Z"
    },
    "papermill": {
     "duration": 0.094032,
     "end_time": "2022-05-23T14:17:01.911753",
     "exception": false,
     "start_time": "2022-05-23T14:17:01.817721",
     "status": "completed"
    },
    "tags": []
   },
   "outputs": [
    {
     "name": "stdout",
     "output_type": "stream",
     "text": [
      "['t1', 't0', 't2', 't2']\n"
     ]
    },
    {
     "data": {
      "text/plain": [
       "(['ltl_t0_Weak_until_t1',\n",
       "  'ltl_t0_Weak_until_t2',\n",
       "  'ltl_t1_Weak_until_t0',\n",
       "  'ltl_t1_Weak_until_t2',\n",
       "  'ltl_t2_Weak_until_t0',\n",
       "  'ltl_t2_Weak_until_t1'],\n",
       " [False, True, True, False, True, True])"
      ]
     },
     "execution_count": 18,
     "metadata": {},
     "output_type": "execute_result"
    }
   ],
   "source": [
    "# Weak until: ψ has to hold at least until φ; if φ never becomes true, ψ must remain true forever. \n",
    "def ltl_weak_until(events, sequence):\n",
    "    features = []\n",
    "    values = []\n",
    "    for ei in sorted(events): # ei must hold\n",
    "        value = True\n",
    "        for ej in sorted(events): # until ej\n",
    "            if(ei == ej):\n",
    "                continue\n",
    "                \n",
    "            features.append(\"ltl_\"+str(ei)+\"_Weak_until_\"+ej)\n",
    "            \n",
    "            if(len(sequence) == 0 or ei not in sequence):\n",
    "                value = False\n",
    "            else:\n",
    "                start_ei = False\n",
    "                for e in sequence:\n",
    "                    if(e == ei):\n",
    "                        start_ei = True\n",
    "                        continue\n",
    "                        \n",
    "                    if(start_ei and e != ei):\n",
    "                        if(e == ej):\n",
    "                            value = True\n",
    "                        else:\n",
    "                            value = False\n",
    "                        break\n",
    "                    \n",
    "            values.append(value)\n",
    "    return features, values\n",
    "\n",
    "property_functions.append(ltl_weak_until)\n",
    "\n",
    "print(pos[1])\n",
    "ltl_weak_until(events, pos[1])"
   ]
  },
  {
   "cell_type": "code",
   "execution_count": 19,
   "id": "3646600f",
   "metadata": {
    "execution": {
     "iopub.execute_input": "2022-05-23T14:17:02.070912Z",
     "iopub.status.busy": "2022-05-23T14:17:02.070638Z",
     "iopub.status.idle": "2022-05-23T14:17:02.109262Z",
     "shell.execute_reply": "2022-05-23T14:17:02.106453Z"
    },
    "papermill": {
     "duration": 0.122318,
     "end_time": "2022-05-23T14:17:02.113718",
     "exception": false,
     "start_time": "2022-05-23T14:17:01.991400",
     "status": "completed"
    },
    "tags": []
   },
   "outputs": [
    {
     "name": "stdout",
     "output_type": "stream",
     "text": [
      "StateTransitionsDataset summary:\n",
      " Features: \n",
      "  ev_0: ['t0', 't1', 't2']\n",
      "  ev_1: ['t0', 't1', 't2']\n",
      "  ev_2: ['t0', 't1', 't2']\n",
      "  ev_3: ['t0', 't1', 't2']\n",
      "  ltl_Finally_t0: ['False', 'True']\n",
      "  ltl_Finally_t1: ['False', 'True']\n",
      "  ltl_Finally_t2: ['False', 'True']\n",
      "  ltl_Globally_t0: ['False', 'True']\n",
      "  ltl_Globally_t1: ['False', 'True']\n",
      "  ltl_Globally_t2: ['False', 'True']\n",
      "  ltl_t0_Until_t1: ['False', 'True']\n",
      "  ltl_t0_Until_t2: ['False', 'True']\n",
      "  ltl_t1_Until_t0: ['False', 'True']\n",
      "  ltl_t1_Until_t2: ['False', 'True']\n",
      "  ltl_t2_Until_t0: ['False', 'True']\n",
      "  ltl_t2_Until_t1: ['False', 'True']\n",
      " Targets: \n",
      "  class: ['neg', 'pos']\n",
      " Data:\n",
      "  (['t1', 't1', 't0', 't2', 'True', 'True', 'True', 'False', 'False', 'False', 'True', 'False', 'True', 'False', 'False', 'True'], ['pos'])\n",
      "  (['t1', 't0', 't2', 't2', 'True', 'True', 'True', 'False', 'False', 'False', 'True', 'False', 'True', 'False', 'False', 'True'], ['pos'])\n",
      "  (['t1', 't0', 't2', 't1', 'True', 'True', 'True', 'False', 'False', 'False', 'True', 'False', 'True', 'False', 'False', 'True'], ['pos'])\n",
      "  (['t1', 't0', 't1', 't2', 'True', 'True', 'True', 'False', 'False', 'False', 'True', 'False', 'True', 'False', 'False', 'True'], ['pos'])\n",
      "  (['t1', 't0', 't0', 't2', 'True', 'True', 'True', 'False', 'False', 'False', 'True', 'False', 'True', 'False', 'False', 'True'], ['pos'])\n",
      "  (['t0', 't2', 't2', 't2', 'True', 'False', 'True', 'False', 'False', 'False', 'False', 'True', 'True', 'False', 'True', 'False'], ['pos'])\n",
      "  (['t0', 't2', 't2', 't1', 'True', 'True', 'True', 'False', 'False', 'False', 'False', 'True', 'True', 'False', 'True', 'False'], ['pos'])\n",
      "  (['t0', 't2', 't1', 't2', 'True', 'True', 'True', 'False', 'False', 'False', 'False', 'True', 'True', 'False', 'True', 'False'], ['pos'])\n",
      "  (['t0', 't2', 't1', 't1', 'True', 'True', 'True', 'False', 'False', 'False', 'False', 'True', 'True', 'False', 'True', 'False'], ['pos'])\n",
      "  (['t0', 't1', 't2', 't2', 'True', 'True', 'True', 'False', 'False', 'False', 'True', 'False', 'True', 'False', 'True', 'False'], ['pos'])\n",
      "  (['t0', 't1', 't2', 't1', 'True', 'True', 'True', 'False', 'False', 'False', 'True', 'False', 'True', 'False', 'True', 'False'], ['pos'])\n",
      "  (['t0', 't1', 't1', 't2', 'True', 'True', 'True', 'False', 'False', 'False', 'True', 'False', 'True', 'False', 'True', 'False'], ['pos'])\n",
      "  (['t0', 't1', 't0', 't2', 'True', 'True', 'True', 'False', 'False', 'False', 'True', 'False', 'True', 'False', 'True', 'False'], ['pos'])\n",
      "  (['t0', 't0', 't2', 't2', 'True', 'False', 'True', 'False', 'False', 'False', 'False', 'True', 'True', 'False', 'True', 'False'], ['pos'])\n",
      "  (['t0', 't0', 't2', 't1', 'True', 'True', 'True', 'False', 'False', 'False', 'False', 'True', 'True', 'False', 'True', 'False'], ['pos'])\n",
      "  (['t0', 't0', 't1', 't2', 'True', 'True', 'True', 'False', 'False', 'False', 'True', 'False', 'True', 'False', 'True', 'False'], ['pos'])\n",
      "  (['t0', 't0', 't0', 't2', 'True', 'False', 'True', 'False', 'False', 'False', 'False', 'True', 'True', 'False', 'True', 'False'], ['pos'])\n",
      "  (['t2', 't2', 't2', 't2', 'False', 'False', 'True', 'False', 'False', 'True', 'False', 'True', 'False', 'True', 'False', 'False'], ['neg'])\n",
      "  (['t2', 't2', 't2', 't1', 'False', 'True', 'True', 'False', 'False', 'False', 'False', 'True', 'False', 'True', 'False', 'True'], ['neg'])\n",
      "  (['t2', 't2', 't2', 't0', 'True', 'False', 'True', 'False', 'False', 'False', 'False', 'True', 'False', 'True', 'True', 'False'], ['neg'])\n",
      "  (['t2', 't2', 't1', 't2', 'False', 'True', 'True', 'False', 'False', 'False', 'False', 'True', 'False', 'True', 'False', 'True'], ['neg'])\n",
      "  (['t2', 't2', 't1', 't1', 'False', 'True', 'True', 'False', 'False', 'False', 'False', 'True', 'False', 'True', 'False', 'True'], ['neg'])\n",
      "  (['t2', 't2', 't1', 't0', 'True', 'True', 'True', 'False', 'False', 'False', 'False', 'True', 'False', 'True', 'False', 'True'], ['neg'])\n",
      "  (['t2', 't2', 't0', 't2', 'True', 'False', 'True', 'False', 'False', 'False', 'False', 'True', 'False', 'True', 'True', 'False'], ['neg'])\n",
      "  (['t2', 't2', 't0', 't1', 'True', 'True', 'True', 'False', 'False', 'False', 'False', 'True', 'False', 'True', 'True', 'False'], ['neg'])\n",
      "  (['t2', 't2', 't0', 't0', 'True', 'False', 'True', 'False', 'False', 'False', 'False', 'True', 'False', 'True', 'True', 'False'], ['neg'])\n",
      "  (['t2', 't1', 't2', 't2', 'False', 'True', 'True', 'False', 'False', 'False', 'False', 'True', 'False', 'True', 'False', 'True'], ['neg'])\n",
      "  (['t2', 't1', 't2', 't1', 'False', 'True', 'True', 'False', 'False', 'False', 'False', 'True', 'False', 'True', 'False', 'True'], ['neg'])\n",
      "  (['t2', 't1', 't2', 't0', 'True', 'True', 'True', 'False', 'False', 'False', 'False', 'True', 'False', 'True', 'False', 'True'], ['neg'])\n",
      "  (['t2', 't1', 't1', 't2', 'False', 'True', 'True', 'False', 'False', 'False', 'False', 'True', 'False', 'True', 'False', 'True'], ['neg'])\n",
      "  (['t2', 't1', 't1', 't1', 'False', 'True', 'True', 'False', 'False', 'False', 'False', 'True', 'False', 'True', 'False', 'True'], ['neg'])\n",
      "  (['t2', 't1', 't1', 't0', 'True', 'True', 'True', 'False', 'False', 'False', 'False', 'True', 'False', 'True', 'False', 'True'], ['neg'])\n",
      "  (['t2', 't1', 't0', 't2', 'True', 'True', 'True', 'False', 'False', 'False', 'False', 'True', 'False', 'True', 'False', 'True'], ['neg'])\n",
      "  (['t2', 't1', 't0', 't1', 'True', 'True', 'True', 'False', 'False', 'False', 'False', 'True', 'False', 'True', 'False', 'True'], ['neg'])\n",
      "  (['t2', 't1', 't0', 't0', 'True', 'True', 'True', 'False', 'False', 'False', 'False', 'True', 'False', 'True', 'False', 'True'], ['neg'])\n",
      "  (['t2', 't0', 't2', 't2', 'True', 'False', 'True', 'False', 'False', 'False', 'False', 'True', 'False', 'True', 'True', 'False'], ['neg'])\n",
      "  (['t2', 't0', 't2', 't1', 'True', 'True', 'True', 'False', 'False', 'False', 'False', 'True', 'False', 'True', 'True', 'False'], ['neg'])\n",
      "  (['t2', 't0', 't2', 't0', 'True', 'False', 'True', 'False', 'False', 'False', 'False', 'True', 'False', 'True', 'True', 'False'], ['neg'])\n",
      "  (['t2', 't0', 't1', 't2', 'True', 'True', 'True', 'False', 'False', 'False', 'False', 'True', 'False', 'True', 'True', 'False'], ['neg'])\n",
      "  (['t2', 't0', 't1', 't1', 'True', 'True', 'True', 'False', 'False', 'False', 'False', 'True', 'False', 'True', 'True', 'False'], ['neg'])\n",
      "  (['t2', 't0', 't1', 't0', 'True', 'True', 'True', 'False', 'False', 'False', 'False', 'True', 'False', 'True', 'True', 'False'], ['neg'])\n",
      "  (['t2', 't0', 't0', 't2', 'True', 'False', 'True', 'False', 'False', 'False', 'False', 'True', 'False', 'True', 'True', 'False'], ['neg'])\n",
      "  (['t2', 't0', 't0', 't1', 'True', 'True', 'True', 'False', 'False', 'False', 'False', 'True', 'False', 'True', 'True', 'False'], ['neg'])\n",
      "  (['t2', 't0', 't0', 't0', 'True', 'False', 'True', 'False', 'False', 'False', 'False', 'True', 'False', 'True', 'True', 'False'], ['neg'])\n",
      "  (['t1', 't2', 't2', 't2', 'False', 'True', 'True', 'False', 'False', 'False', 'True', 'False', 'False', 'True', 'False', 'True'], ['neg'])\n",
      "  (['t1', 't2', 't2', 't1', 'False', 'True', 'True', 'False', 'False', 'False', 'True', 'False', 'False', 'True', 'False', 'True'], ['neg'])\n",
      "  (['t1', 't2', 't2', 't0', 'True', 'True', 'True', 'False', 'False', 'False', 'True', 'False', 'False', 'True', 'False', 'True'], ['neg'])\n",
      "  (['t1', 't2', 't1', 't2', 'False', 'True', 'True', 'False', 'False', 'False', 'True', 'False', 'False', 'True', 'False', 'True'], ['neg'])\n",
      "  (['t1', 't2', 't1', 't1', 'False', 'True', 'True', 'False', 'False', 'False', 'True', 'False', 'False', 'True', 'False', 'True'], ['neg'])\n",
      "  (['t1', 't2', 't1', 't0', 'True', 'True', 'True', 'False', 'False', 'False', 'True', 'False', 'False', 'True', 'False', 'True'], ['neg'])\n",
      "  (['t1', 't2', 't0', 't2', 'True', 'True', 'True', 'False', 'False', 'False', 'True', 'False', 'False', 'True', 'False', 'True'], ['neg'])\n",
      "  (['t1', 't2', 't0', 't1', 'True', 'True', 'True', 'False', 'False', 'False', 'True', 'False', 'False', 'True', 'False', 'True'], ['neg'])\n",
      "  (['t1', 't2', 't0', 't0', 'True', 'True', 'True', 'False', 'False', 'False', 'True', 'False', 'False', 'True', 'False', 'True'], ['neg'])\n",
      "  (['t1', 't1', 't2', 't2', 'False', 'True', 'True', 'False', 'False', 'False', 'True', 'False', 'False', 'True', 'False', 'True'], ['neg'])\n",
      "  (['t1', 't1', 't2', 't1', 'False', 'True', 'True', 'False', 'False', 'False', 'True', 'False', 'False', 'True', 'False', 'True'], ['neg'])\n",
      "  (['t1', 't1', 't2', 't0', 'True', 'True', 'True', 'False', 'False', 'False', 'True', 'False', 'False', 'True', 'False', 'True'], ['neg'])\n",
      "  (['t1', 't1', 't1', 't2', 'False', 'True', 'True', 'False', 'False', 'False', 'True', 'False', 'False', 'True', 'False', 'True'], ['neg'])\n",
      "  (['t1', 't1', 't1', 't1', 'False', 'True', 'False', 'False', 'True', 'False', 'True', 'False', 'False', 'False', 'False', 'True'], ['neg'])\n",
      "  (['t1', 't1', 't1', 't0', 'True', 'True', 'False', 'False', 'False', 'False', 'True', 'False', 'True', 'False', 'False', 'True'], ['neg'])\n",
      "  (['t1', 't1', 't0', 't1', 'True', 'True', 'False', 'False', 'False', 'False', 'True', 'False', 'True', 'False', 'False', 'True'], ['neg'])\n",
      "  (['t1', 't1', 't0', 't0', 'True', 'True', 'False', 'False', 'False', 'False', 'True', 'False', 'True', 'False', 'False', 'True'], ['neg'])\n",
      "  (['t1', 't0', 't2', 't0', 'True', 'True', 'True', 'False', 'False', 'False', 'True', 'False', 'True', 'False', 'False', 'True'], ['neg'])\n",
      "  (['t1', 't0', 't1', 't1', 'True', 'True', 'False', 'False', 'False', 'False', 'True', 'False', 'True', 'False', 'False', 'True'], ['neg'])\n",
      "  (['t1', 't0', 't1', 't0', 'True', 'True', 'False', 'False', 'False', 'False', 'True', 'False', 'True', 'False', 'False', 'True'], ['neg'])\n",
      "  (['t1', 't0', 't0', 't1', 'True', 'True', 'False', 'False', 'False', 'False', 'True', 'False', 'True', 'False', 'False', 'True'], ['neg'])\n",
      "  (['t1', 't0', 't0', 't0', 'True', 'True', 'False', 'False', 'False', 'False', 'True', 'False', 'True', 'False', 'False', 'True'], ['neg'])\n",
      "  (['t0', 't2', 't2', 't0', 'True', 'False', 'True', 'False', 'False', 'False', 'False', 'True', 'True', 'False', 'True', 'False'], ['neg'])\n",
      "  (['t0', 't2', 't1', 't0', 'True', 'True', 'True', 'False', 'False', 'False', 'False', 'True', 'True', 'False', 'True', 'False'], ['neg'])\n",
      "  (['t0', 't2', 't0', 't2', 'True', 'False', 'True', 'False', 'False', 'False', 'False', 'True', 'True', 'False', 'True', 'False'], ['neg'])\n",
      "  (['t0', 't2', 't0', 't1', 'True', 'True', 'True', 'False', 'False', 'False', 'False', 'True', 'True', 'False', 'True', 'False'], ['neg'])\n",
      "  (['t0', 't2', 't0', 't0', 'True', 'False', 'True', 'False', 'False', 'False', 'False', 'True', 'True', 'False', 'True', 'False'], ['neg'])\n",
      "  (['t0', 't1', 't2', 't0', 'True', 'True', 'True', 'False', 'False', 'False', 'True', 'False', 'True', 'False', 'True', 'False'], ['neg'])\n",
      "  (['t0', 't1', 't1', 't1', 'True', 'True', 'False', 'False', 'False', 'False', 'True', 'False', 'True', 'False', 'True', 'False'], ['neg'])\n",
      "  (['t0', 't1', 't1', 't0', 'True', 'True', 'False', 'False', 'False', 'False', 'True', 'False', 'True', 'False', 'True', 'False'], ['neg'])\n",
      "  (['t0', 't1', 't0', 't1', 'True', 'True', 'False', 'False', 'False', 'False', 'True', 'False', 'True', 'False', 'True', 'False'], ['neg'])\n",
      "  (['t0', 't1', 't0', 't0', 'True', 'True', 'False', 'False', 'False', 'False', 'True', 'False', 'True', 'False', 'True', 'False'], ['neg'])\n",
      "  (['t0', 't0', 't2', 't0', 'True', 'False', 'True', 'False', 'False', 'False', 'False', 'True', 'True', 'False', 'True', 'False'], ['neg'])\n",
      "  (['t0', 't0', 't1', 't1', 'True', 'True', 'False', 'False', 'False', 'False', 'True', 'False', 'True', 'False', 'True', 'False'], ['neg'])\n",
      "  (['t0', 't0', 't1', 't0', 'True', 'True', 'False', 'False', 'False', 'False', 'True', 'False', 'True', 'False', 'True', 'False'], ['neg'])\n",
      "  (['t0', 't0', 't0', 't1', 'True', 'True', 'False', 'False', 'False', 'False', 'True', 'False', 'True', 'False', 'True', 'False'], ['neg'])\n",
      "  (['t0', 't0', 't0', 't0', 'True', 'False', 'False', 'True', 'False', 'False', 'False', 'False', 'True', 'False', 'True', 'False'], ['neg'])\n",
      "\n"
     ]
    }
   ],
   "source": [
    "# Reduce properties variables\n",
    "property_functions = [ltl_finally, ltl_globally, ltl_until]#, ltl_weak_until]\n",
    "\n",
    "feature_names, data = convert_to_LFIT(events,pos,neg,property_functions)\n",
    "\n",
    "# Convert array data as a StateTransitionsDataset using pylfit.preprocessing\n",
    "dataset = pylfit.preprocessing.transitions_dataset_from_array(data=data, \\\n",
    "feature_names=feature_names, target_names=[\"class\"])\n",
    "dataset.summary()\n",
    "print()"
   ]
  },
  {
   "cell_type": "code",
   "execution_count": 20,
   "id": "9de858d7",
   "metadata": {
    "execution": {
     "iopub.execute_input": "2022-05-23T14:17:02.262450Z",
     "iopub.status.busy": "2022-05-23T14:17:02.262141Z",
     "iopub.status.idle": "2022-05-23T14:17:04.349284Z",
     "shell.execute_reply": "2022-05-23T14:17:04.348357Z"
    },
    "papermill": {
     "duration": 2.166371,
     "end_time": "2022-05-23T14:17:04.352206",
     "exception": false,
     "start_time": "2022-05-23T14:17:02.185835",
     "status": "completed"
    },
    "tags": []
   },
   "outputs": [
    {
     "name": "stderr",
     "output_type": "stream",
     "text": [
      "Starting fit with GULA\n",
      "Learning possibilities...\n",
      "\n",
      "Converting transitions to nparray...\n",
      "Sorting transitions...\n",
      "Grouping transitions by initial state...\n",
      "Negative examples satisfied: 17/17, rules: 83               \n",
      "Start learning of var=1/1, val=1/2\n",
      "Negative examples satisfied: 64/64, rules: 679               \n",
      "Start learning of var=1/1, val=2/2\n",
      "Learning impossibilities...\n",
      "computing likeliness rules weights...\n",
      "Computing unlikeliness rules weights\n"
     ]
    }
   ],
   "source": [
    "# Initialize a DMVLP with the dataset variables and set GULA as learning algorithm\n",
    "model = pylfit.models.WDMVLP(features=dataset.features, targets=dataset.targets)\n",
    "model.compile(algorithm=\"gula\") # model.compile(algorithm=\"pride\")\n",
    "\n",
    "# Fit the DMVLP on the dataset\n",
    "model.fit(dataset=dataset, verbose=1)\n",
    "#model.summary()"
   ]
  },
  {
   "cell_type": "code",
   "execution_count": 21,
   "id": "95a7e043",
   "metadata": {
    "execution": {
     "iopub.execute_input": "2022-05-23T14:17:04.507538Z",
     "iopub.status.busy": "2022-05-23T14:17:04.507094Z",
     "iopub.status.idle": "2022-05-23T14:17:04.516615Z",
     "shell.execute_reply": "2022-05-23T14:17:04.515275Z"
    },
    "papermill": {
     "duration": 0.090835,
     "end_time": "2022-05-23T14:17:04.519716",
     "exception": false,
     "start_time": "2022-05-23T14:17:04.428881",
     "status": "completed"
    },
    "tags": []
   },
   "outputs": [
    {
     "name": "stdout",
     "output_type": "stream",
     "text": [
      "Number of rules: 824\n",
      "Rules with class neg : 89\n",
      "Rules with class pos : 735\n"
     ]
    }
   ],
   "source": [
    "print(\"Number of rules:\",len(model.rules))\n",
    "\n",
    "for label in model.targets[0][1]:\n",
    "    nb_rules = len([r for (w,r) in model.rules if model.targets[r.head_variable][1][r.head_value] == label])\n",
    "    print(\"Rules with class\", label,\":\", nb_rules)"
   ]
  },
  {
   "cell_type": "code",
   "execution_count": 22,
   "id": "9b8cef3e",
   "metadata": {
    "execution": {
     "iopub.execute_input": "2022-05-23T14:17:04.673919Z",
     "iopub.status.busy": "2022-05-23T14:17:04.673456Z",
     "iopub.status.idle": "2022-05-23T14:17:04.688138Z",
     "shell.execute_reply": "2022-05-23T14:17:04.686061Z"
    },
    "papermill": {
     "duration": 0.093595,
     "end_time": "2022-05-23T14:17:04.690358",
     "exception": false,
     "start_time": "2022-05-23T14:17:04.596763",
     "status": "completed"
    },
    "tags": []
   },
   "outputs": [
    {
     "name": "stdout",
     "output_type": "stream",
     "text": [
      "Best neg rules:\n",
      "[(41, 'class(neg) :- ltl_t1_Until_t0(False).'), (40, 'class(neg) :- ltl_t1_Until_t2(True).'), (27, 'class(neg) :- ev_3(t0).'), (27, 'class(neg) :- ev_0(t2).'), (16, 'class(neg) :- ltl_Finally_t2(False).'), (16, 'class(neg) :- ltl_Finally_t0(False).'), (14, 'class(neg) :- ltl_t0_Until_t2(True), ltl_t2_Until_t0(False).'), (14, 'class(neg) :- ltl_t0_Until_t1(False), ltl_t2_Until_t0(False).'), (14, 'class(neg) :- ev_1(t2), ltl_t2_Until_t0(False).'), (13, 'class(neg) :- ltl_t0_Until_t2(True), ltl_t2_Until_t1(True).')]\n",
      "Best pos rules:\n",
      "[(9, 'class(pos) :- ev_3(t2), ltl_Finally_t1(True), ltl_t1_Until_t2(False).'), (9, 'class(pos) :- ev_3(t2), ltl_Finally_t1(True), ltl_t1_Until_t0(True).'), (8, 'class(pos) :- ev_3(t2), ltl_t0_Until_t2(False), ltl_t1_Until_t2(False).'), (8, 'class(pos) :- ev_3(t2), ltl_t0_Until_t2(False), ltl_t1_Until_t0(True).'), (8, 'class(pos) :- ev_3(t2), ltl_t0_Until_t1(True), ltl_t1_Until_t2(False).'), (8, 'class(pos) :- ev_3(t2), ltl_t0_Until_t1(True), ltl_t1_Until_t0(True).'), (6, 'class(pos) :- ev_1(t0), ev_3(t2), ltl_t1_Until_t2(False).'), (6, 'class(pos) :- ev_1(t0), ev_3(t2), ltl_t1_Until_t0(True).'), (5, 'class(pos) :- ev_0(t0), ev_3(t2), ltl_Finally_t1(True).'), (4, 'class(pos) :- ev_3(t2), ltl_t1_Until_t2(False), ltl_t2_Until_t1(True).')]\n"
     ]
    }
   ],
   "source": [
    "for label in model.targets[0][1]:\n",
    "    print(\"Best\",label,\"rules:\")\n",
    "    print(sorted([(w,r.logic_form(model.features,model.targets)) for w,r in model.rules if model.targets[r.head_variable][1][r.head_value] == label and w > 0], reverse=True)[:10])"
   ]
  },
  {
   "cell_type": "markdown",
   "id": "3ac7e7a3",
   "metadata": {
    "papermill": {
     "duration": 0.073793,
     "end_time": "2022-05-23T14:17:04.839395",
     "exception": false,
     "start_time": "2022-05-23T14:17:04.765602",
     "status": "completed"
    },
    "tags": []
   },
   "source": [
    "## 3.2) Finite sequence paterns"
   ]
  },
  {
   "cell_type": "code",
   "execution_count": 23,
   "id": "911cda11",
   "metadata": {
    "execution": {
     "iopub.execute_input": "2022-05-23T14:17:04.993122Z",
     "iopub.status.busy": "2022-05-23T14:17:04.992580Z",
     "iopub.status.idle": "2022-05-23T14:17:05.002242Z",
     "shell.execute_reply": "2022-05-23T14:17:05.000753Z"
    },
    "papermill": {
     "duration": 0.089792,
     "end_time": "2022-05-23T14:17:05.004751",
     "exception": false,
     "start_time": "2022-05-23T14:17:04.914959",
     "status": "completed"
    },
    "tags": []
   },
   "outputs": [
    {
     "name": "stdout",
     "output_type": "stream",
     "text": [
      "['t1', 't1', 't0', 't2']\n"
     ]
    },
    {
     "data": {
      "text/plain": [
       "(['existence_t0', 'existence_t1', 'existence_t2'], [True, True, True])"
      ]
     },
     "execution_count": 23,
     "metadata": {},
     "output_type": "execute_result"
    }
   ],
   "source": [
    "# Existence: event appears at least once\n",
    "def existence(events, sequence):\n",
    "    features = []\n",
    "    values = []\n",
    "    for e in sorted(events):\n",
    "        features.append(\"existence_\"+str(e))\n",
    "        values.append(e in sequence)\n",
    "    return features, values\n",
    "\n",
    "property_functions.append(existence)\n",
    "\n",
    "print(pos[0])\n",
    "existence(events, pos[0])"
   ]
  },
  {
   "cell_type": "code",
   "execution_count": 24,
   "id": "6f9d8eda",
   "metadata": {
    "execution": {
     "iopub.execute_input": "2022-05-23T14:17:05.184243Z",
     "iopub.status.busy": "2022-05-23T14:17:05.183207Z",
     "iopub.status.idle": "2022-05-23T14:17:05.194961Z",
     "shell.execute_reply": "2022-05-23T14:17:05.193609Z"
    },
    "papermill": {
     "duration": 0.111095,
     "end_time": "2022-05-23T14:17:05.198132",
     "exception": false,
     "start_time": "2022-05-23T14:17:05.087037",
     "status": "completed"
    },
    "tags": []
   },
   "outputs": [
    {
     "name": "stdout",
     "output_type": "stream",
     "text": [
      "['t1', 't1', 't0', 't2']\n"
     ]
    },
    {
     "data": {
      "text/plain": [
       "(['absence_2_t0', 'absence_2_t1', 'absence_2_t2'], [True, False, True])"
      ]
     },
     "execution_count": 24,
     "metadata": {},
     "output_type": "execute_result"
    }
   ],
   "source": [
    "# Absence 2: event appears at most once\n",
    "def absence_2(events, sequence):\n",
    "    features = []\n",
    "    values = []\n",
    "    for e in sorted(events):\n",
    "        features.append(\"absence_2_\"+str(e))\n",
    "        values.append(sequence.count(e) < 2)\n",
    "    return features, values\n",
    "\n",
    "property_functions.append(absence_2)\n",
    "\n",
    "print(pos[0])\n",
    "absence_2(events, pos[0])"
   ]
  },
  {
   "cell_type": "code",
   "execution_count": 25,
   "id": "eed45a58",
   "metadata": {
    "execution": {
     "iopub.execute_input": "2022-05-23T14:17:05.356934Z",
     "iopub.status.busy": "2022-05-23T14:17:05.356463Z",
     "iopub.status.idle": "2022-05-23T14:17:05.368022Z",
     "shell.execute_reply": "2022-05-23T14:17:05.366405Z"
    },
    "papermill": {
     "duration": 0.09166,
     "end_time": "2022-05-23T14:17:05.370585",
     "exception": false,
     "start_time": "2022-05-23T14:17:05.278925",
     "status": "completed"
    },
    "tags": []
   },
   "outputs": [
    {
     "name": "stdout",
     "output_type": "stream",
     "text": [
      "['t1', 't1', 't0', 't2']\n"
     ]
    },
    {
     "data": {
      "text/plain": [
       "(['choice_t0_t1', 'choice_t0_t2', 'choice_t1_t2'], [True, True, True])"
      ]
     },
     "execution_count": 25,
     "metadata": {},
     "output_type": "execute_result"
    }
   ],
   "source": [
    "# Choice: event appears at most once\n",
    "def choice(events, sequence):\n",
    "    features = []\n",
    "    values = []\n",
    "    for i, ei in enumerate(sorted(events)):\n",
    "        for ej in sorted(events)[i+1:]:\n",
    "            features.append(\"choice_\"+str(ei)+\"_\"+str(ej))\n",
    "            values.append(ei in sequence or ej in sequence)\n",
    "    return features, values\n",
    "\n",
    "property_functions.append(choice)\n",
    "\n",
    "print(pos[0])\n",
    "choice(events, pos[0])"
   ]
  },
  {
   "cell_type": "code",
   "execution_count": 26,
   "id": "136d8df9",
   "metadata": {
    "execution": {
     "iopub.execute_input": "2022-05-23T14:17:05.529948Z",
     "iopub.status.busy": "2022-05-23T14:17:05.529581Z",
     "iopub.status.idle": "2022-05-23T14:17:05.541001Z",
     "shell.execute_reply": "2022-05-23T14:17:05.539691Z"
    },
    "papermill": {
     "duration": 0.093277,
     "end_time": "2022-05-23T14:17:05.543600",
     "exception": false,
     "start_time": "2022-05-23T14:17:05.450323",
     "status": "completed"
    },
    "tags": []
   },
   "outputs": [
    {
     "name": "stdout",
     "output_type": "stream",
     "text": [
      "['t1', 't1', 't0', 't2']\n"
     ]
    },
    {
     "data": {
      "text/plain": [
       "(['exclusive_choice_t0_t1',\n",
       "  'exclusive_choice_t0_t2',\n",
       "  'exclusive_choice_t1_t2'],\n",
       " [False, False, False])"
      ]
     },
     "execution_count": 26,
     "metadata": {},
     "output_type": "execute_result"
    }
   ],
   "source": [
    "# Exclusive choice: event appears at most once\n",
    "def exclusive_choice(events, sequence):\n",
    "    features = []\n",
    "    values = []\n",
    "    for i, ei in enumerate(sorted(events)):\n",
    "        for ej in sorted(events)[i+1:]:\n",
    "            features.append(\"exclusive_choice_\"+str(ei)+\"_\"+str(ej))\n",
    "            values.append((ei in sequence and ej not in sequence) or (ei not in sequence and ej in sequence))\n",
    "    return features, values\n",
    "\n",
    "property_functions.append(exclusive_choice)\n",
    "\n",
    "print(pos[0])\n",
    "exclusive_choice(events, pos[0])"
   ]
  },
  {
   "cell_type": "code",
   "execution_count": 27,
   "id": "0ed5fa19",
   "metadata": {
    "execution": {
     "iopub.execute_input": "2022-05-23T14:17:05.701342Z",
     "iopub.status.busy": "2022-05-23T14:17:05.701007Z",
     "iopub.status.idle": "2022-05-23T14:17:05.712162Z",
     "shell.execute_reply": "2022-05-23T14:17:05.710675Z"
    },
    "papermill": {
     "duration": 0.092262,
     "end_time": "2022-05-23T14:17:05.714635",
     "exception": false,
     "start_time": "2022-05-23T14:17:05.622373",
     "status": "completed"
    },
    "tags": []
   },
   "outputs": [
    {
     "name": "stdout",
     "output_type": "stream",
     "text": [
      "['t1', 't1', 't0', 't2']\n"
     ]
    },
    {
     "data": {
      "text/plain": [
       "(['resp_existence_t0_t1', 'resp_existence_t0_t2', 'resp_existence_t1_t2'],\n",
       " [True, True, True])"
      ]
     },
     "execution_count": 27,
     "metadata": {},
     "output_type": "execute_result"
    }
   ],
   "source": [
    "# Resp. existence: if a appears b must appears\n",
    "def resp_existence(events, sequence):\n",
    "    features = []\n",
    "    values = []\n",
    "    for i, ei in enumerate(sorted(events)):\n",
    "        for ej in sorted(events)[i+1:]:\n",
    "            features.append(\"resp_existence_\"+str(ei)+\"_\"+str(ej))\n",
    "            values.append((ei in sequence and ej in sequence) or (ei not in sequence))\n",
    "    return features, values\n",
    "\n",
    "property_functions.append(resp_existence)\n",
    "\n",
    "print(pos[0])\n",
    "resp_existence(events, pos[0])"
   ]
  },
  {
   "cell_type": "code",
   "execution_count": 28,
   "id": "dc0aca2f",
   "metadata": {
    "execution": {
     "iopub.execute_input": "2022-05-23T14:17:05.875279Z",
     "iopub.status.busy": "2022-05-23T14:17:05.874572Z",
     "iopub.status.idle": "2022-05-23T14:17:05.888288Z",
     "shell.execute_reply": "2022-05-23T14:17:05.886462Z"
    },
    "papermill": {
     "duration": 0.098719,
     "end_time": "2022-05-23T14:17:05.891720",
     "exception": false,
     "start_time": "2022-05-23T14:17:05.793001",
     "status": "completed"
    },
    "tags": []
   },
   "outputs": [
    {
     "name": "stdout",
     "output_type": "stream",
     "text": [
      "['t1', 't1', 't0', 't2']\n"
     ]
    },
    {
     "data": {
      "text/plain": [
       "(['coexistence_t0_t1', 'coexistence_t0_t2', 'coexistence_t1_t2'],\n",
       " [True, True, True])"
      ]
     },
     "execution_count": 28,
     "metadata": {},
     "output_type": "execute_result"
    }
   ],
   "source": [
    "# Coexistence: a and b must appears or none of them\n",
    "def coexistence(events, sequence):\n",
    "    features = []\n",
    "    values = []\n",
    "    for i, ei in enumerate(sorted(events)):\n",
    "        for ej in sorted(events)[i+1:]:\n",
    "            features.append(\"coexistence_\"+str(ei)+\"_\"+str(ej))\n",
    "            values.append((ei in sequence and ej in sequence) or (ei not in sequence and ej not in sequence))\n",
    "    return features, values\n",
    "\n",
    "property_functions.append(coexistence)\n",
    "\n",
    "print(pos[0])\n",
    "coexistence(events, pos[0])"
   ]
  },
  {
   "cell_type": "code",
   "execution_count": 29,
   "id": "ccd1abbb",
   "metadata": {
    "execution": {
     "iopub.execute_input": "2022-05-23T14:17:06.057156Z",
     "iopub.status.busy": "2022-05-23T14:17:06.056489Z",
     "iopub.status.idle": "2022-05-23T14:17:06.072080Z",
     "shell.execute_reply": "2022-05-23T14:17:06.070577Z"
    },
    "papermill": {
     "duration": 0.100467,
     "end_time": "2022-05-23T14:17:06.075235",
     "exception": false,
     "start_time": "2022-05-23T14:17:05.974768",
     "status": "completed"
    },
    "tags": []
   },
   "outputs": [
    {
     "name": "stdout",
     "output_type": "stream",
     "text": [
      "['t1', 't1', 't0', 't2']\n"
     ]
    },
    {
     "data": {
      "text/plain": [
       "(['response_t0_t1',\n",
       "  'response_t0_t2',\n",
       "  'response_t1_t0',\n",
       "  'response_t1_t2',\n",
       "  'response_t2_t0',\n",
       "  'response_t2_t1'],\n",
       " [False, True, True, True, False, False])"
      ]
     },
     "execution_count": 29,
     "metadata": {},
     "output_type": "execute_result"
    }
   ],
   "source": [
    "# Response: every time a appears b must appear in the future\n",
    "def response(events, sequence):\n",
    "    features = []\n",
    "    values = []\n",
    "    for ei in sorted(events):\n",
    "        for ej in sorted(events):\n",
    "            if(ei == ej):\n",
    "                continue\n",
    "            features.append(\"response_\"+str(ei)+\"_\"+str(ej))\n",
    "            ei_indices = [i for i, x in enumerate(sequence) if x == ei] + [-1]\n",
    "            ej_indices = [i for i, x in enumerate(sequence) if x == ej] + [-1]\n",
    "\n",
    "            last_ei = max(ei_indices)\n",
    "            last_ej = max(ej_indices)\n",
    "\n",
    "            values.append(last_ei <= last_ej)\n",
    "    return features, values\n",
    "\n",
    "property_functions.append(response)\n",
    "\n",
    "print(pos[0])\n",
    "response(events, pos[0])"
   ]
  },
  {
   "cell_type": "code",
   "execution_count": 30,
   "id": "af8b85a3",
   "metadata": {
    "execution": {
     "iopub.execute_input": "2022-05-23T14:17:06.245782Z",
     "iopub.status.busy": "2022-05-23T14:17:06.245132Z",
     "iopub.status.idle": "2022-05-23T14:17:06.258345Z",
     "shell.execute_reply": "2022-05-23T14:17:06.257575Z"
    },
    "papermill": {
     "duration": 0.101558,
     "end_time": "2022-05-23T14:17:06.262659",
     "exception": false,
     "start_time": "2022-05-23T14:17:06.161101",
     "status": "completed"
    },
    "tags": []
   },
   "outputs": [
    {
     "name": "stdout",
     "output_type": "stream",
     "text": [
      "['t1', 't1', 't0', 't2']\n"
     ]
    },
    {
     "data": {
      "text/plain": [
       "(['precedence_t0_t1',\n",
       "  'precedence_t0_t2',\n",
       "  'precedence_t1_t0',\n",
       "  'precedence_t1_t2',\n",
       "  'precedence_t2_t0',\n",
       "  'precedence_t2_t1'],\n",
       " [False, False, False, False, False, False])"
      ]
     },
     "execution_count": 30,
     "metadata": {},
     "output_type": "execute_result"
    }
   ],
   "source": [
    "# Precedence: b can be executed if a has been executed before\n",
    "def precedence(events, sequence):\n",
    "    features = []\n",
    "    values = []\n",
    "    for ei in sorted(events):\n",
    "        for ej in sorted(events):\n",
    "            if(ei == ej):\n",
    "                continue\n",
    "            features.append(\"precedence_\"+str(ei)+\"_\"+str(ej))\n",
    "            ei_indices = [i for i, x in enumerate(sequence) if x == ei] + [-1]\n",
    "            ej_indices = [i for i, x in enumerate(sequence) if x == ej] + [-1]\n",
    "\n",
    "            first_ei = min(ei_indices)\n",
    "            first_ej = min(ej_indices)\n",
    "            \n",
    "            if(ej not in sequence):\n",
    "                values.append(True)\n",
    "            elif (ei not in sequence):\n",
    "                values.append(False)\n",
    "            else:\n",
    "                values.append(first_ei < first_ej)\n",
    "    return features, values\n",
    "\n",
    "property_functions.append(precedence)\n",
    "\n",
    "print(pos[0])\n",
    "precedence(events, pos[0])"
   ]
  },
  {
   "cell_type": "code",
   "execution_count": 31,
   "id": "59174731",
   "metadata": {
    "execution": {
     "iopub.execute_input": "2022-05-23T14:17:06.434926Z",
     "iopub.status.busy": "2022-05-23T14:17:06.434459Z",
     "iopub.status.idle": "2022-05-23T14:17:06.446844Z",
     "shell.execute_reply": "2022-05-23T14:17:06.446175Z"
    },
    "papermill": {
     "duration": 0.101319,
     "end_time": "2022-05-23T14:17:06.449965",
     "exception": false,
     "start_time": "2022-05-23T14:17:06.348646",
     "status": "completed"
    },
    "tags": []
   },
   "outputs": [
    {
     "name": "stdout",
     "output_type": "stream",
     "text": [
      "['t1', 't1', 't0', 't2']\n"
     ]
    },
    {
     "data": {
      "text/plain": [
       "(['succession_t0_t1',\n",
       "  'succession_t0_t2',\n",
       "  'succession_t1_t0',\n",
       "  'succession_t1_t2',\n",
       "  'succession_t2_t0',\n",
       "  'succession_t2_t1'],\n",
       " [False, True, True, True, False, False])"
      ]
     },
     "execution_count": 31,
     "metadata": {},
     "output_type": "execute_result"
    }
   ],
   "source": [
    "# Succession: b must be executed after a and a must precede b\n",
    "def succession(events, sequence):\n",
    "    features = []\n",
    "    values = []\n",
    "    for ei in sorted(events):\n",
    "        for ej in sorted(events):\n",
    "            if(ei == ej):\n",
    "                continue\n",
    "            features.append(\"succession_\"+str(ei)+\"_\"+str(ej))\n",
    "            ei_indices = [i for i, x in enumerate(sequence) if x == ei] + [-1]\n",
    "            ej_indices = [i for i, x in enumerate(sequence) if x == ej] + [-1]\n",
    "\n",
    "            last_ei = max(ei_indices)\n",
    "            last_ej = max(ej_indices)\n",
    "            \n",
    "            a_before_b = (ej not in sequence) or (last_ej > last_ei)\n",
    "            response_a_b = last_ei <= last_ej\n",
    "            values.append(response_a_b  and a_before_b)\n",
    "    return features, values\n",
    "\n",
    "property_functions.append(succession)\n",
    "\n",
    "print(pos[0])\n",
    "succession(events, pos[0])"
   ]
  },
  {
   "cell_type": "code",
   "execution_count": 32,
   "id": "d2c0d5e9",
   "metadata": {
    "execution": {
     "iopub.execute_input": "2022-05-23T14:17:06.620601Z",
     "iopub.status.busy": "2022-05-23T14:17:06.620257Z",
     "iopub.status.idle": "2022-05-23T14:17:06.635678Z",
     "shell.execute_reply": "2022-05-23T14:17:06.634257Z"
    },
    "papermill": {
     "duration": 0.105436,
     "end_time": "2022-05-23T14:17:06.638666",
     "exception": false,
     "start_time": "2022-05-23T14:17:06.533230",
     "status": "completed"
    },
    "tags": []
   },
   "outputs": [
    {
     "name": "stdout",
     "output_type": "stream",
     "text": [
      "['t1', 't1', 't0', 't2']\n"
     ]
    },
    {
     "data": {
      "text/plain": [
       "(['alt_response_t0_t1',\n",
       "  'alt_response_t0_t2',\n",
       "  'alt_response_t1_t0',\n",
       "  'alt_response_t1_t2',\n",
       "  'alt_response_t2_t0',\n",
       "  'alt_response_t2_t1'],\n",
       " [False, True, False, False, False, False])"
      ]
     },
     "execution_count": 32,
     "metadata": {},
     "output_type": "execute_result"
    }
   ],
   "source": [
    "# Alt. Response: every a must be followed by b, without any other a inbetween\n",
    "def alt_response(events, sequence):\n",
    "    features = []\n",
    "    values = []\n",
    "    for ei in sorted(events):\n",
    "        for ej in sorted(events):\n",
    "            if(ei == ej):\n",
    "                continue\n",
    "            features.append(\"alt_response_\"+str(ei)+\"_\"+str(ej))\n",
    "            \n",
    "            value = True\n",
    "            expect_ej = False\n",
    "            for e in sequence:\n",
    "                if(expect_ej and e == ei):\n",
    "                    value = False\n",
    "                    break\n",
    "                    \n",
    "                if(e == ei):\n",
    "                    expect_ej = True\n",
    "                    continue\n",
    "                    \n",
    "                if(e == ej):\n",
    "                    expect_ej = False\n",
    "                    \n",
    "            if(expect_ej):\n",
    "                value = False\n",
    "            \n",
    "            values.append(value)\n",
    "    return features, values\n",
    "\n",
    "property_functions.append(alt_response)\n",
    "\n",
    "print(pos[0])\n",
    "alt_response(events, pos[0])"
   ]
  },
  {
   "cell_type": "code",
   "execution_count": 33,
   "id": "8ed4ff8f",
   "metadata": {
    "execution": {
     "iopub.execute_input": "2022-05-23T14:17:06.824842Z",
     "iopub.status.busy": "2022-05-23T14:17:06.824296Z",
     "iopub.status.idle": "2022-05-23T14:17:06.841713Z",
     "shell.execute_reply": "2022-05-23T14:17:06.840353Z"
    },
    "papermill": {
     "duration": 0.114717,
     "end_time": "2022-05-23T14:17:06.845579",
     "exception": false,
     "start_time": "2022-05-23T14:17:06.730862",
     "status": "completed"
    },
    "tags": []
   },
   "outputs": [
    {
     "name": "stdout",
     "output_type": "stream",
     "text": [
      "['t1', 't1', 't0', 't2']\n"
     ]
    },
    {
     "data": {
      "text/plain": [
       "(['alt_precedence_t0_t1',\n",
       "  'alt_precedence_t0_t2',\n",
       "  'alt_precedence_t1_t0',\n",
       "  'alt_precedence_t1_t2',\n",
       "  'alt_precedence_t2_t0',\n",
       "  'alt_precedence_t2_t1'],\n",
       " [False, True, True, True, False, False])"
      ]
     },
     "execution_count": 33,
     "metadata": {},
     "output_type": "execute_result"
    }
   ],
   "source": [
    "# Alt. Precedence: every b must be prededed by a without any other b in between\n",
    "def alt_precedence(events, sequence):\n",
    "    features = []\n",
    "    values = []\n",
    "    for ei in sorted(events):\n",
    "        for ej in sorted(events):\n",
    "            if(ei == ej):\n",
    "                continue\n",
    "            features.append(\"alt_precedence_\"+str(ei)+\"_\"+str(ej))\n",
    "            value = True\n",
    "            expect_ei = False\n",
    "            for e in reversed(sequence):\n",
    "                if(expect_ei and e == ej):\n",
    "                    value = False\n",
    "                    break\n",
    "                    \n",
    "                if(e == ej):\n",
    "                    expect_ei = True\n",
    "                    continue\n",
    "                    \n",
    "                if(e == ei):\n",
    "                    expect_ei = False\n",
    "                    \n",
    "            if(expect_ei):\n",
    "                value = False\n",
    "            \n",
    "            values.append(value)\n",
    "    return features, values\n",
    "\n",
    "property_functions.append(alt_precedence)\n",
    "\n",
    "print(pos[0])\n",
    "alt_precedence(events, pos[0])"
   ]
  },
  {
   "cell_type": "code",
   "execution_count": 34,
   "id": "b317d117",
   "metadata": {
    "execution": {
     "iopub.execute_input": "2022-05-23T14:17:07.024605Z",
     "iopub.status.busy": "2022-05-23T14:17:07.023643Z",
     "iopub.status.idle": "2022-05-23T14:17:07.038050Z",
     "shell.execute_reply": "2022-05-23T14:17:07.036662Z"
    },
    "papermill": {
     "duration": 0.107106,
     "end_time": "2022-05-23T14:17:07.041994",
     "exception": false,
     "start_time": "2022-05-23T14:17:06.934888",
     "status": "completed"
    },
    "tags": []
   },
   "outputs": [
    {
     "name": "stdout",
     "output_type": "stream",
     "text": [
      "['t1', 't1', 't0', 't2']\n"
     ]
    },
    {
     "data": {
      "text/plain": [
       "(['alt_succession_t0_t1',\n",
       "  'alt_succession_t0_t2',\n",
       "  'alt_succession_t1_t0',\n",
       "  'alt_succession_t1_t2',\n",
       "  'alt_succession_t2_t0',\n",
       "  'alt_succession_t2_t1'],\n",
       " [False, True, False, False, False, False])"
      ]
     },
     "execution_count": 34,
     "metadata": {},
     "output_type": "execute_result"
    }
   ],
   "source": [
    "# Alt. Succession: combination of alternate response and alternate precedence\n",
    "def alt_succession(events, sequence):\n",
    "    features = []\n",
    "    values = []\n",
    "    for ei in sorted(events):\n",
    "        for ej in sorted(events):\n",
    "            if(ei == ej):\n",
    "                continue\n",
    "            features.append(\"alt_succession_\"+str(ei)+\"_\"+str(ej))\n",
    "            \n",
    "    values = [a and b for a, b in zip(alt_response(events, sequence)[1], alt_precedence(events, sequence)[1])] \n",
    "    return features, values\n",
    "\n",
    "property_functions.append(alt_succession)\n",
    "\n",
    "print(pos[0])\n",
    "alt_succession(events, pos[0])"
   ]
  },
  {
   "cell_type": "code",
   "execution_count": 35,
   "id": "6c408715",
   "metadata": {
    "execution": {
     "iopub.execute_input": "2022-05-23T14:17:07.219023Z",
     "iopub.status.busy": "2022-05-23T14:17:07.218418Z",
     "iopub.status.idle": "2022-05-23T14:17:07.232729Z",
     "shell.execute_reply": "2022-05-23T14:17:07.231321Z"
    },
    "papermill": {
     "duration": 0.105628,
     "end_time": "2022-05-23T14:17:07.235158",
     "exception": false,
     "start_time": "2022-05-23T14:17:07.129530",
     "status": "completed"
    },
    "tags": []
   },
   "outputs": [
    {
     "name": "stdout",
     "output_type": "stream",
     "text": [
      "['t1', 't0', 't2', 't2']\n"
     ]
    },
    {
     "data": {
      "text/plain": [
       "(['chain_response_t0_t1',\n",
       "  'chain_response_t0_t2',\n",
       "  'chain_response_t1_t0',\n",
       "  'chain_response_t1_t2',\n",
       "  'chain_response_t2_t0',\n",
       "  'chain_response_t2_t1'],\n",
       " [False, True, True, False, False, False])"
      ]
     },
     "execution_count": 35,
     "metadata": {},
     "output_type": "execute_result"
    }
   ],
   "source": [
    "# Chain Response: if a appears then b must appears immediatly after\n",
    "def chain_response(events, sequence):\n",
    "    features = []\n",
    "    values = []\n",
    "    for ei in sorted(events):\n",
    "        for ej in sorted(events):\n",
    "            if(ei == ej):\n",
    "                continue\n",
    "            features.append(\"chain_response_\"+str(ei)+\"_\"+str(ej))\n",
    "            \n",
    "            value = True\n",
    "            for i, e in enumerate(sequence):\n",
    "                if(e == ei and (i >= len(sequence)-1 or sequence[i+1] != ej)):\n",
    "                    value = False\n",
    "                    break\n",
    "            values.append(value)\n",
    "    return features, values\n",
    "\n",
    "property_functions.append(chain_response)\n",
    "\n",
    "print(pos[1])\n",
    "chain_response(events, pos[1])"
   ]
  },
  {
   "cell_type": "code",
   "execution_count": 36,
   "id": "5e2645d7",
   "metadata": {
    "execution": {
     "iopub.execute_input": "2022-05-23T14:17:07.409049Z",
     "iopub.status.busy": "2022-05-23T14:17:07.408583Z",
     "iopub.status.idle": "2022-05-23T14:17:07.420481Z",
     "shell.execute_reply": "2022-05-23T14:17:07.419216Z"
    },
    "papermill": {
     "duration": 0.100558,
     "end_time": "2022-05-23T14:17:07.422497",
     "exception": false,
     "start_time": "2022-05-23T14:17:07.321939",
     "status": "completed"
    },
    "tags": []
   },
   "outputs": [
    {
     "name": "stdout",
     "output_type": "stream",
     "text": [
      "['t1', 't0', 't2', 't2']\n"
     ]
    },
    {
     "data": {
      "text/plain": [
       "(['chain_precedence_t0_t1',\n",
       "  'chain_precedence_t0_t2',\n",
       "  'chain_precedence_t1_t0',\n",
       "  'chain_precedence_t1_t2',\n",
       "  'chain_precedence_t2_t0',\n",
       "  'chain_precedence_t2_t1'],\n",
       " [False, False, True, False, False, False])"
      ]
     },
     "execution_count": 36,
     "metadata": {},
     "output_type": "execute_result"
    }
   ],
   "source": [
    "# Chain Precedence: b can appear only immediatly after a\n",
    "def chain_precedence(events, sequence):\n",
    "    features = []\n",
    "    values = []\n",
    "    for ei in sorted(events):\n",
    "        for ej in sorted(events):\n",
    "            if(ei == ej):\n",
    "                continue\n",
    "            features.append(\"chain_precedence_\"+str(ei)+\"_\"+str(ej))\n",
    "            \n",
    "            value = True\n",
    "            r_sequence = sequence.copy()\n",
    "            r_sequence.reverse()\n",
    "            for i, e in enumerate(r_sequence):\n",
    "                if(e == ej and (i >= len(r_sequence)-1 or r_sequence[i+1] != ei)):\n",
    "                    value = False\n",
    "                    break\n",
    "            values.append(value)\n",
    "    return features, values\n",
    "\n",
    "property_functions.append(chain_precedence)\n",
    "\n",
    "print(pos[1])\n",
    "chain_precedence(events, pos[1])"
   ]
  },
  {
   "cell_type": "code",
   "execution_count": 37,
   "id": "fd3e3471",
   "metadata": {
    "execution": {
     "iopub.execute_input": "2022-05-23T14:17:07.596181Z",
     "iopub.status.busy": "2022-05-23T14:17:07.595660Z",
     "iopub.status.idle": "2022-05-23T14:17:07.606940Z",
     "shell.execute_reply": "2022-05-23T14:17:07.605412Z"
    },
    "papermill": {
     "duration": 0.102953,
     "end_time": "2022-05-23T14:17:07.609692",
     "exception": false,
     "start_time": "2022-05-23T14:17:07.506739",
     "status": "completed"
    },
    "tags": []
   },
   "outputs": [
    {
     "name": "stdout",
     "output_type": "stream",
     "text": [
      "['t1', 't0', 't2', 't2']\n"
     ]
    },
    {
     "data": {
      "text/plain": [
       "(['chain_succession_t0_t1',\n",
       "  'chain_succession_t0_t2',\n",
       "  'chain_succession_t1_t0',\n",
       "  'chain_succession_t1_t2',\n",
       "  'chain_succession_t2_t0',\n",
       "  'chain_succession_t2_t1'],\n",
       " [False, False, True, False, False, False])"
      ]
     },
     "execution_count": 37,
     "metadata": {},
     "output_type": "execute_result"
    }
   ],
   "source": [
    "# Chain Succession: a and b must appear next to each other\n",
    "def chain_succession(events, sequence):\n",
    "    features = []\n",
    "    values = []\n",
    "    for ei in sorted(events):\n",
    "        for ej in sorted(events):\n",
    "            if(ei == ej):\n",
    "                continue\n",
    "            features.append(\"chain_succession_\"+str(ei)+\"_\"+str(ej))\n",
    "            \n",
    "    values = [a and b for a, b in zip(chain_response(events, sequence)[1], chain_precedence(events, sequence)[1])] \n",
    "    return features, values\n",
    "\n",
    "property_functions.append(chain_succession)\n",
    "\n",
    "print(pos[1])\n",
    "chain_succession(events, pos[1])"
   ]
  },
  {
   "cell_type": "code",
   "execution_count": 38,
   "id": "0c1efa91",
   "metadata": {
    "execution": {
     "iopub.execute_input": "2022-05-23T14:17:07.788232Z",
     "iopub.status.busy": "2022-05-23T14:17:07.787859Z",
     "iopub.status.idle": "2022-05-23T14:17:07.797617Z",
     "shell.execute_reply": "2022-05-23T14:17:07.796883Z"
    },
    "papermill": {
     "duration": 0.103805,
     "end_time": "2022-05-23T14:17:07.801512",
     "exception": false,
     "start_time": "2022-05-23T14:17:07.697707",
     "status": "completed"
    },
    "tags": []
   },
   "outputs": [
    {
     "name": "stdout",
     "output_type": "stream",
     "text": [
      "['t1', 't1', 't0', 't2']\n"
     ]
    },
    {
     "data": {
      "text/plain": [
       "(['not_coexistence_t0_t1', 'not_coexistence_t0_t2', 'not_coexistence_t1_t2'],\n",
       " [False, False, False])"
      ]
     },
     "execution_count": 38,
     "metadata": {},
     "output_type": "execute_result"
    }
   ],
   "source": [
    "# Not Coexistence: only one among a and b can appears but not both\n",
    "def not_coexistence(events, sequence):\n",
    "    features = []\n",
    "    values = []\n",
    "    for idx, ei in enumerate(sorted(events)):\n",
    "        for ej in sorted(events)[idx+1:]:\n",
    "            if(ei == ej):\n",
    "                continue\n",
    "            features.append(\"not_coexistence_\"+str(ei)+\"_\"+str(ej))\n",
    "            \n",
    "            values.append(not (ei in sequence and ei in sequence))\n",
    "    return features, values\n",
    "\n",
    "property_functions.append(not_coexistence)\n",
    "\n",
    "print(pos[0])\n",
    "not_coexistence(events, pos[0])"
   ]
  },
  {
   "cell_type": "code",
   "execution_count": 39,
   "id": "40f6a4ba",
   "metadata": {
    "execution": {
     "iopub.execute_input": "2022-05-23T14:17:07.983924Z",
     "iopub.status.busy": "2022-05-23T14:17:07.983308Z",
     "iopub.status.idle": "2022-05-23T14:17:07.997104Z",
     "shell.execute_reply": "2022-05-23T14:17:07.996122Z"
    },
    "papermill": {
     "duration": 0.108629,
     "end_time": "2022-05-23T14:17:07.999357",
     "exception": false,
     "start_time": "2022-05-23T14:17:07.890728",
     "status": "completed"
    },
    "tags": []
   },
   "outputs": [
    {
     "name": "stdout",
     "output_type": "stream",
     "text": [
      "['t1', 't1', 't0', 't2']\n"
     ]
    },
    {
     "data": {
      "text/plain": [
       "(['not_precedence_t0_t1',\n",
       "  'not_precedence_t0_t2',\n",
       "  'not_precedence_t1_t0',\n",
       "  'not_precedence_t1_t2',\n",
       "  'not_precedence_t2_t0',\n",
       "  'not_precedence_t2_t1'],\n",
       " [True, False, False, False, True, True])"
      ]
     },
     "execution_count": 39,
     "metadata": {},
     "output_type": "execute_result"
    }
   ],
   "source": [
    "# Not Precedence: there is no a before any b\n",
    "def not_precedence(events, sequence):\n",
    "    features = []\n",
    "    values = []\n",
    "    for ei in sorted(events):\n",
    "        for ej in sorted(events):\n",
    "            if(ei == ej):\n",
    "                continue\n",
    "            features.append(\"not_precedence_\"+str(ei)+\"_\"+str(ej))\n",
    "            ei_indices = [i for i, x in enumerate(sequence) if x == ei]\n",
    "            ej_indices = [i for i, x in enumerate(sequence) if x == ej]\n",
    "\n",
    "            if(ej not in sequence or ei not in sequence):\n",
    "                values.append(True)\n",
    "            else:\n",
    "                first_ei = min(ei_indices)\n",
    "                last_ej = max(ej_indices)\n",
    "\n",
    "                values.append(first_ei > last_ej)\n",
    "    return features, values\n",
    "\n",
    "property_functions.append(not_precedence)\n",
    "\n",
    "print(pos[0])\n",
    "not_precedence(events, pos[0])"
   ]
  },
  {
   "cell_type": "code",
   "execution_count": 40,
   "id": "08fedbe0",
   "metadata": {
    "execution": {
     "iopub.execute_input": "2022-05-23T14:17:08.183757Z",
     "iopub.status.busy": "2022-05-23T14:17:08.183175Z",
     "iopub.status.idle": "2022-05-23T14:17:08.196147Z",
     "shell.execute_reply": "2022-05-23T14:17:08.195322Z"
    },
    "papermill": {
     "duration": 0.108548,
     "end_time": "2022-05-23T14:17:08.198215",
     "exception": false,
     "start_time": "2022-05-23T14:17:08.089667",
     "status": "completed"
    },
    "tags": []
   },
   "outputs": [
    {
     "name": "stdout",
     "output_type": "stream",
     "text": [
      "['t1', 't1', 't0', 't2']\n"
     ]
    },
    {
     "data": {
      "text/plain": [
       "(['not_succession_t0_t1',\n",
       "  'not_succession_t0_t2',\n",
       "  'not_succession_t1_t0',\n",
       "  'not_succession_t1_t2',\n",
       "  'not_succession_t2_t0',\n",
       "  'not_succession_t2_t1'],\n",
       " [True, False, False, False, True, True])"
      ]
     },
     "execution_count": 40,
     "metadata": {},
     "output_type": "execute_result"
    }
   ],
   "source": [
    "# Not Succession: a cannot be followed by b and b cannot be precede by a\n",
    "def not_succession(events, sequence):\n",
    "    features = []\n",
    "    values = []\n",
    "    for ei in sorted(events):\n",
    "        for ej in sorted(events):\n",
    "            if(ei == ej):\n",
    "                continue\n",
    "            features.append(\"not_succession_\"+str(ei)+\"_\"+str(ej))\n",
    "            \n",
    "            ei_indices = [i for i, x in enumerate(sequence) if x == ei]\n",
    "            ej_indices = [i for i, x in enumerate(sequence) if x == ej]\n",
    "            \n",
    "            value = True\n",
    "            \n",
    "            if(ei in sequence and ej in sequence):\n",
    "                first_ei = min(ei_indices)\n",
    "                last_ej = max(ej_indices)\n",
    "                value = first_ei > last_ej\n",
    "            \n",
    "            values.append(value)\n",
    "    return features, values\n",
    "\n",
    "property_functions.append(not_succession)\n",
    "\n",
    "print(pos[0])\n",
    "not_succession(events, pos[0])"
   ]
  },
  {
   "cell_type": "code",
   "execution_count": 41,
   "id": "ef664e0a",
   "metadata": {
    "execution": {
     "iopub.execute_input": "2022-05-23T14:17:08.382570Z",
     "iopub.status.busy": "2022-05-23T14:17:08.381897Z",
     "iopub.status.idle": "2022-05-23T14:17:08.394707Z",
     "shell.execute_reply": "2022-05-23T14:17:08.393430Z"
    },
    "papermill": {
     "duration": 0.10834,
     "end_time": "2022-05-23T14:17:08.397661",
     "exception": false,
     "start_time": "2022-05-23T14:17:08.289321",
     "status": "completed"
    },
    "tags": []
   },
   "outputs": [
    {
     "name": "stdout",
     "output_type": "stream",
     "text": [
      "['t1', 't1', 't0', 't2']\n"
     ]
    },
    {
     "data": {
      "text/plain": [
       "(['not_chain_succession_t0_t1',\n",
       "  'not_chain_succession_t0_t2',\n",
       "  'not_chain_succession_t1_t2'],\n",
       " [False, False, True])"
      ]
     },
     "execution_count": 41,
     "metadata": {},
     "output_type": "execute_result"
    }
   ],
   "source": [
    "# Not Chain Succession: a and b cannot appears next to each other\n",
    "def not_chain_succession(events, sequence):\n",
    "    features = []\n",
    "    values = []\n",
    "    for idx, ei in enumerate(sorted(events)):\n",
    "        for ej in sorted(events)[idx+1:]:\n",
    "            if(ei == ej):\n",
    "                continue\n",
    "            features.append(\"not_chain_succession_\"+str(ei)+\"_\"+str(ej))\n",
    "        \n",
    "            value = True\n",
    "            for i, e in enumerate(sequence):\n",
    "                if(i >= len(sequence)-1):\n",
    "                    break\n",
    "                if(e == ei and sequence[i+1] == ej or e == ej and sequence[i+1] == ei):\n",
    "                    value = False\n",
    "                    break\n",
    "            values.append(value)\n",
    "    return features, values\n",
    "\n",
    "property_functions.append(not_chain_succession)\n",
    "\n",
    "print(pos[0])\n",
    "not_chain_succession(events, pos[0])"
   ]
  },
  {
   "cell_type": "markdown",
   "id": "62798b03",
   "metadata": {
    "papermill": {
     "duration": 0.093941,
     "end_time": "2022-05-23T14:17:08.582979",
     "exception": false,
     "start_time": "2022-05-23T14:17:08.489038",
     "status": "completed"
    },
    "tags": []
   },
   "source": [
    "# 4) Learning with properties encoded"
   ]
  },
  {
   "cell_type": "code",
   "execution_count": 42,
   "id": "3171423d",
   "metadata": {
    "execution": {
     "iopub.execute_input": "2022-05-23T14:17:08.759976Z",
     "iopub.status.busy": "2022-05-23T14:17:08.759688Z",
     "iopub.status.idle": "2022-05-23T14:17:08.790061Z",
     "shell.execute_reply": "2022-05-23T14:17:08.788910Z"
    },
    "papermill": {
     "duration": 0.121737,
     "end_time": "2022-05-23T14:17:08.792549",
     "exception": false,
     "start_time": "2022-05-23T14:17:08.670812",
     "status": "completed"
    },
    "tags": []
   },
   "outputs": [
    {
     "name": "stdout",
     "output_type": "stream",
     "text": [
      "StateTransitionsDataset summary:\n",
      " Features: \n",
      "  existence_t0: ['False', 'True']\n",
      "  existence_t1: ['False', 'True']\n",
      "  existence_t2: ['False', 'True']\n",
      "  not_precedence_t0_t1: ['False', 'True']\n",
      "  not_precedence_t0_t2: ['False', 'True']\n",
      "  not_precedence_t1_t0: ['False', 'True']\n",
      "  not_precedence_t1_t2: ['False', 'True']\n",
      "  not_precedence_t2_t0: ['False', 'True']\n",
      "  not_precedence_t2_t1: ['False', 'True']\n",
      "  ev_0: ['t0', 't1', 't2']\n",
      "  ev_1: ['t0', 't1', 't2']\n",
      "  ev_2: ['t0', 't1', 't2']\n",
      "  ev_3: ['t0', 't1', 't2']\n",
      " Targets: \n",
      "  class: ['neg', 'pos']\n",
      " Data:\n",
      "  (['True', 'True', 'True', 'True', 'False', 'False', 'False', 'True', 'True', 't1', 't1', 't0', 't2'], ['pos'])\n",
      "  (['True', 'True', 'True', 'True', 'False', 'False', 'False', 'True', 'True', 't1', 't0', 't2', 't2'], ['pos'])\n",
      "  (['True', 'True', 'True', 'False', 'False', 'False', 'False', 'True', 'False', 't1', 't0', 't2', 't1'], ['pos'])\n",
      "  (['True', 'True', 'True', 'False', 'False', 'False', 'False', 'True', 'True', 't1', 't0', 't1', 't2'], ['pos'])\n",
      "  (['True', 'True', 'True', 'True', 'False', 'False', 'False', 'True', 'True', 't1', 't0', 't0', 't2'], ['pos'])\n",
      "  (['True', 'False', 'True', 'True', 'False', 'True', 'True', 'True', 'True', 't0', 't2', 't2', 't2'], ['pos'])\n",
      "  (['True', 'True', 'True', 'False', 'False', 'True', 'True', 'True', 'False', 't0', 't2', 't2', 't1'], ['pos'])\n",
      "  (['True', 'True', 'True', 'False', 'False', 'True', 'False', 'True', 'False', 't0', 't2', 't1', 't2'], ['pos'])\n",
      "  (['True', 'True', 'True', 'False', 'False', 'True', 'True', 'True', 'False', 't0', 't2', 't1', 't1'], ['pos'])\n",
      "  (['True', 'True', 'True', 'False', 'False', 'True', 'False', 'True', 'True', 't0', 't1', 't2', 't2'], ['pos'])\n",
      "  (['True', 'True', 'True', 'False', 'False', 'True', 'False', 'True', 'False', 't0', 't1', 't2', 't1'], ['pos'])\n",
      "  (['True', 'True', 'True', 'False', 'False', 'True', 'False', 'True', 'True', 't0', 't1', 't1', 't2'], ['pos'])\n",
      "  (['True', 'True', 'True', 'False', 'False', 'False', 'False', 'True', 'True', 't0', 't1', 't0', 't2'], ['pos'])\n",
      "  (['True', 'False', 'True', 'True', 'False', 'True', 'True', 'True', 'True', 't0', 't0', 't2', 't2'], ['pos'])\n",
      "  (['True', 'True', 'True', 'False', 'False', 'True', 'True', 'True', 'False', 't0', 't0', 't2', 't1'], ['pos'])\n",
      "  (['True', 'True', 'True', 'False', 'False', 'True', 'False', 'True', 'True', 't0', 't0', 't1', 't2'], ['pos'])\n",
      "  (['True', 'False', 'True', 'True', 'False', 'True', 'True', 'True', 'True', 't0', 't0', 't0', 't2'], ['pos'])\n",
      "  (['False', 'False', 'True', 'True', 'True', 'True', 'True', 'True', 'True', 't2', 't2', 't2', 't2'], ['neg'])\n",
      "  (['False', 'True', 'True', 'True', 'True', 'True', 'True', 'True', 'False', 't2', 't2', 't2', 't1'], ['neg'])\n",
      "  (['True', 'False', 'True', 'True', 'True', 'True', 'True', 'False', 'True', 't2', 't2', 't2', 't0'], ['neg'])\n",
      "  (['False', 'True', 'True', 'True', 'True', 'True', 'False', 'True', 'False', 't2', 't2', 't1', 't2'], ['neg'])\n",
      "  (['False', 'True', 'True', 'True', 'True', 'True', 'True', 'True', 'False', 't2', 't2', 't1', 't1'], ['neg'])\n",
      "  (['True', 'True', 'True', 'True', 'True', 'False', 'True', 'False', 'False', 't2', 't2', 't1', 't0'], ['neg'])\n",
      "  (['True', 'False', 'True', 'True', 'False', 'True', 'True', 'False', 'True', 't2', 't2', 't0', 't2'], ['neg'])\n",
      "  (['True', 'True', 'True', 'False', 'True', 'True', 'True', 'False', 'False', 't2', 't2', 't0', 't1'], ['neg'])\n",
      "  (['True', 'False', 'True', 'True', 'True', 'True', 'True', 'False', 'True', 't2', 't2', 't0', 't0'], ['neg'])\n",
      "  (['False', 'True', 'True', 'True', 'True', 'True', 'False', 'True', 'False', 't2', 't1', 't2', 't2'], ['neg'])\n",
      "  (['False', 'True', 'True', 'True', 'True', 'True', 'False', 'True', 'False', 't2', 't1', 't2', 't1'], ['neg'])\n",
      "  (['True', 'True', 'True', 'True', 'True', 'False', 'False', 'False', 'False', 't2', 't1', 't2', 't0'], ['neg'])\n",
      "  (['False', 'True', 'True', 'True', 'True', 'True', 'False', 'True', 'False', 't2', 't1', 't1', 't2'], ['neg'])\n",
      "  (['False', 'True', 'True', 'True', 'True', 'True', 'True', 'True', 'False', 't2', 't1', 't1', 't1'], ['neg'])\n",
      "  (['True', 'True', 'True', 'True', 'True', 'False', 'True', 'False', 'False', 't2', 't1', 't1', 't0'], ['neg'])\n",
      "  (['True', 'True', 'True', 'True', 'False', 'False', 'False', 'False', 'False', 't2', 't1', 't0', 't2'], ['neg'])\n",
      "  (['True', 'True', 'True', 'False', 'True', 'False', 'True', 'False', 'False', 't2', 't1', 't0', 't1'], ['neg'])\n",
      "  (['True', 'True', 'True', 'True', 'True', 'False', 'True', 'False', 'False', 't2', 't1', 't0', 't0'], ['neg'])\n",
      "  (['True', 'False', 'True', 'True', 'False', 'True', 'True', 'False', 'True', 't2', 't0', 't2', 't2'], ['neg'])\n",
      "  (['True', 'True', 'True', 'False', 'False', 'True', 'True', 'False', 'False', 't2', 't0', 't2', 't1'], ['neg'])\n",
      "  (['True', 'False', 'True', 'True', 'False', 'True', 'True', 'False', 'True', 't2', 't0', 't2', 't0'], ['neg'])\n",
      "  (['True', 'True', 'True', 'False', 'False', 'True', 'False', 'False', 'False', 't2', 't0', 't1', 't2'], ['neg'])\n",
      "  (['True', 'True', 'True', 'False', 'True', 'True', 'True', 'False', 'False', 't2', 't0', 't1', 't1'], ['neg'])\n",
      "  (['True', 'True', 'True', 'False', 'True', 'False', 'True', 'False', 'False', 't2', 't0', 't1', 't0'], ['neg'])\n",
      "  (['True', 'False', 'True', 'True', 'False', 'True', 'True', 'False', 'True', 't2', 't0', 't0', 't2'], ['neg'])\n",
      "  (['True', 'True', 'True', 'False', 'True', 'True', 'True', 'False', 'False', 't2', 't0', 't0', 't1'], ['neg'])\n",
      "  (['True', 'False', 'True', 'True', 'True', 'True', 'True', 'False', 'True', 't2', 't0', 't0', 't0'], ['neg'])\n",
      "  (['False', 'True', 'True', 'True', 'True', 'True', 'False', 'True', 'True', 't1', 't2', 't2', 't2'], ['neg'])\n",
      "  (['False', 'True', 'True', 'True', 'True', 'True', 'False', 'True', 'False', 't1', 't2', 't2', 't1'], ['neg'])\n",
      "  (['True', 'True', 'True', 'True', 'True', 'False', 'False', 'False', 'True', 't1', 't2', 't2', 't0'], ['neg'])\n",
      "  (['False', 'True', 'True', 'True', 'True', 'True', 'False', 'True', 'False', 't1', 't2', 't1', 't2'], ['neg'])\n",
      "  (['False', 'True', 'True', 'True', 'True', 'True', 'False', 'True', 'False', 't1', 't2', 't1', 't1'], ['neg'])\n",
      "  (['True', 'True', 'True', 'True', 'True', 'False', 'False', 'False', 'False', 't1', 't2', 't1', 't0'], ['neg'])\n",
      "  (['True', 'True', 'True', 'True', 'False', 'False', 'False', 'False', 'True', 't1', 't2', 't0', 't2'], ['neg'])\n",
      "  (['True', 'True', 'True', 'False', 'True', 'False', 'False', 'False', 'False', 't1', 't2', 't0', 't1'], ['neg'])\n",
      "  (['True', 'True', 'True', 'True', 'True', 'False', 'False', 'False', 'True', 't1', 't2', 't0', 't0'], ['neg'])\n",
      "  (['False', 'True', 'True', 'True', 'True', 'True', 'False', 'True', 'True', 't1', 't1', 't2', 't2'], ['neg'])\n",
      "  (['False', 'True', 'True', 'True', 'True', 'True', 'False', 'True', 'False', 't1', 't1', 't2', 't1'], ['neg'])\n",
      "  (['True', 'True', 'True', 'True', 'True', 'False', 'False', 'False', 'True', 't1', 't1', 't2', 't0'], ['neg'])\n",
      "  (['False', 'True', 'True', 'True', 'True', 'True', 'False', 'True', 'True', 't1', 't1', 't1', 't2'], ['neg'])\n",
      "  (['False', 'True', 'False', 'True', 'True', 'True', 'True', 'True', 'True', 't1', 't1', 't1', 't1'], ['neg'])\n",
      "  (['True', 'True', 'False', 'True', 'True', 'False', 'True', 'True', 'True', 't1', 't1', 't1', 't0'], ['neg'])\n",
      "  (['True', 'True', 'False', 'False', 'True', 'False', 'True', 'True', 'True', 't1', 't1', 't0', 't1'], ['neg'])\n",
      "  (['True', 'True', 'False', 'True', 'True', 'False', 'True', 'True', 'True', 't1', 't1', 't0', 't0'], ['neg'])\n",
      "  (['True', 'True', 'True', 'True', 'False', 'False', 'False', 'False', 'True', 't1', 't0', 't2', 't0'], ['neg'])\n",
      "  (['True', 'True', 'False', 'False', 'True', 'False', 'True', 'True', 'True', 't1', 't0', 't1', 't1'], ['neg'])\n",
      "  (['True', 'True', 'False', 'False', 'True', 'False', 'True', 'True', 'True', 't1', 't0', 't1', 't0'], ['neg'])\n",
      "  (['True', 'True', 'False', 'False', 'True', 'False', 'True', 'True', 'True', 't1', 't0', 't0', 't1'], ['neg'])\n",
      "  (['True', 'True', 'False', 'True', 'True', 'False', 'True', 'True', 'True', 't1', 't0', 't0', 't0'], ['neg'])\n",
      "  (['True', 'False', 'True', 'True', 'False', 'True', 'True', 'False', 'True', 't0', 't2', 't2', 't0'], ['neg'])\n",
      "  (['True', 'True', 'True', 'False', 'False', 'False', 'True', 'False', 'False', 't0', 't2', 't1', 't0'], ['neg'])\n",
      "  (['True', 'False', 'True', 'True', 'False', 'True', 'True', 'False', 'True', 't0', 't2', 't0', 't2'], ['neg'])\n",
      "  (['True', 'True', 'True', 'False', 'False', 'True', 'True', 'False', 'False', 't0', 't2', 't0', 't1'], ['neg'])\n",
      "  (['True', 'False', 'True', 'True', 'False', 'True', 'True', 'False', 'True', 't0', 't2', 't0', 't0'], ['neg'])\n",
      "  (['True', 'True', 'True', 'False', 'False', 'False', 'False', 'False', 'True', 't0', 't1', 't2', 't0'], ['neg'])\n",
      "  (['True', 'True', 'False', 'False', 'True', 'True', 'True', 'True', 'True', 't0', 't1', 't1', 't1'], ['neg'])\n",
      "  (['True', 'True', 'False', 'False', 'True', 'False', 'True', 'True', 'True', 't0', 't1', 't1', 't0'], ['neg'])\n",
      "  (['True', 'True', 'False', 'False', 'True', 'False', 'True', 'True', 'True', 't0', 't1', 't0', 't1'], ['neg'])\n",
      "  (['True', 'True', 'False', 'False', 'True', 'False', 'True', 'True', 'True', 't0', 't1', 't0', 't0'], ['neg'])\n",
      "  (['True', 'False', 'True', 'True', 'False', 'True', 'True', 'False', 'True', 't0', 't0', 't2', 't0'], ['neg'])\n",
      "  (['True', 'True', 'False', 'False', 'True', 'True', 'True', 'True', 'True', 't0', 't0', 't1', 't1'], ['neg'])\n",
      "  (['True', 'True', 'False', 'False', 'True', 'False', 'True', 'True', 'True', 't0', 't0', 't1', 't0'], ['neg'])\n",
      "  (['True', 'True', 'False', 'False', 'True', 'True', 'True', 'True', 'True', 't0', 't0', 't0', 't1'], ['neg'])\n",
      "  (['True', 'False', 'False', 'True', 'True', 'True', 'True', 'True', 'True', 't0', 't0', 't0', 't0'], ['neg'])\n",
      "\n"
     ]
    }
   ],
   "source": [
    "# Reduce properties variables\n",
    "GULA_property_functions = [existence, not_precedence]\n",
    "\n",
    "feature_names, data = convert_to_LFIT(events,pos,neg,GULA_property_functions)\n",
    "\n",
    "# trick change variable order to force pride to use pos in last resort\n",
    "feature_names = feature_names[LEN_SEQUENCE:] + feature_names[:LEN_SEQUENCE]\n",
    "data = [(s[LEN_SEQUENCE:] + s[:LEN_SEQUENCE],s_) for (s,s_) in data]\n",
    "\n",
    "# Convert array data as a StateTransitionsDataset using pylfit.preprocessing\n",
    "dataset = pylfit.preprocessing.transitions_dataset_from_array(data=data, \\\n",
    "feature_names=feature_names, target_names=[\"class\"])\n",
    "dataset.summary()\n",
    "print()"
   ]
  },
  {
   "cell_type": "markdown",
   "id": "b7a93b81",
   "metadata": {
    "papermill": {
     "duration": 0.092165,
     "end_time": "2022-05-23T14:17:08.975479",
     "exception": false,
     "start_time": "2022-05-23T14:17:08.883314",
     "status": "completed"
    },
    "tags": []
   },
   "source": [
    "## 4.1) GULA: with only usefull properties"
   ]
  },
  {
   "cell_type": "code",
   "execution_count": 43,
   "id": "0af5e6f3",
   "metadata": {
    "execution": {
     "iopub.execute_input": "2022-05-23T14:17:09.161401Z",
     "iopub.status.busy": "2022-05-23T14:17:09.161092Z",
     "iopub.status.idle": "2022-05-23T14:17:12.900051Z",
     "shell.execute_reply": "2022-05-23T14:17:12.899169Z"
    },
    "papermill": {
     "duration": 3.832665,
     "end_time": "2022-05-23T14:17:12.902576",
     "exception": false,
     "start_time": "2022-05-23T14:17:09.069911",
     "status": "completed"
    },
    "tags": []
   },
   "outputs": [
    {
     "name": "stderr",
     "output_type": "stream",
     "text": [
      "Starting fit with GULA\n",
      "Learning possibilities...\n",
      "\n",
      "Converting transitions to nparray...\n",
      "Sorting transitions...\n",
      "Grouping transitions by initial state...\n",
      "Negative examples satisfied: 17/17, rules: 102               \n",
      "Start learning of var=1/1, val=1/2\n",
      "Negative examples satisfied: 64/64, rules: 817               \n",
      "Start learning of var=1/1, val=2/2\n",
      "Learning impossibilities...\n",
      "computing likeliness rules weights...\n",
      "Computing unlikeliness rules weights\n"
     ]
    }
   ],
   "source": [
    "# Initialize a WDMVLP with the dataset variables and set GULA as learning algorithm\n",
    "model = pylfit.models.WDMVLP(features=dataset.features, targets=dataset.targets)\n",
    "model.compile(algorithm=\"gula\") # model.compile(algorithm=\"pride\")\n",
    "\n",
    "# Fit the DMVLP on the dataset\n",
    "model.fit(dataset=dataset, verbose=1)\n",
    "#model.summary()"
   ]
  },
  {
   "cell_type": "code",
   "execution_count": 44,
   "id": "b6935b81",
   "metadata": {
    "execution": {
     "iopub.execute_input": "2022-05-23T14:17:13.095871Z",
     "iopub.status.busy": "2022-05-23T14:17:13.094948Z",
     "iopub.status.idle": "2022-05-23T14:17:13.103141Z",
     "shell.execute_reply": "2022-05-23T14:17:13.102491Z"
    },
    "papermill": {
     "duration": 0.106232,
     "end_time": "2022-05-23T14:17:13.105047",
     "exception": false,
     "start_time": "2022-05-23T14:17:12.998815",
     "status": "completed"
    },
    "tags": []
   },
   "outputs": [
    {
     "name": "stdout",
     "output_type": "stream",
     "text": [
      "Rules with class neg : 108\n",
      "Rules with class pos : 801\n"
     ]
    }
   ],
   "source": [
    "for label in model.targets[0][1]:\n",
    "    nb_rules = len([r for (w,r) in model.rules if model.targets[r.head_variable][1][r.head_value] == label])\n",
    "    print(\"Rules with class\", label,\":\", nb_rules)"
   ]
  },
  {
   "cell_type": "code",
   "execution_count": 45,
   "id": "3608bd50",
   "metadata": {
    "execution": {
     "iopub.execute_input": "2022-05-23T14:17:13.299772Z",
     "iopub.status.busy": "2022-05-23T14:17:13.299486Z",
     "iopub.status.idle": "2022-05-23T14:17:13.313078Z",
     "shell.execute_reply": "2022-05-23T14:17:13.312147Z"
    },
    "papermill": {
     "duration": 0.115519,
     "end_time": "2022-05-23T14:17:13.316331",
     "exception": false,
     "start_time": "2022-05-23T14:17:13.200812",
     "status": "completed"
    },
    "tags": []
   },
   "outputs": [
    {
     "name": "stdout",
     "output_type": "stream",
     "text": [
      "Best neg rules:\n",
      "[(48, 'class(neg) :- not_precedence_t0_t2(True).'), (33, 'class(neg) :- not_precedence_t2_t0(False).'), (27, 'class(neg) :- ev_3(t0).'), (27, 'class(neg) :- ev_0(t2).'), (17, 'class(neg) :- not_precedence_t1_t0(False), not_precedence_t1_t2(True).'), (17, 'class(neg) :- not_precedence_t0_t1(True), not_precedence_t2_t1(False).'), (16, 'class(neg) :- existence_t2(False).'), (16, 'class(neg) :- existence_t0(False).'), (15, 'class(neg) :- existence_t1(True), not_precedence_t1_t2(True), not_precedence_t2_t1(True).'), (15, 'class(neg) :- existence_t1(True), not_precedence_t0_t1(True), not_precedence_t1_t0(True).')]\n",
      "Best pos rules:\n",
      "[(17, 'class(pos) :- not_precedence_t0_t2(False), not_precedence_t2_t0(True).'), (17, 'class(pos) :- existence_t0(True), existence_t2(True), not_precedence_t2_t0(True).'), (12, 'class(pos) :- existence_t2(True), not_precedence_t2_t0(True), ev_0(t0).'), (12, 'class(pos) :- existence_t0(True), not_precedence_t2_t0(True), ev_3(t2).'), (11, 'class(pos) :- existence_t2(True), not_precedence_t0_t1(False), not_precedence_t2_t0(True).'), (11, 'class(pos) :- existence_t0(True), not_precedence_t1_t2(False), not_precedence_t2_t0(True).'), (8, 'class(pos) :- not_precedence_t2_t0(True), ev_0(t0), ev_3(t2).'), (8, 'class(pos) :- not_precedence_t0_t1(False), not_precedence_t1_t2(False), not_precedence_t2_t0(True).'), (8, 'class(pos) :- existence_t2(True), not_precedence_t2_t0(True), ev_1(t0).'), (8, 'class(pos) :- existence_t0(True), not_precedence_t2_t0(True), ev_2(t2).')]\n"
     ]
    }
   ],
   "source": [
    "for label in model.targets[0][1]:\n",
    "    print(\"Best\",label,\"rules:\")\n",
    "    print(sorted([(w,r.logic_form(model.features,model.targets)) for w,r in model.rules if model.targets[r.head_variable][1][r.head_value] == label and w > 0], reverse=True)[:10])"
   ]
  },
  {
   "cell_type": "markdown",
   "id": "1585c2ff",
   "metadata": {
    "papermill": {
     "duration": 0.094215,
     "end_time": "2022-05-23T14:17:13.504211",
     "exception": false,
     "start_time": "2022-05-23T14:17:13.409996",
     "status": "completed"
    },
    "tags": []
   },
   "source": [
    "## 4.2) Pride: with only usefull properties"
   ]
  },
  {
   "cell_type": "code",
   "execution_count": 46,
   "id": "229ef32b",
   "metadata": {
    "execution": {
     "iopub.execute_input": "2022-05-23T14:17:13.699044Z",
     "iopub.status.busy": "2022-05-23T14:17:13.698764Z",
     "iopub.status.idle": "2022-05-23T14:17:13.718215Z",
     "shell.execute_reply": "2022-05-23T14:17:13.717321Z"
    },
    "papermill": {
     "duration": 0.119992,
     "end_time": "2022-05-23T14:17:13.720815",
     "exception": false,
     "start_time": "2022-05-23T14:17:13.600823",
     "status": "completed"
    },
    "tags": []
   },
   "outputs": [
    {
     "name": "stdout",
     "output_type": "stream",
     "text": [
      "WDMVLP summary:\n",
      " Algorithm: pride\n",
      " Features: \n",
      "  existence_t0: ['False', 'True']\n",
      "  existence_t1: ['False', 'True']\n",
      "  existence_t2: ['False', 'True']\n",
      "  not_precedence_t0_t1: ['False', 'True']\n",
      "  not_precedence_t0_t2: ['False', 'True']\n",
      "  not_precedence_t1_t0: ['False', 'True']\n",
      "  not_precedence_t1_t2: ['False', 'True']\n",
      "  not_precedence_t2_t0: ['False', 'True']\n",
      "  not_precedence_t2_t1: ['False', 'True']\n",
      "  ev_0: ['t0', 't1', 't2']\n",
      "  ev_1: ['t0', 't1', 't2']\n",
      "  ev_2: ['t0', 't1', 't2']\n",
      "  ev_3: ['t0', 't1', 't2']\n",
      " Targets: \n",
      "  class: ['neg', 'pos']\n",
      " Likeliness rules:\n",
      "  16, class(neg) :- existence_t2(False).\n",
      "  33, class(neg) :- not_precedence_t2_t0(False).\n",
      "  16, class(neg) :- existence_t0(False).\n",
      "  6, class(pos) :- not_precedence_t1_t0(False), not_precedence_t1_t2(False), not_precedence_t2_t0(True).\n",
      "  8, class(pos) :- not_precedence_t0_t1(False), not_precedence_t1_t2(False), not_precedence_t2_t0(True).\n",
      "  17, class(pos) :- existence_t0(True), existence_t2(True), not_precedence_t2_t0(True).\n",
      " Unlikeliness rules:\n",
      "  6, class(neg) :- not_precedence_t1_t0(False), not_precedence_t1_t2(False), not_precedence_t2_t0(True).\n",
      "  8, class(neg) :- not_precedence_t0_t1(False), not_precedence_t1_t2(False), not_precedence_t2_t0(True).\n",
      "  17, class(neg) :- existence_t0(True), existence_t2(True), not_precedence_t2_t0(True).\n",
      "  16, class(pos) :- existence_t2(False).\n",
      "  33, class(pos) :- not_precedence_t2_t0(False).\n",
      "  16, class(pos) :- existence_t0(False).\n"
     ]
    }
   ],
   "source": [
    "# Initialize a WDMVLP with the dataset variables and set GULA as learning algorithm\n",
    "model = pylfit.models.WDMVLP(features=dataset.features, targets=dataset.targets)\n",
    "model.compile(algorithm=\"pride\") # model.compile(algorithm=\"pride\")\n",
    "\n",
    "# Fit the DMVLP on the dataset\n",
    "model.fit(dataset=dataset)\n",
    "model.summary()"
   ]
  },
  {
   "cell_type": "markdown",
   "id": "d656e54f",
   "metadata": {
    "papermill": {
     "duration": 0.097141,
     "end_time": "2022-05-23T14:17:13.912298",
     "exception": false,
     "start_time": "2022-05-23T14:17:13.815157",
     "status": "completed"
    },
    "tags": []
   },
   "source": [
    "## 4.3) Pride: with all properties"
   ]
  },
  {
   "cell_type": "code",
   "execution_count": 47,
   "id": "679a2039",
   "metadata": {
    "execution": {
     "iopub.execute_input": "2022-05-23T14:17:14.106944Z",
     "iopub.status.busy": "2022-05-23T14:17:14.106297Z",
     "iopub.status.idle": "2022-05-23T14:17:14.218543Z",
     "shell.execute_reply": "2022-05-23T14:17:14.217496Z"
    },
    "papermill": {
     "duration": 0.213451,
     "end_time": "2022-05-23T14:17:14.221428",
     "exception": false,
     "start_time": "2022-05-23T14:17:14.007977",
     "status": "completed"
    },
    "tags": []
   },
   "outputs": [
    {
     "name": "stdout",
     "output_type": "stream",
     "text": [
      "StateTransitionsDataset summary:\n",
      " Features: \n",
      "  ltl_Finally_t0: ['False', 'True']\n",
      "  ltl_Finally_t1: ['False', 'True']\n",
      "  ltl_Finally_t2: ['False', 'True']\n",
      "  ltl_Globally_t0: ['False', 'True']\n",
      "  ltl_Globally_t1: ['False', 'True']\n",
      "  ltl_Globally_t2: ['False', 'True']\n",
      "  ltl_t0_Until_t1: ['False', 'True']\n",
      "  ltl_t0_Until_t2: ['False', 'True']\n",
      "  ltl_t1_Until_t0: ['False', 'True']\n",
      "  ltl_t1_Until_t2: ['False', 'True']\n",
      "  ltl_t2_Until_t0: ['False', 'True']\n",
      "  ltl_t2_Until_t1: ['False', 'True']\n",
      "  existence_t0: ['False', 'True']\n",
      "  existence_t1: ['False', 'True']\n",
      "  existence_t2: ['False', 'True']\n",
      "  absence_2_t0: ['False', 'True']\n",
      "  absence_2_t1: ['False', 'True']\n",
      "  absence_2_t2: ['False', 'True']\n",
      "  choice_t0_t1: ['False', 'True']\n",
      "  choice_t0_t2: ['False', 'True']\n",
      "  choice_t1_t2: ['False', 'True']\n",
      "  exclusive_choice_t0_t1: ['False', 'True']\n",
      "  exclusive_choice_t0_t2: ['False', 'True']\n",
      "  exclusive_choice_t1_t2: ['False', 'True']\n",
      "  resp_existence_t0_t1: ['False', 'True']\n",
      "  resp_existence_t0_t2: ['False', 'True']\n",
      "  resp_existence_t1_t2: ['False', 'True']\n",
      "  coexistence_t0_t1: ['False', 'True']\n",
      "  coexistence_t0_t2: ['False', 'True']\n",
      "  coexistence_t1_t2: ['False', 'True']\n",
      "  response_t0_t1: ['False', 'True']\n",
      "  response_t0_t2: ['False', 'True']\n",
      "  response_t1_t0: ['False', 'True']\n",
      "  response_t1_t2: ['False', 'True']\n",
      "  response_t2_t0: ['False', 'True']\n",
      "  response_t2_t1: ['False', 'True']\n",
      "  precedence_t0_t1: ['False', 'True']\n",
      "  precedence_t0_t2: ['False', 'True']\n",
      "  precedence_t1_t0: ['False', 'True']\n",
      "  precedence_t1_t2: ['False', 'True']\n",
      "  precedence_t2_t0: ['False', 'True']\n",
      "  precedence_t2_t1: ['False', 'True']\n",
      "  succession_t0_t1: ['False', 'True']\n",
      "  succession_t0_t2: ['False', 'True']\n",
      "  succession_t1_t0: ['False', 'True']\n",
      "  succession_t1_t2: ['False', 'True']\n",
      "  succession_t2_t0: ['False', 'True']\n",
      "  succession_t2_t1: ['False', 'True']\n",
      "  alt_response_t0_t1: ['False', 'True']\n",
      "  alt_response_t0_t2: ['False', 'True']\n",
      "  alt_response_t1_t0: ['False', 'True']\n",
      "  alt_response_t1_t2: ['False', 'True']\n",
      "  alt_response_t2_t0: ['False', 'True']\n",
      "  alt_response_t2_t1: ['False', 'True']\n",
      "  alt_precedence_t0_t1: ['False', 'True']\n",
      "  alt_precedence_t0_t2: ['False', 'True']\n",
      "  alt_precedence_t1_t0: ['False', 'True']\n",
      "  alt_precedence_t1_t2: ['False', 'True']\n",
      "  alt_precedence_t2_t0: ['False', 'True']\n",
      "  alt_precedence_t2_t1: ['False', 'True']\n",
      "  alt_succession_t0_t1: ['False', 'True']\n",
      "  alt_succession_t0_t2: ['False', 'True']\n",
      "  alt_succession_t1_t0: ['False', 'True']\n",
      "  alt_succession_t1_t2: ['False', 'True']\n",
      "  alt_succession_t2_t0: ['False', 'True']\n",
      "  alt_succession_t2_t1: ['False', 'True']\n",
      "  chain_response_t0_t1: ['False', 'True']\n",
      "  chain_response_t0_t2: ['False', 'True']\n",
      "  chain_response_t1_t0: ['False', 'True']\n",
      "  chain_response_t1_t2: ['False', 'True']\n",
      "  chain_response_t2_t0: ['False', 'True']\n",
      "  chain_response_t2_t1: ['False', 'True']\n",
      "  chain_precedence_t0_t1: ['False', 'True']\n",
      "  chain_precedence_t0_t2: ['False', 'True']\n",
      "  chain_precedence_t1_t0: ['False', 'True']\n",
      "  chain_precedence_t1_t2: ['False', 'True']\n",
      "  chain_precedence_t2_t0: ['False', 'True']\n",
      "  chain_precedence_t2_t1: ['False', 'True']\n",
      "  chain_succession_t0_t1: ['False', 'True']\n",
      "  chain_succession_t0_t2: ['False', 'True']\n",
      "  chain_succession_t1_t0: ['False', 'True']\n",
      "  chain_succession_t1_t2: ['False', 'True']\n",
      "  chain_succession_t2_t0: ['False', 'True']\n",
      "  chain_succession_t2_t1: ['False', 'True']\n",
      "  not_coexistence_t0_t1: ['False', 'True']\n",
      "  not_coexistence_t0_t2: ['False', 'True']\n",
      "  not_coexistence_t1_t2: ['False', 'True']\n",
      "  not_precedence_t0_t1: ['False', 'True']\n",
      "  not_precedence_t0_t2: ['False', 'True']\n",
      "  not_precedence_t1_t0: ['False', 'True']\n",
      "  not_precedence_t1_t2: ['False', 'True']\n",
      "  not_precedence_t2_t0: ['False', 'True']\n",
      "  not_precedence_t2_t1: ['False', 'True']\n",
      "  not_succession_t0_t1: ['False', 'True']\n",
      "  not_succession_t0_t2: ['False', 'True']\n",
      "  not_succession_t1_t0: ['False', 'True']\n",
      "  not_succession_t1_t2: ['False', 'True']\n",
      "  not_succession_t2_t0: ['False', 'True']\n",
      "  not_succession_t2_t1: ['False', 'True']\n",
      "  not_chain_succession_t0_t1: ['False', 'True']\n",
      "  not_chain_succession_t0_t2: ['False', 'True']\n",
      "  not_chain_succession_t1_t2: ['False', 'True']\n",
      "  ev_0: ['t0', 't1', 't2']\n",
      "  ev_1: ['t0', 't1', 't2']\n",
      "  ev_2: ['t0', 't1', 't2']\n",
      "  ev_3: ['t0', 't1', 't2']\n",
      " Targets: \n",
      "  class: ['neg', 'pos']\n",
      " Data:\n",
      "  (['True', 'True', 'True', 'False', 'False', 'False', 'True', 'False', 'True', 'False', 'False', 'True', 'True', 'True', 'True', 'True', 'False', 'True', 'True', 'True', 'True', 'False', 'False', 'False', 'True', 'True', 'True', 'True', 'True', 'True', 'False', 'True', 'True', 'True', 'False', 'False', 'False', 'False', 'False', 'False', 'False', 'False', 'False', 'True', 'True', 'True', 'False', 'False', 'False', 'True', 'False', 'False', 'False', 'False', 'False', 'True', 'True', 'True', 'False', 'False', 'False', 'True', 'False', 'False', 'False', 'False', 'False', 'True', 'False', 'False', 'False', 'False', 'False', 'True', 'True', 'False', 'False', 'False', 'False', 'True', 'False', 'False', 'False', 'False', 'False', 'False', 'False', 'True', 'False', 'False', 'False', 'True', 'True', 'True', 'False', 'False', 'False', 'True', 'True', 'False', 'False', 'True', 't1', 't1', 't0', 't2'], ['pos'])\n",
      "  (['True', 'True', 'True', 'False', 'False', 'False', 'True', 'False', 'True', 'False', 'False', 'True', 'True', 'True', 'True', 'True', 'True', 'False', 'True', 'True', 'True', 'False', 'False', 'False', 'True', 'True', 'True', 'True', 'True', 'True', 'False', 'True', 'True', 'True', 'False', 'False', 'False', 'False', 'False', 'False', 'False', 'False', 'False', 'True', 'True', 'True', 'False', 'False', 'False', 'True', 'True', 'True', 'False', 'False', 'False', 'False', 'True', 'False', 'False', 'False', 'False', 'False', 'True', 'False', 'False', 'False', 'False', 'True', 'True', 'False', 'False', 'False', 'False', 'False', 'True', 'False', 'False', 'False', 'False', 'False', 'True', 'False', 'False', 'False', 'False', 'False', 'False', 'True', 'False', 'False', 'False', 'True', 'True', 'True', 'False', 'False', 'False', 'True', 'True', 'False', 'False', 'True', 't1', 't0', 't2', 't2'], ['pos'])\n",
      "  (['True', 'True', 'True', 'False', 'False', 'False', 'True', 'False', 'True', 'False', 'False', 'True', 'True', 'True', 'True', 'True', 'False', 'True', 'True', 'True', 'True', 'False', 'False', 'False', 'True', 'True', 'True', 'True', 'True', 'True', 'True', 'True', 'False', 'False', 'False', 'True', 'False', 'False', 'False', 'False', 'False', 'False', 'True', 'True', 'False', 'False', 'False', 'True', 'True', 'True', 'False', 'False', 'False', 'True', 'False', 'True', 'True', 'True', 'False', 'False', 'False', 'True', 'False', 'False', 'False', 'False', 'False', 'True', 'False', 'False', 'False', 'True', 'False', 'True', 'True', 'False', 'False', 'False', 'False', 'True', 'False', 'False', 'False', 'False', 'False', 'False', 'False', 'False', 'False', 'False', 'False', 'True', 'False', 'False', 'False', 'False', 'False', 'True', 'False', 'False', 'False', 'False', 't1', 't0', 't2', 't1'], ['pos'])\n",
      "  (['True', 'True', 'True', 'False', 'False', 'False', 'True', 'False', 'True', 'False', 'False', 'True', 'True', 'True', 'True', 'True', 'False', 'True', 'True', 'True', 'True', 'False', 'False', 'False', 'True', 'True', 'True', 'True', 'True', 'True', 'True', 'True', 'False', 'True', 'False', 'False', 'False', 'False', 'False', 'False', 'False', 'False', 'True', 'True', 'False', 'True', 'False', 'False', 'True', 'True', 'False', 'False', 'False', 'False', 'False', 'True', 'True', 'True', 'False', 'False', 'False', 'True', 'False', 'False', 'False', 'False', 'True', 'False', 'False', 'False', 'False', 'False', 'False', 'False', 'True', 'True', 'False', 'False', 'False', 'False', 'False', 'False', 'False', 'False', 'False', 'False', 'False', 'False', 'False', 'False', 'False', 'True', 'True', 'False', 'False', 'False', 'False', 'True', 'True', 'False', 'True', 'False', 't1', 't0', 't1', 't2'], ['pos'])\n",
      "  (['True', 'True', 'True', 'False', 'False', 'False', 'True', 'False', 'True', 'False', 'False', 'True', 'True', 'True', 'True', 'False', 'True', 'True', 'True', 'True', 'True', 'False', 'False', 'False', 'True', 'True', 'True', 'True', 'True', 'True', 'False', 'True', 'True', 'True', 'False', 'False', 'False', 'False', 'False', 'False', 'False', 'False', 'False', 'True', 'True', 'True', 'False', 'False', 'False', 'False', 'True', 'True', 'False', 'False', 'False', 'True', 'False', 'True', 'False', 'False', 'False', 'False', 'False', 'True', 'False', 'False', 'False', 'False', 'True', 'False', 'False', 'False', 'False', 'True', 'False', 'False', 'False', 'False', 'False', 'False', 'False', 'False', 'False', 'False', 'False', 'False', 'False', 'True', 'False', 'False', 'False', 'True', 'True', 'True', 'False', 'False', 'False', 'True', 'True', 'False', 'False', 'True', 't1', 't0', 't0', 't2'], ['pos'])\n",
      "  (['True', 'False', 'True', 'False', 'False', 'False', 'False', 'True', 'True', 'False', 'True', 'False', 'True', 'False', 'True', 'True', 'True', 'False', 'True', 'True', 'True', 'True', 'False', 'True', 'False', 'True', 'True', 'False', 'True', 'False', 'False', 'True', 'True', 'True', 'False', 'False', 'True', 'False', 'False', 'False', 'False', 'True', 'False', 'True', 'True', 'True', 'False', 'False', 'False', 'True', 'True', 'True', 'False', 'False', 'True', 'False', 'False', 'False', 'False', 'True', 'False', 'False', 'False', 'False', 'False', 'False', 'False', 'True', 'True', 'True', 'False', 'False', 'True', 'False', 'False', 'False', 'False', 'True', 'False', 'False', 'False', 'False', 'False', 'False', 'False', 'False', 'True', 'True', 'False', 'True', 'True', 'True', 'True', 'True', 'False', 'True', 'True', 'True', 'True', 'True', 'False', 'True', 't0', 't2', 't2', 't2'], ['pos'])\n",
      "  (['True', 'True', 'True', 'False', 'False', 'False', 'False', 'True', 'True', 'False', 'True', 'False', 'True', 'True', 'True', 'True', 'True', 'False', 'True', 'True', 'True', 'False', 'False', 'False', 'True', 'True', 'True', 'True', 'True', 'True', 'True', 'True', 'False', 'False', 'False', 'True', 'False', 'False', 'False', 'False', 'False', 'False', 'True', 'True', 'False', 'False', 'False', 'True', 'True', 'True', 'False', 'False', 'False', 'False', 'True', 'False', 'False', 'False', 'False', 'True', 'True', 'False', 'False', 'False', 'False', 'False', 'False', 'True', 'False', 'False', 'False', 'False', 'False', 'False', 'False', 'False', 'False', 'True', 'False', 'False', 'False', 'False', 'False', 'False', 'False', 'False', 'False', 'False', 'False', 'True', 'True', 'True', 'False', 'False', 'False', 'True', 'True', 'True', 'False', 'True', 'False', 'False', 't0', 't2', 't2', 't1'], ['pos'])\n",
      "  (['True', 'True', 'True', 'False', 'False', 'False', 'False', 'True', 'True', 'False', 'True', 'False', 'True', 'True', 'True', 'True', 'True', 'False', 'True', 'True', 'True', 'False', 'False', 'False', 'True', 'True', 'True', 'True', 'True', 'True', 'True', 'True', 'False', 'True', 'False', 'False', 'False', 'False', 'False', 'False', 'False', 'False', 'True', 'True', 'False', 'True', 'False', 'False', 'True', 'True', 'False', 'True', 'False', 'False', 'True', 'False', 'False', 'False', 'False', 'True', 'True', 'False', 'False', 'False', 'False', 'False', 'False', 'True', 'False', 'True', 'False', 'False', 'False', 'False', 'False', 'False', 'False', 'True', 'False', 'False', 'False', 'False', 'False', 'False', 'False', 'False', 'False', 'False', 'False', 'True', 'False', 'True', 'False', 'False', 'False', 'True', 'False', 'True', 'False', 'True', 'False', 'False', 't0', 't2', 't1', 't2'], ['pos'])\n",
      "  (['True', 'True', 'True', 'False', 'False', 'False', 'False', 'True', 'True', 'False', 'True', 'False', 'True', 'True', 'True', 'True', 'False', 'True', 'True', 'True', 'True', 'False', 'False', 'False', 'True', 'True', 'True', 'True', 'True', 'True', 'True', 'True', 'False', 'False', 'False', 'True', 'False', 'False', 'False', 'False', 'False', 'False', 'True', 'True', 'False', 'False', 'False', 'True', 'True', 'True', 'False', 'False', 'False', 'True', 'False', 'True', 'False', 'False', 'False', 'False', 'False', 'True', 'False', 'False', 'False', 'False', 'False', 'True', 'False', 'False', 'False', 'True', 'False', 'True', 'False', 'False', 'False', 'False', 'False', 'True', 'False', 'False', 'False', 'False', 'False', 'False', 'False', 'False', 'False', 'True', 'True', 'True', 'False', 'False', 'False', 'True', 'True', 'True', 'False', 'True', 'False', 'False', 't0', 't2', 't1', 't1'], ['pos'])\n",
      "  (['True', 'True', 'True', 'False', 'False', 'False', 'True', 'False', 'True', 'False', 'True', 'False', 'True', 'True', 'True', 'True', 'True', 'False', 'True', 'True', 'True', 'False', 'False', 'False', 'True', 'True', 'True', 'True', 'True', 'True', 'True', 'True', 'False', 'True', 'False', 'False', 'False', 'False', 'False', 'False', 'False', 'False', 'True', 'True', 'False', 'True', 'False', 'False', 'True', 'True', 'False', 'True', 'False', 'False', 'True', 'False', 'False', 'False', 'False', 'False', 'True', 'False', 'False', 'False', 'False', 'False', 'True', 'False', 'False', 'True', 'False', 'False', 'True', 'False', 'False', 'False', 'False', 'False', 'True', 'False', 'False', 'False', 'False', 'False', 'False', 'False', 'False', 'False', 'False', 'True', 'False', 'True', 'True', 'False', 'False', 'True', 'False', 'True', 'True', 'False', 'True', 'False', 't0', 't1', 't2', 't2'], ['pos'])\n",
      "  (['True', 'True', 'True', 'False', 'False', 'False', 'True', 'False', 'True', 'False', 'True', 'False', 'True', 'True', 'True', 'True', 'False', 'True', 'True', 'True', 'True', 'False', 'False', 'False', 'True', 'True', 'True', 'True', 'True', 'True', 'True', 'True', 'False', 'False', 'False', 'True', 'False', 'False', 'False', 'False', 'False', 'False', 'True', 'True', 'False', 'False', 'False', 'True', 'True', 'True', 'False', 'False', 'False', 'True', 'False', 'True', 'False', 'True', 'False', 'False', 'False', 'True', 'False', 'False', 'False', 'False', 'True', 'False', 'False', 'False', 'False', 'True', 'False', 'False', 'False', 'True', 'False', 'False', 'False', 'False', 'False', 'False', 'False', 'False', 'False', 'False', 'False', 'False', 'False', 'True', 'False', 'True', 'False', 'False', 'False', 'True', 'False', 'True', 'False', 'False', 'True', 'False', 't0', 't1', 't2', 't1'], ['pos'])\n",
      "  (['True', 'True', 'True', 'False', 'False', 'False', 'True', 'False', 'True', 'False', 'True', 'False', 'True', 'True', 'True', 'True', 'False', 'True', 'True', 'True', 'True', 'False', 'False', 'False', 'True', 'True', 'True', 'True', 'True', 'True', 'True', 'True', 'False', 'True', 'False', 'False', 'False', 'False', 'False', 'False', 'False', 'False', 'True', 'True', 'False', 'True', 'False', 'False', 'True', 'True', 'False', 'False', 'False', 'False', 'False', 'True', 'False', 'True', 'False', 'False', 'False', 'True', 'False', 'False', 'False', 'False', 'True', 'False', 'False', 'False', 'False', 'False', 'False', 'False', 'False', 'True', 'False', 'False', 'False', 'False', 'False', 'False', 'False', 'False', 'False', 'False', 'False', 'False', 'False', 'True', 'False', 'True', 'True', 'False', 'False', 'True', 'False', 'True', 'True', 'False', 'True', 'False', 't0', 't1', 't1', 't2'], ['pos'])\n",
      "  (['True', 'True', 'True', 'False', 'False', 'False', 'True', 'False', 'True', 'False', 'True', 'False', 'True', 'True', 'True', 'False', 'True', 'True', 'True', 'True', 'True', 'False', 'False', 'False', 'True', 'True', 'True', 'True', 'True', 'True', 'False', 'True', 'True', 'True', 'False', 'False', 'False', 'False', 'False', 'False', 'False', 'False', 'False', 'True', 'True', 'True', 'False', 'False', 'False', 'False', 'True', 'True', 'False', 'False', 'True', 'True', 'False', 'True', 'False', 'False', 'False', 'False', 'False', 'True', 'False', 'False', 'False', 'False', 'True', 'False', 'False', 'False', 'True', 'True', 'False', 'False', 'False', 'False', 'False', 'False', 'False', 'False', 'False', 'False', 'False', 'False', 'False', 'False', 'False', 'False', 'False', 'True', 'True', 'False', 'False', 'False', 'False', 'True', 'True', 'False', 'False', 'True', 't0', 't1', 't0', 't2'], ['pos'])\n",
      "  (['True', 'False', 'True', 'False', 'False', 'False', 'False', 'True', 'True', 'False', 'True', 'False', 'True', 'False', 'True', 'False', 'True', 'False', 'True', 'True', 'True', 'True', 'False', 'True', 'False', 'True', 'True', 'False', 'True', 'False', 'False', 'True', 'True', 'True', 'False', 'False', 'True', 'False', 'False', 'False', 'False', 'True', 'False', 'True', 'True', 'True', 'False', 'False', 'False', 'False', 'True', 'True', 'False', 'False', 'True', 'False', 'False', 'False', 'False', 'True', 'False', 'False', 'False', 'False', 'False', 'False', 'False', 'False', 'True', 'True', 'False', 'False', 'True', 'False', 'False', 'False', 'False', 'True', 'False', 'False', 'False', 'False', 'False', 'False', 'False', 'False', 'True', 'True', 'False', 'True', 'True', 'True', 'True', 'True', 'False', 'True', 'True', 'True', 'True', 'True', 'False', 'True', 't0', 't0', 't2', 't2'], ['pos'])\n",
      "  (['True', 'True', 'True', 'False', 'False', 'False', 'False', 'True', 'True', 'False', 'True', 'False', 'True', 'True', 'True', 'False', 'True', 'True', 'True', 'True', 'True', 'False', 'False', 'False', 'True', 'True', 'True', 'True', 'True', 'True', 'True', 'True', 'False', 'False', 'False', 'True', 'False', 'False', 'False', 'False', 'False', 'False', 'True', 'True', 'False', 'False', 'False', 'True', 'False', 'False', 'False', 'False', 'False', 'True', 'True', 'True', 'False', 'False', 'False', 'True', 'False', 'False', 'False', 'False', 'False', 'True', 'False', 'False', 'False', 'False', 'False', 'True', 'False', 'True', 'False', 'False', 'False', 'True', 'False', 'False', 'False', 'False', 'False', 'True', 'False', 'False', 'False', 'False', 'False', 'True', 'True', 'True', 'False', 'False', 'False', 'True', 'True', 'True', 'False', 'True', 'False', 'False', 't0', 't0', 't2', 't1'], ['pos'])\n",
      "  (['True', 'True', 'True', 'False', 'False', 'False', 'True', 'False', 'True', 'False', 'True', 'False', 'True', 'True', 'True', 'False', 'True', 'True', 'True', 'True', 'True', 'False', 'False', 'False', 'True', 'True', 'True', 'True', 'True', 'True', 'True', 'True', 'False', 'True', 'False', 'False', 'False', 'False', 'False', 'False', 'False', 'False', 'True', 'True', 'False', 'True', 'False', 'False', 'False', 'False', 'False', 'True', 'False', 'False', 'True', 'True', 'False', 'True', 'False', 'False', 'False', 'False', 'False', 'True', 'False', 'False', 'False', 'False', 'False', 'True', 'False', 'False', 'True', 'False', 'False', 'True', 'False', 'False', 'False', 'False', 'False', 'True', 'False', 'False', 'False', 'False', 'False', 'False', 'False', 'True', 'False', 'True', 'True', 'False', 'False', 'True', 'False', 'True', 'True', 'False', 'True', 'False', 't0', 't0', 't1', 't2'], ['pos'])\n",
      "  (['True', 'False', 'True', 'False', 'False', 'False', 'False', 'True', 'True', 'False', 'True', 'False', 'True', 'False', 'True', 'False', 'True', 'True', 'True', 'True', 'True', 'True', 'False', 'True', 'False', 'True', 'True', 'False', 'True', 'False', 'False', 'True', 'True', 'True', 'False', 'False', 'True', 'False', 'False', 'False', 'False', 'True', 'False', 'True', 'True', 'True', 'False', 'False', 'False', 'False', 'True', 'True', 'False', 'False', 'True', 'True', 'False', 'False', 'False', 'True', 'False', 'False', 'False', 'False', 'False', 'False', 'False', 'False', 'True', 'True', 'False', 'False', 'True', 'True', 'False', 'False', 'False', 'True', 'False', 'False', 'False', 'False', 'False', 'False', 'False', 'False', 'True', 'True', 'False', 'True', 'True', 'True', 'True', 'True', 'False', 'True', 'True', 'True', 'True', 'True', 'False', 'True', 't0', 't0', 't0', 't2'], ['pos'])\n",
      "  (['False', 'False', 'True', 'False', 'False', 'True', 'False', 'True', 'False', 'True', 'False', 'False', 'False', 'False', 'True', 'True', 'True', 'False', 'False', 'True', 'True', 'False', 'True', 'True', 'True', 'True', 'True', 'True', 'False', 'False', 'True', 'True', 'True', 'True', 'False', 'False', 'True', 'False', 'True', 'False', 'True', 'True', 'True', 'True', 'True', 'True', 'False', 'False', 'True', 'True', 'True', 'True', 'False', 'False', 'True', 'False', 'True', 'False', 'True', 'True', 'True', 'False', 'True', 'False', 'False', 'False', 'True', 'True', 'True', 'True', 'False', 'False', 'True', 'False', 'True', 'False', 'True', 'True', 'True', 'False', 'True', 'False', 'False', 'False', 'True', 'True', 'True', 'True', 'True', 'True', 'True', 'True', 'True', 'True', 'True', 'True', 'True', 'True', 'True', 'True', 'True', 'True', 't2', 't2', 't2', 't2'], ['neg'])\n",
      "  (['False', 'True', 'True', 'False', 'False', 'False', 'False', 'True', 'False', 'True', 'False', 'True', 'False', 'True', 'True', 'True', 'True', 'False', 'True', 'True', 'True', 'True', 'True', 'False', 'True', 'True', 'True', 'False', 'False', 'True', 'True', 'True', 'False', 'False', 'False', 'True', 'False', 'False', 'True', 'False', 'True', 'False', 'True', 'True', 'False', 'False', 'False', 'True', 'True', 'True', 'False', 'False', 'False', 'False', 'False', 'False', 'True', 'False', 'True', 'True', 'False', 'False', 'False', 'False', 'False', 'False', 'True', 'True', 'False', 'False', 'False', 'False', 'False', 'False', 'True', 'False', 'True', 'True', 'False', 'False', 'False', 'False', 'False', 'False', 'True', 'True', 'False', 'True', 'True', 'True', 'True', 'True', 'False', 'True', 'True', 'True', 'True', 'True', 'False', 'True', 'True', 'False', 't2', 't2', 't2', 't1'], ['neg'])\n",
      "  (['True', 'False', 'True', 'False', 'False', 'False', 'False', 'True', 'False', 'True', 'True', 'False', 'True', 'False', 'True', 'True', 'True', 'False', 'True', 'True', 'True', 'True', 'False', 'True', 'False', 'True', 'True', 'False', 'True', 'False', 'False', 'False', 'True', 'True', 'True', 'False', 'True', 'False', 'False', 'False', 'False', 'True', 'False', 'False', 'True', 'True', 'True', 'False', 'False', 'False', 'True', 'True', 'False', 'False', 'True', 'False', 'False', 'False', 'True', 'True', 'False', 'False', 'False', 'False', 'False', 'False', 'False', 'False', 'True', 'True', 'False', 'False', 'True', 'False', 'False', 'False', 'True', 'True', 'False', 'False', 'False', 'False', 'False', 'False', 'False', 'False', 'True', 'True', 'True', 'True', 'True', 'False', 'True', 'True', 'True', 'True', 'True', 'False', 'True', 'True', 'False', 'True', 't2', 't2', 't2', 't0'], ['neg'])\n",
      "  (['False', 'True', 'True', 'False', 'False', 'False', 'False', 'True', 'False', 'True', 'False', 'True', 'False', 'True', 'True', 'True', 'True', 'False', 'True', 'True', 'True', 'True', 'True', 'False', 'True', 'True', 'True', 'False', 'False', 'True', 'True', 'True', 'False', 'True', 'False', 'False', 'False', 'False', 'True', 'False', 'True', 'False', 'True', 'True', 'False', 'True', 'False', 'False', 'True', 'True', 'False', 'True', 'False', 'False', 'False', 'False', 'True', 'False', 'True', 'True', 'False', 'False', 'False', 'False', 'False', 'False', 'True', 'True', 'False', 'True', 'False', 'False', 'False', 'False', 'True', 'False', 'True', 'True', 'False', 'False', 'False', 'False', 'False', 'False', 'True', 'True', 'False', 'True', 'True', 'True', 'False', 'True', 'False', 'True', 'True', 'True', 'False', 'True', 'False', 'True', 'True', 'False', 't2', 't2', 't1', 't2'], ['neg'])\n",
      "  (['False', 'True', 'True', 'False', 'False', 'False', 'False', 'True', 'False', 'True', 'False', 'True', 'False', 'True', 'True', 'True', 'False', 'False', 'True', 'True', 'True', 'True', 'True', 'False', 'True', 'True', 'True', 'False', 'False', 'True', 'True', 'True', 'False', 'False', 'False', 'True', 'False', 'False', 'True', 'False', 'True', 'False', 'True', 'True', 'False', 'False', 'False', 'True', 'True', 'True', 'False', 'False', 'False', 'False', 'False', 'False', 'True', 'False', 'True', 'False', 'False', 'False', 'False', 'False', 'False', 'False', 'True', 'True', 'False', 'False', 'False', 'False', 'False', 'False', 'True', 'False', 'True', 'False', 'False', 'False', 'False', 'False', 'False', 'False', 'True', 'True', 'False', 'True', 'True', 'True', 'True', 'True', 'False', 'True', 'True', 'True', 'True', 'True', 'False', 'True', 'True', 'False', 't2', 't2', 't1', 't1'], ['neg'])\n",
      "  (['True', 'True', 'True', 'False', 'False', 'False', 'False', 'True', 'False', 'True', 'False', 'True', 'True', 'True', 'True', 'True', 'True', 'False', 'True', 'True', 'True', 'False', 'False', 'False', 'True', 'True', 'True', 'True', 'True', 'True', 'False', 'False', 'True', 'False', 'True', 'True', 'False', 'False', 'False', 'False', 'False', 'False', 'False', 'False', 'True', 'False', 'True', 'True', 'False', 'False', 'True', 'False', 'False', 'False', 'False', 'False', 'True', 'False', 'True', 'True', 'False', 'False', 'True', 'False', 'False', 'False', 'False', 'False', 'True', 'False', 'False', 'False', 'False', 'False', 'True', 'False', 'False', 'True', 'False', 'False', 'True', 'False', 'False', 'False', 'False', 'False', 'False', 'True', 'True', 'False', 'True', 'False', 'False', 'True', 'True', 'False', 'True', 'False', 'False', 'False', 'True', 'False', 't2', 't2', 't1', 't0'], ['neg'])\n",
      "  (['True', 'False', 'True', 'False', 'False', 'False', 'False', 'True', 'False', 'True', 'True', 'False', 'True', 'False', 'True', 'True', 'True', 'False', 'True', 'True', 'True', 'True', 'False', 'True', 'False', 'True', 'True', 'False', 'True', 'False', 'False', 'True', 'True', 'True', 'False', 'False', 'True', 'False', 'False', 'False', 'False', 'True', 'False', 'True', 'True', 'True', 'False', 'False', 'False', 'True', 'True', 'True', 'False', 'False', 'True', 'False', 'False', 'False', 'True', 'True', 'False', 'False', 'False', 'False', 'False', 'False', 'False', 'True', 'True', 'True', 'False', 'False', 'True', 'False', 'False', 'False', 'True', 'True', 'False', 'False', 'False', 'False', 'False', 'False', 'False', 'False', 'True', 'True', 'False', 'True', 'True', 'False', 'True', 'True', 'False', 'True', 'True', 'False', 'True', 'True', 'False', 'True', 't2', 't2', 't0', 't2'], ['neg'])\n",
      "  (['True', 'True', 'True', 'False', 'False', 'False', 'False', 'True', 'False', 'True', 'True', 'False', 'True', 'True', 'True', 'True', 'True', 'False', 'True', 'True', 'True', 'False', 'False', 'False', 'True', 'True', 'True', 'True', 'True', 'True', 'True', 'False', 'False', 'False', 'True', 'True', 'False', 'False', 'False', 'False', 'False', 'False', 'True', 'False', 'False', 'False', 'True', 'True', 'True', 'False', 'False', 'False', 'False', 'False', 'True', 'False', 'False', 'False', 'True', 'True', 'True', 'False', 'False', 'False', 'False', 'False', 'True', 'False', 'False', 'False', 'False', 'False', 'True', 'False', 'False', 'False', 'True', 'False', 'True', 'False', 'False', 'False', 'False', 'False', 'False', 'False', 'False', 'False', 'True', 'True', 'True', 'False', 'False', 'False', 'True', 'True', 'True', 'False', 'False', 'False', 'False', 'True', 't2', 't2', 't0', 't1'], ['neg'])\n",
      "  (['True', 'False', 'True', 'False', 'False', 'False', 'False', 'True', 'False', 'True', 'True', 'False', 'True', 'False', 'True', 'False', 'True', 'False', 'True', 'True', 'True', 'True', 'False', 'True', 'False', 'True', 'True', 'False', 'True', 'False', 'False', 'False', 'True', 'True', 'True', 'False', 'True', 'False', 'False', 'False', 'False', 'True', 'False', 'False', 'True', 'True', 'True', 'False', 'False', 'False', 'True', 'True', 'False', 'False', 'True', 'False', 'False', 'False', 'False', 'True', 'False', 'False', 'False', 'False', 'False', 'False', 'False', 'False', 'True', 'True', 'False', 'False', 'True', 'False', 'False', 'False', 'False', 'True', 'False', 'False', 'False', 'False', 'False', 'False', 'False', 'False', 'True', 'True', 'True', 'True', 'True', 'False', 'True', 'True', 'True', 'True', 'True', 'False', 'True', 'True', 'False', 'True', 't2', 't2', 't0', 't0'], ['neg'])\n",
      "  (['False', 'True', 'True', 'False', 'False', 'False', 'False', 'True', 'False', 'True', 'False', 'True', 'False', 'True', 'True', 'True', 'True', 'False', 'True', 'True', 'True', 'True', 'True', 'False', 'True', 'True', 'True', 'False', 'False', 'True', 'True', 'True', 'False', 'True', 'False', 'False', 'False', 'False', 'True', 'False', 'True', 'False', 'True', 'True', 'False', 'True', 'False', 'False', 'True', 'True', 'False', 'True', 'False', 'False', 'False', 'False', 'True', 'False', 'True', 'True', 'False', 'False', 'False', 'False', 'False', 'False', 'True', 'True', 'False', 'True', 'False', 'False', 'False', 'False', 'True', 'False', 'True', 'True', 'False', 'False', 'False', 'False', 'False', 'False', 'True', 'True', 'False', 'True', 'True', 'True', 'False', 'True', 'False', 'True', 'True', 'True', 'False', 'True', 'False', 'True', 'True', 'False', 't2', 't1', 't2', 't2'], ['neg'])\n",
      "  (['False', 'True', 'True', 'False', 'False', 'False', 'False', 'True', 'False', 'True', 'False', 'True', 'False', 'True', 'True', 'True', 'False', 'False', 'True', 'True', 'True', 'True', 'True', 'False', 'True', 'True', 'True', 'False', 'False', 'True', 'True', 'True', 'False', 'False', 'False', 'True', 'False', 'False', 'True', 'False', 'True', 'False', 'True', 'True', 'False', 'False', 'False', 'True', 'True', 'True', 'False', 'False', 'False', 'True', 'False', 'False', 'True', 'False', 'True', 'True', 'False', 'False', 'False', 'False', 'False', 'True', 'True', 'True', 'False', 'False', 'False', 'True', 'False', 'False', 'True', 'False', 'True', 'True', 'False', 'False', 'False', 'False', 'False', 'True', 'True', 'True', 'False', 'True', 'True', 'True', 'False', 'True', 'False', 'True', 'True', 'True', 'False', 'True', 'False', 'True', 'True', 'False', 't2', 't1', 't2', 't1'], ['neg'])\n",
      "  (['True', 'True', 'True', 'False', 'False', 'False', 'False', 'True', 'False', 'True', 'False', 'True', 'True', 'True', 'True', 'True', 'True', 'False', 'True', 'True', 'True', 'False', 'False', 'False', 'True', 'True', 'True', 'True', 'True', 'True', 'False', 'False', 'True', 'True', 'True', 'False', 'False', 'False', 'False', 'False', 'False', 'False', 'False', 'False', 'True', 'True', 'True', 'False', 'False', 'False', 'True', 'True', 'False', 'False', 'False', 'False', 'True', 'False', 'True', 'True', 'False', 'False', 'True', 'False', 'False', 'False', 'False', 'False', 'False', 'True', 'False', 'False', 'False', 'False', 'False', 'False', 'True', 'True', 'False', 'False', 'False', 'False', 'False', 'False', 'False', 'False', 'False', 'True', 'True', 'False', 'False', 'False', 'False', 'True', 'True', 'False', 'False', 'False', 'False', 'True', 'False', 'False', 't2', 't1', 't2', 't0'], ['neg'])\n",
      "  (['False', 'True', 'True', 'False', 'False', 'False', 'False', 'True', 'False', 'True', 'False', 'True', 'False', 'True', 'True', 'True', 'False', 'False', 'True', 'True', 'True', 'True', 'True', 'False', 'True', 'True', 'True', 'False', 'False', 'True', 'True', 'True', 'False', 'True', 'False', 'False', 'False', 'False', 'True', 'False', 'True', 'False', 'True', 'True', 'False', 'True', 'False', 'False', 'True', 'True', 'False', 'False', 'False', 'False', 'False', 'False', 'True', 'False', 'True', 'False', 'False', 'False', 'False', 'False', 'False', 'False', 'True', 'True', 'False', 'False', 'False', 'False', 'False', 'False', 'True', 'False', 'True', 'False', 'False', 'False', 'False', 'False', 'False', 'False', 'True', 'True', 'False', 'True', 'True', 'True', 'False', 'True', 'False', 'True', 'True', 'True', 'False', 'True', 'False', 'True', 'True', 'False', 't2', 't1', 't1', 't2'], ['neg'])\n",
      "  (['False', 'True', 'True', 'False', 'False', 'False', 'False', 'True', 'False', 'True', 'False', 'True', 'False', 'True', 'True', 'True', 'False', 'True', 'True', 'True', 'True', 'True', 'True', 'False', 'True', 'True', 'True', 'False', 'False', 'True', 'True', 'True', 'False', 'False', 'False', 'True', 'False', 'False', 'True', 'False', 'True', 'False', 'True', 'True', 'False', 'False', 'False', 'True', 'True', 'True', 'False', 'False', 'False', 'True', 'False', 'False', 'True', 'False', 'True', 'False', 'False', 'False', 'False', 'False', 'False', 'False', 'True', 'True', 'False', 'False', 'False', 'True', 'False', 'False', 'True', 'False', 'True', 'False', 'False', 'False', 'False', 'False', 'False', 'False', 'True', 'True', 'False', 'True', 'True', 'True', 'True', 'True', 'False', 'True', 'True', 'True', 'True', 'True', 'False', 'True', 'True', 'False', 't2', 't1', 't1', 't1'], ['neg'])\n",
      "  (['True', 'True', 'True', 'False', 'False', 'False', 'False', 'True', 'False', 'True', 'False', 'True', 'True', 'True', 'True', 'True', 'False', 'True', 'True', 'True', 'True', 'False', 'False', 'False', 'True', 'True', 'True', 'True', 'True', 'True', 'False', 'False', 'True', 'False', 'True', 'True', 'False', 'False', 'False', 'False', 'False', 'False', 'False', 'False', 'True', 'False', 'True', 'True', 'False', 'False', 'False', 'False', 'True', 'True', 'False', 'False', 'True', 'False', 'True', 'False', 'False', 'False', 'False', 'False', 'True', 'False', 'False', 'False', 'False', 'False', 'False', 'True', 'False', 'False', 'True', 'False', 'False', 'False', 'False', 'False', 'False', 'False', 'False', 'False', 'False', 'False', 'False', 'True', 'True', 'False', 'True', 'False', 'False', 'True', 'True', 'False', 'True', 'False', 'False', 'False', 'True', 'False', 't2', 't1', 't1', 't0'], ['neg'])\n",
      "  (['True', 'True', 'True', 'False', 'False', 'False', 'False', 'True', 'False', 'True', 'False', 'True', 'True', 'True', 'True', 'True', 'True', 'False', 'True', 'True', 'True', 'False', 'False', 'False', 'True', 'True', 'True', 'True', 'True', 'True', 'False', 'True', 'True', 'True', 'False', 'False', 'False', 'False', 'False', 'False', 'False', 'False', 'False', 'True', 'True', 'True', 'False', 'False', 'False', 'True', 'True', 'True', 'False', 'False', 'False', 'False', 'True', 'False', 'True', 'True', 'False', 'False', 'True', 'False', 'False', 'False', 'False', 'True', 'True', 'False', 'False', 'False', 'False', 'False', 'True', 'False', 'False', 'True', 'False', 'False', 'True', 'False', 'False', 'False', 'False', 'False', 'False', 'True', 'False', 'False', 'False', 'False', 'False', 'True', 'False', 'False', 'False', 'False', 'False', 'False', 'False', 'False', 't2', 't1', 't0', 't2'], ['neg'])\n",
      "  (['True', 'True', 'True', 'False', 'False', 'False', 'False', 'True', 'False', 'True', 'False', 'True', 'True', 'True', 'True', 'True', 'False', 'True', 'True', 'True', 'True', 'False', 'False', 'False', 'True', 'True', 'True', 'True', 'True', 'True', 'True', 'False', 'False', 'False', 'True', 'True', 'False', 'False', 'False', 'False', 'False', 'False', 'True', 'False', 'False', 'False', 'True', 'True', 'True', 'False', 'False', 'False', 'True', 'True', 'False', 'False', 'True', 'False', 'True', 'False', 'False', 'False', 'False', 'False', 'True', 'False', 'True', 'False', 'False', 'False', 'False', 'True', 'False', 'False', 'True', 'False', 'False', 'False', 'False', 'False', 'False', 'False', 'False', 'False', 'False', 'False', 'False', 'False', 'True', 'False', 'True', 'False', 'False', 'False', 'True', 'False', 'True', 'False', 'False', 'False', 'True', 'False', 't2', 't1', 't0', 't1'], ['neg'])\n",
      "  (['True', 'True', 'True', 'False', 'False', 'False', 'False', 'True', 'False', 'True', 'False', 'True', 'True', 'True', 'True', 'False', 'True', 'True', 'True', 'True', 'True', 'False', 'False', 'False', 'True', 'True', 'True', 'True', 'True', 'True', 'False', 'False', 'True', 'False', 'True', 'True', 'False', 'False', 'False', 'False', 'False', 'False', 'False', 'False', 'True', 'False', 'True', 'True', 'False', 'False', 'True', 'False', 'True', 'True', 'False', 'False', 'False', 'False', 'False', 'True', 'False', 'False', 'False', 'False', 'False', 'True', 'False', 'False', 'True', 'False', 'False', 'True', 'False', 'False', 'False', 'False', 'False', 'True', 'False', 'False', 'False', 'False', 'False', 'True', 'False', 'False', 'False', 'True', 'True', 'False', 'True', 'False', 'False', 'True', 'True', 'False', 'True', 'False', 'False', 'False', 'True', 'False', 't2', 't1', 't0', 't0'], ['neg'])\n",
      "  (['True', 'False', 'True', 'False', 'False', 'False', 'False', 'True', 'False', 'True', 'True', 'False', 'True', 'False', 'True', 'True', 'True', 'False', 'True', 'True', 'True', 'True', 'False', 'True', 'False', 'True', 'True', 'False', 'True', 'False', 'False', 'True', 'True', 'True', 'False', 'False', 'True', 'False', 'False', 'False', 'False', 'True', 'False', 'True', 'True', 'True', 'False', 'False', 'False', 'True', 'True', 'True', 'False', 'False', 'True', 'False', 'False', 'False', 'True', 'True', 'False', 'False', 'False', 'False', 'False', 'False', 'False', 'True', 'True', 'True', 'False', 'False', 'True', 'False', 'False', 'False', 'True', 'True', 'False', 'False', 'False', 'False', 'False', 'False', 'False', 'False', 'True', 'True', 'False', 'True', 'True', 'False', 'True', 'True', 'False', 'True', 'True', 'False', 'True', 'True', 'False', 'True', 't2', 't0', 't2', 't2'], ['neg'])\n",
      "  (['True', 'True', 'True', 'False', 'False', 'False', 'False', 'True', 'False', 'True', 'True', 'False', 'True', 'True', 'True', 'True', 'True', 'False', 'True', 'True', 'True', 'False', 'False', 'False', 'True', 'True', 'True', 'True', 'True', 'True', 'True', 'True', 'False', 'False', 'False', 'True', 'False', 'False', 'False', 'False', 'False', 'False', 'True', 'True', 'False', 'False', 'False', 'True', 'True', 'True', 'False', 'False', 'False', 'False', 'True', 'False', 'False', 'False', 'True', 'True', 'True', 'False', 'False', 'False', 'False', 'False', 'False', 'True', 'False', 'False', 'False', 'False', 'False', 'False', 'False', 'False', 'True', 'True', 'False', 'False', 'False', 'False', 'False', 'False', 'False', 'False', 'False', 'False', 'False', 'True', 'True', 'False', 'False', 'False', 'False', 'True', 'True', 'False', 'False', 'True', 'False', 'False', 't2', 't0', 't2', 't1'], ['neg'])\n",
      "  (['True', 'False', 'True', 'False', 'False', 'False', 'False', 'True', 'False', 'True', 'True', 'False', 'True', 'False', 'True', 'False', 'True', 'False', 'True', 'True', 'True', 'True', 'False', 'True', 'False', 'True', 'True', 'False', 'True', 'False', 'False', 'False', 'True', 'True', 'True', 'False', 'True', 'False', 'False', 'False', 'False', 'True', 'False', 'False', 'True', 'True', 'True', 'False', 'False', 'False', 'True', 'True', 'True', 'False', 'True', 'False', 'False', 'False', 'True', 'True', 'False', 'False', 'False', 'False', 'True', 'False', 'False', 'False', 'True', 'True', 'True', 'False', 'True', 'False', 'False', 'False', 'True', 'True', 'False', 'False', 'False', 'False', 'True', 'False', 'False', 'False', 'True', 'True', 'False', 'True', 'True', 'False', 'True', 'True', 'False', 'True', 'True', 'False', 'True', 'True', 'False', 'True', 't2', 't0', 't2', 't0'], ['neg'])\n",
      "  (['True', 'True', 'True', 'False', 'False', 'False', 'False', 'True', 'False', 'True', 'True', 'False', 'True', 'True', 'True', 'True', 'True', 'False', 'True', 'True', 'True', 'False', 'False', 'False', 'True', 'True', 'True', 'True', 'True', 'True', 'True', 'True', 'False', 'True', 'False', 'False', 'False', 'False', 'False', 'False', 'False', 'False', 'True', 'True', 'False', 'True', 'False', 'False', 'True', 'True', 'False', 'True', 'False', 'False', 'True', 'False', 'False', 'False', 'True', 'True', 'True', 'False', 'False', 'False', 'False', 'False', 'True', 'False', 'False', 'True', 'False', 'False', 'True', 'False', 'False', 'False', 'True', 'False', 'True', 'False', 'False', 'False', 'False', 'False', 'False', 'False', 'False', 'False', 'False', 'True', 'False', 'False', 'False', 'False', 'False', 'True', 'False', 'False', 'False', 'False', 'False', 'False', 't2', 't0', 't1', 't2'], ['neg'])\n",
      "  (['True', 'True', 'True', 'False', 'False', 'False', 'False', 'True', 'False', 'True', 'True', 'False', 'True', 'True', 'True', 'True', 'False', 'True', 'True', 'True', 'True', 'False', 'False', 'False', 'True', 'True', 'True', 'True', 'True', 'True', 'True', 'False', 'False', 'False', 'True', 'True', 'False', 'False', 'False', 'False', 'False', 'False', 'True', 'False', 'False', 'False', 'True', 'True', 'True', 'False', 'False', 'False', 'True', 'True', 'False', 'False', 'False', 'False', 'True', 'False', 'False', 'False', 'False', 'False', 'True', 'False', 'True', 'False', 'False', 'False', 'True', 'False', 'False', 'False', 'False', 'False', 'True', 'False', 'False', 'False', 'False', 'False', 'True', 'False', 'False', 'False', 'False', 'False', 'True', 'True', 'True', 'False', 'False', 'False', 'True', 'True', 'True', 'False', 'False', 'False', 'False', 'True', 't2', 't0', 't1', 't1'], ['neg'])\n",
      "  (['True', 'True', 'True', 'False', 'False', 'False', 'False', 'True', 'False', 'True', 'True', 'False', 'True', 'True', 'True', 'False', 'True', 'True', 'True', 'True', 'True', 'False', 'False', 'False', 'True', 'True', 'True', 'True', 'True', 'True', 'False', 'False', 'True', 'False', 'True', 'True', 'False', 'False', 'False', 'False', 'False', 'False', 'False', 'False', 'True', 'False', 'True', 'True', 'False', 'False', 'True', 'False', 'True', 'True', 'True', 'False', 'False', 'False', 'False', 'True', 'False', 'False', 'False', 'False', 'False', 'True', 'False', 'False', 'True', 'False', 'True', 'False', 'True', 'False', 'False', 'False', 'False', 'False', 'False', 'False', 'False', 'False', 'False', 'False', 'False', 'False', 'False', 'False', 'True', 'False', 'True', 'False', 'False', 'False', 'True', 'False', 'True', 'False', 'False', 'False', 'False', 'True', 't2', 't0', 't1', 't0'], ['neg'])\n",
      "  (['True', 'False', 'True', 'False', 'False', 'False', 'False', 'True', 'False', 'True', 'True', 'False', 'True', 'False', 'True', 'False', 'True', 'False', 'True', 'True', 'True', 'True', 'False', 'True', 'False', 'True', 'True', 'False', 'True', 'False', 'False', 'True', 'True', 'True', 'False', 'False', 'True', 'False', 'False', 'False', 'False', 'True', 'False', 'True', 'True', 'True', 'False', 'False', 'False', 'False', 'True', 'True', 'False', 'False', 'True', 'False', 'False', 'False', 'False', 'True', 'False', 'False', 'False', 'False', 'False', 'False', 'False', 'False', 'True', 'True', 'False', 'False', 'True', 'False', 'False', 'False', 'False', 'True', 'False', 'False', 'False', 'False', 'False', 'False', 'False', 'False', 'True', 'True', 'False', 'True', 'True', 'False', 'True', 'True', 'False', 'True', 'True', 'False', 'True', 'True', 'False', 'True', 't2', 't0', 't0', 't2'], ['neg'])\n",
      "  (['True', 'True', 'True', 'False', 'False', 'False', 'False', 'True', 'False', 'True', 'True', 'False', 'True', 'True', 'True', 'False', 'True', 'True', 'True', 'True', 'True', 'False', 'False', 'False', 'True', 'True', 'True', 'True', 'True', 'True', 'True', 'False', 'False', 'False', 'True', 'True', 'False', 'False', 'False', 'False', 'False', 'False', 'True', 'False', 'False', 'False', 'True', 'True', 'False', 'False', 'False', 'False', 'True', 'True', 'True', 'False', 'False', 'False', 'False', 'True', 'False', 'False', 'False', 'False', 'False', 'True', 'False', 'False', 'False', 'False', 'True', 'False', 'True', 'False', 'False', 'False', 'False', 'False', 'False', 'False', 'False', 'False', 'False', 'False', 'False', 'False', 'False', 'False', 'True', 'True', 'True', 'False', 'False', 'False', 'True', 'True', 'True', 'False', 'False', 'False', 'False', 'True', 't2', 't0', 't0', 't1'], ['neg'])\n",
      "  (['True', 'False', 'True', 'False', 'False', 'False', 'False', 'True', 'False', 'True', 'True', 'False', 'True', 'False', 'True', 'False', 'True', 'True', 'True', 'True', 'True', 'True', 'False', 'True', 'False', 'True', 'True', 'False', 'True', 'False', 'False', 'False', 'True', 'True', 'True', 'False', 'True', 'False', 'False', 'False', 'False', 'True', 'False', 'False', 'True', 'True', 'True', 'False', 'False', 'False', 'True', 'True', 'True', 'False', 'True', 'False', 'False', 'False', 'False', 'True', 'False', 'False', 'False', 'False', 'False', 'False', 'False', 'False', 'True', 'True', 'True', 'False', 'True', 'False', 'False', 'False', 'False', 'True', 'False', 'False', 'False', 'False', 'False', 'False', 'False', 'False', 'True', 'True', 'True', 'True', 'True', 'False', 'True', 'True', 'True', 'True', 'True', 'False', 'True', 'True', 'False', 'True', 't2', 't0', 't0', 't0'], ['neg'])\n",
      "  (['False', 'True', 'True', 'False', 'False', 'False', 'True', 'False', 'False', 'True', 'False', 'True', 'False', 'True', 'True', 'True', 'True', 'False', 'True', 'True', 'True', 'True', 'True', 'False', 'True', 'True', 'True', 'False', 'False', 'True', 'True', 'True', 'False', 'True', 'False', 'False', 'False', 'False', 'True', 'False', 'True', 'False', 'True', 'True', 'False', 'True', 'False', 'False', 'True', 'True', 'False', 'True', 'False', 'False', 'False', 'False', 'True', 'False', 'True', 'False', 'False', 'False', 'False', 'False', 'False', 'False', 'True', 'True', 'False', 'True', 'False', 'False', 'False', 'False', 'True', 'False', 'True', 'False', 'False', 'False', 'False', 'False', 'False', 'False', 'True', 'True', 'False', 'True', 'True', 'True', 'False', 'True', 'True', 'True', 'True', 'True', 'False', 'True', 'True', 'True', 'True', 'False', 't1', 't2', 't2', 't2'], ['neg'])\n",
      "  (['False', 'True', 'True', 'False', 'False', 'False', 'True', 'False', 'False', 'True', 'False', 'True', 'False', 'True', 'True', 'True', 'False', 'False', 'True', 'True', 'True', 'True', 'True', 'False', 'True', 'True', 'True', 'False', 'False', 'True', 'True', 'True', 'False', 'False', 'False', 'True', 'False', 'False', 'True', 'False', 'True', 'False', 'True', 'True', 'False', 'False', 'False', 'True', 'True', 'True', 'False', 'False', 'False', 'False', 'False', 'False', 'True', 'False', 'True', 'False', 'False', 'False', 'False', 'False', 'False', 'False', 'True', 'True', 'False', 'False', 'False', 'False', 'False', 'False', 'True', 'False', 'True', 'False', 'False', 'False', 'False', 'False', 'False', 'False', 'True', 'True', 'False', 'True', 'True', 'True', 'False', 'True', 'False', 'True', 'True', 'True', 'False', 'True', 'False', 'True', 'True', 'False', 't1', 't2', 't2', 't1'], ['neg'])\n",
      "  (['True', 'True', 'True', 'False', 'False', 'False', 'True', 'False', 'False', 'True', 'False', 'True', 'True', 'True', 'True', 'True', 'True', 'False', 'True', 'True', 'True', 'False', 'False', 'False', 'True', 'True', 'True', 'True', 'True', 'True', 'False', 'False', 'True', 'True', 'True', 'False', 'False', 'False', 'False', 'False', 'False', 'False', 'False', 'False', 'True', 'True', 'True', 'False', 'False', 'False', 'True', 'True', 'False', 'False', 'False', 'False', 'True', 'False', 'True', 'False', 'False', 'False', 'True', 'False', 'False', 'False', 'False', 'False', 'False', 'True', 'False', 'False', 'False', 'False', 'False', 'False', 'True', 'False', 'False', 'False', 'False', 'False', 'False', 'False', 'False', 'False', 'False', 'True', 'True', 'False', 'False', 'False', 'True', 'True', 'True', 'False', 'False', 'False', 'True', 'True', 'False', 'False', 't1', 't2', 't2', 't0'], ['neg'])\n",
      "  (['False', 'True', 'True', 'False', 'False', 'False', 'True', 'False', 'False', 'True', 'False', 'True', 'False', 'True', 'True', 'True', 'False', 'False', 'True', 'True', 'True', 'True', 'True', 'False', 'True', 'True', 'True', 'False', 'False', 'True', 'True', 'True', 'False', 'True', 'False', 'False', 'False', 'False', 'True', 'False', 'True', 'False', 'True', 'True', 'False', 'True', 'False', 'False', 'True', 'True', 'False', 'True', 'False', 'False', 'False', 'False', 'True', 'True', 'True', 'False', 'False', 'False', 'False', 'True', 'False', 'False', 'True', 'True', 'False', 'True', 'False', 'False', 'False', 'False', 'True', 'True', 'True', 'False', 'False', 'False', 'False', 'True', 'False', 'False', 'True', 'True', 'False', 'True', 'True', 'True', 'False', 'True', 'False', 'True', 'True', 'True', 'False', 'True', 'False', 'True', 'True', 'False', 't1', 't2', 't1', 't2'], ['neg'])\n",
      "  (['False', 'True', 'True', 'False', 'False', 'False', 'True', 'False', 'False', 'True', 'False', 'True', 'False', 'True', 'True', 'True', 'False', 'True', 'True', 'True', 'True', 'True', 'True', 'False', 'True', 'True', 'True', 'False', 'False', 'True', 'True', 'True', 'False', 'False', 'False', 'True', 'False', 'False', 'True', 'False', 'True', 'False', 'True', 'True', 'False', 'False', 'False', 'True', 'True', 'True', 'False', 'False', 'False', 'True', 'False', 'False', 'True', 'True', 'True', 'False', 'False', 'False', 'False', 'False', 'False', 'False', 'True', 'True', 'False', 'False', 'False', 'True', 'False', 'False', 'True', 'True', 'True', 'False', 'False', 'False', 'False', 'False', 'False', 'False', 'True', 'True', 'False', 'True', 'True', 'True', 'False', 'True', 'False', 'True', 'True', 'True', 'False', 'True', 'False', 'True', 'True', 'False', 't1', 't2', 't1', 't1'], ['neg'])\n",
      "  (['True', 'True', 'True', 'False', 'False', 'False', 'True', 'False', 'False', 'True', 'False', 'True', 'True', 'True', 'True', 'True', 'False', 'True', 'True', 'True', 'True', 'False', 'False', 'False', 'True', 'True', 'True', 'True', 'True', 'True', 'False', 'False', 'True', 'False', 'True', 'True', 'False', 'False', 'False', 'False', 'False', 'False', 'False', 'False', 'True', 'False', 'True', 'True', 'False', 'False', 'False', 'False', 'True', 'True', 'False', 'False', 'True', 'True', 'True', 'False', 'False', 'False', 'False', 'False', 'True', 'False', 'False', 'False', 'False', 'False', 'False', 'True', 'False', 'False', 'True', 'True', 'False', 'False', 'False', 'False', 'False', 'False', 'False', 'False', 'False', 'False', 'False', 'True', 'True', 'False', 'False', 'False', 'False', 'True', 'True', 'False', 'False', 'False', 'False', 'False', 'True', 'False', 't1', 't2', 't1', 't0'], ['neg'])\n",
      "  (['True', 'True', 'True', 'False', 'False', 'False', 'True', 'False', 'False', 'True', 'False', 'True', 'True', 'True', 'True', 'True', 'True', 'False', 'True', 'True', 'True', 'False', 'False', 'False', 'True', 'True', 'True', 'True', 'True', 'True', 'False', 'True', 'True', 'True', 'False', 'False', 'False', 'False', 'False', 'False', 'False', 'False', 'False', 'True', 'True', 'True', 'False', 'False', 'False', 'True', 'True', 'True', 'False', 'False', 'False', 'False', 'True', 'False', 'True', 'False', 'False', 'False', 'True', 'False', 'False', 'False', 'False', 'True', 'False', 'True', 'False', 'False', 'False', 'False', 'False', 'False', 'True', 'False', 'False', 'False', 'False', 'False', 'False', 'False', 'False', 'False', 'False', 'True', 'False', 'False', 'False', 'False', 'True', 'True', 'False', 'False', 'False', 'False', 'True', 'True', 'False', 'False', 't1', 't2', 't0', 't2'], ['neg'])\n",
      "  (['True', 'True', 'True', 'False', 'False', 'False', 'True', 'False', 'False', 'True', 'False', 'True', 'True', 'True', 'True', 'True', 'False', 'True', 'True', 'True', 'True', 'False', 'False', 'False', 'True', 'True', 'True', 'True', 'True', 'True', 'True', 'False', 'False', 'False', 'True', 'True', 'False', 'False', 'False', 'False', 'False', 'False', 'True', 'False', 'False', 'False', 'True', 'True', 'True', 'False', 'False', 'False', 'True', 'True', 'False', 'False', 'True', 'True', 'True', 'False', 'False', 'False', 'False', 'False', 'True', 'False', 'True', 'False', 'False', 'False', 'True', 'False', 'False', 'False', 'False', 'True', 'True', 'False', 'False', 'False', 'False', 'False', 'True', 'False', 'False', 'False', 'False', 'False', 'True', 'False', 'False', 'False', 'False', 'False', 'True', 'False', 'False', 'False', 'False', 'False', 'False', 'False', 't1', 't2', 't0', 't1'], ['neg'])\n",
      "  (['True', 'True', 'True', 'False', 'False', 'False', 'True', 'False', 'False', 'True', 'False', 'True', 'True', 'True', 'True', 'False', 'True', 'True', 'True', 'True', 'True', 'False', 'False', 'False', 'True', 'True', 'True', 'True', 'True', 'True', 'False', 'False', 'True', 'True', 'True', 'False', 'False', 'False', 'False', 'False', 'False', 'False', 'False', 'False', 'True', 'True', 'True', 'False', 'False', 'False', 'True', 'True', 'True', 'False', 'False', 'False', 'False', 'True', 'False', 'False', 'False', 'False', 'False', 'True', 'False', 'False', 'False', 'False', 'False', 'True', 'True', 'False', 'False', 'False', 'False', 'True', 'False', 'False', 'False', 'False', 'False', 'True', 'False', 'False', 'False', 'False', 'False', 'True', 'True', 'False', 'False', 'False', 'True', 'True', 'True', 'False', 'False', 'False', 'True', 'True', 'False', 'False', 't1', 't2', 't0', 't0'], ['neg'])\n",
      "  (['False', 'True', 'True', 'False', 'False', 'False', 'True', 'False', 'False', 'True', 'False', 'True', 'False', 'True', 'True', 'True', 'False', 'False', 'True', 'True', 'True', 'True', 'True', 'False', 'True', 'True', 'True', 'False', 'False', 'True', 'True', 'True', 'False', 'True', 'False', 'False', 'False', 'False', 'True', 'False', 'True', 'False', 'True', 'True', 'False', 'True', 'False', 'False', 'True', 'True', 'False', 'False', 'False', 'False', 'False', 'False', 'True', 'False', 'True', 'False', 'False', 'False', 'False', 'False', 'False', 'False', 'True', 'True', 'False', 'False', 'False', 'False', 'False', 'False', 'True', 'False', 'True', 'False', 'False', 'False', 'False', 'False', 'False', 'False', 'True', 'True', 'False', 'True', 'True', 'True', 'False', 'True', 'True', 'True', 'True', 'True', 'False', 'True', 'True', 'True', 'True', 'False', 't1', 't1', 't2', 't2'], ['neg'])\n",
      "  (['False', 'True', 'True', 'False', 'False', 'False', 'True', 'False', 'False', 'True', 'False', 'True', 'False', 'True', 'True', 'True', 'False', 'True', 'True', 'True', 'True', 'True', 'True', 'False', 'True', 'True', 'True', 'False', 'False', 'True', 'True', 'True', 'False', 'False', 'False', 'True', 'False', 'False', 'True', 'False', 'True', 'False', 'True', 'True', 'False', 'False', 'False', 'True', 'True', 'True', 'False', 'False', 'False', 'True', 'False', 'False', 'True', 'True', 'True', 'False', 'False', 'False', 'False', 'False', 'False', 'False', 'True', 'True', 'False', 'False', 'False', 'True', 'False', 'False', 'True', 'True', 'True', 'False', 'False', 'False', 'False', 'False', 'False', 'False', 'True', 'True', 'False', 'True', 'True', 'True', 'False', 'True', 'False', 'True', 'True', 'True', 'False', 'True', 'False', 'True', 'True', 'False', 't1', 't1', 't2', 't1'], ['neg'])\n",
      "  (['True', 'True', 'True', 'False', 'False', 'False', 'True', 'False', 'False', 'True', 'False', 'True', 'True', 'True', 'True', 'True', 'False', 'True', 'True', 'True', 'True', 'False', 'False', 'False', 'True', 'True', 'True', 'True', 'True', 'True', 'False', 'False', 'True', 'True', 'True', 'False', 'False', 'False', 'False', 'False', 'False', 'False', 'False', 'False', 'True', 'True', 'True', 'False', 'False', 'False', 'False', 'False', 'True', 'False', 'False', 'False', 'True', 'True', 'True', 'False', 'False', 'False', 'False', 'False', 'True', 'False', 'False', 'False', 'False', 'False', 'True', 'False', 'False', 'False', 'False', 'True', 'True', 'False', 'False', 'False', 'False', 'False', 'True', 'False', 'False', 'False', 'False', 'True', 'True', 'False', 'False', 'False', 'True', 'True', 'True', 'False', 'False', 'False', 'True', 'True', 'False', 'False', 't1', 't1', 't2', 't0'], ['neg'])\n",
      "  (['False', 'True', 'True', 'False', 'False', 'False', 'True', 'False', 'False', 'True', 'False', 'True', 'False', 'True', 'True', 'True', 'False', 'True', 'True', 'True', 'True', 'True', 'True', 'False', 'True', 'True', 'True', 'False', 'False', 'True', 'True', 'True', 'False', 'True', 'False', 'False', 'False', 'False', 'True', 'False', 'True', 'False', 'True', 'True', 'False', 'True', 'False', 'False', 'True', 'True', 'False', 'False', 'False', 'False', 'False', 'False', 'True', 'True', 'True', 'False', 'False', 'False', 'False', 'False', 'False', 'False', 'True', 'True', 'False', 'False', 'False', 'False', 'False', 'False', 'True', 'True', 'True', 'False', 'False', 'False', 'False', 'False', 'False', 'False', 'True', 'True', 'False', 'True', 'True', 'True', 'False', 'True', 'True', 'True', 'True', 'True', 'False', 'True', 'True', 'True', 'True', 'False', 't1', 't1', 't1', 't2'], ['neg'])\n",
      "  (['False', 'True', 'False', 'False', 'True', 'False', 'True', 'False', 'False', 'False', 'False', 'True', 'False', 'True', 'False', 'True', 'False', 'True', 'True', 'False', 'True', 'True', 'False', 'True', 'True', 'True', 'False', 'False', 'True', 'False', 'True', 'True', 'False', 'False', 'True', 'True', 'False', 'True', 'True', 'True', 'True', 'False', 'True', 'True', 'False', 'False', 'True', 'True', 'True', 'True', 'False', 'False', 'True', 'True', 'False', 'True', 'True', 'True', 'True', 'False', 'False', 'True', 'False', 'False', 'True', 'False', 'True', 'True', 'False', 'False', 'True', 'True', 'False', 'True', 'True', 'True', 'True', 'False', 'False', 'True', 'False', 'False', 'True', 'False', 'True', 'True', 'False', 'True', 'True', 'True', 'True', 'True', 'True', 'True', 'True', 'True', 'True', 'True', 'True', 'True', 'True', 'True', 't1', 't1', 't1', 't1'], ['neg'])\n",
      "  (['True', 'True', 'False', 'False', 'False', 'False', 'True', 'False', 'True', 'False', 'False', 'True', 'True', 'True', 'False', 'True', 'False', 'True', 'True', 'True', 'True', 'False', 'True', 'True', 'True', 'False', 'False', 'True', 'False', 'False', 'False', 'False', 'True', 'False', 'True', 'True', 'False', 'True', 'False', 'True', 'False', 'False', 'False', 'False', 'True', 'False', 'True', 'True', 'False', 'False', 'False', 'False', 'True', 'True', 'False', 'True', 'True', 'True', 'False', 'False', 'False', 'False', 'False', 'False', 'False', 'False', 'False', 'False', 'False', 'False', 'True', 'True', 'False', 'True', 'True', 'True', 'False', 'False', 'False', 'False', 'False', 'False', 'False', 'False', 'False', 'False', 'False', 'True', 'True', 'False', 'True', 'True', 'True', 'True', 'True', 'False', 'True', 'True', 'True', 'False', 'True', 'True', 't1', 't1', 't1', 't0'], ['neg'])\n",
      "  (['True', 'True', 'False', 'False', 'False', 'False', 'True', 'False', 'True', 'False', 'False', 'True', 'True', 'True', 'False', 'True', 'False', 'True', 'True', 'True', 'True', 'False', 'True', 'True', 'True', 'False', 'False', 'True', 'False', 'False', 'True', 'False', 'False', 'False', 'True', 'True', 'False', 'True', 'False', 'True', 'False', 'False', 'True', 'False', 'False', 'False', 'True', 'True', 'True', 'False', 'False', 'False', 'True', 'True', 'False', 'True', 'True', 'True', 'False', 'False', 'False', 'False', 'False', 'False', 'False', 'False', 'True', 'False', 'False', 'False', 'True', 'True', 'False', 'True', 'True', 'True', 'False', 'False', 'False', 'False', 'False', 'False', 'False', 'False', 'False', 'False', 'False', 'False', 'True', 'False', 'True', 'True', 'True', 'False', 'True', 'False', 'True', 'True', 'True', 'False', 'True', 'True', 't1', 't1', 't0', 't1'], ['neg'])\n",
      "  (['True', 'True', 'False', 'False', 'False', 'False', 'True', 'False', 'True', 'False', 'False', 'True', 'True', 'True', 'False', 'False', 'False', 'True', 'True', 'True', 'True', 'False', 'True', 'True', 'True', 'False', 'False', 'True', 'False', 'False', 'False', 'False', 'True', 'False', 'True', 'True', 'False', 'True', 'False', 'True', 'False', 'False', 'False', 'False', 'True', 'False', 'True', 'True', 'False', 'False', 'False', 'False', 'True', 'True', 'False', 'True', 'False', 'True', 'False', 'False', 'False', 'False', 'False', 'False', 'False', 'False', 'False', 'False', 'False', 'False', 'True', 'True', 'False', 'True', 'False', 'True', 'False', 'False', 'False', 'False', 'False', 'False', 'False', 'False', 'False', 'False', 'False', 'True', 'True', 'False', 'True', 'True', 'True', 'True', 'True', 'False', 'True', 'True', 'True', 'False', 'True', 'True', 't1', 't1', 't0', 't0'], ['neg'])\n",
      "  (['True', 'True', 'True', 'False', 'False', 'False', 'True', 'False', 'True', 'False', 'False', 'True', 'True', 'True', 'True', 'False', 'True', 'True', 'True', 'True', 'True', 'False', 'False', 'False', 'True', 'True', 'True', 'True', 'True', 'True', 'False', 'False', 'True', 'True', 'True', 'False', 'False', 'False', 'False', 'False', 'False', 'False', 'False', 'False', 'True', 'True', 'True', 'False', 'False', 'False', 'True', 'True', 'True', 'False', 'False', 'True', 'False', 'True', 'False', 'False', 'False', 'False', 'False', 'True', 'False', 'False', 'False', 'False', 'True', 'False', 'True', 'False', 'False', 'True', 'False', 'False', 'False', 'False', 'False', 'False', 'False', 'False', 'False', 'False', 'False', 'False', 'False', 'True', 'False', 'False', 'False', 'False', 'True', 'True', 'False', 'False', 'False', 'False', 'True', 'False', 'False', 'True', 't1', 't0', 't2', 't0'], ['neg'])\n",
      "  (['True', 'True', 'False', 'False', 'False', 'False', 'True', 'False', 'True', 'False', 'False', 'True', 'True', 'True', 'False', 'True', 'False', 'True', 'True', 'True', 'True', 'False', 'True', 'True', 'True', 'False', 'False', 'True', 'False', 'False', 'True', 'False', 'False', 'False', 'True', 'True', 'False', 'True', 'False', 'True', 'False', 'False', 'True', 'False', 'False', 'False', 'True', 'True', 'True', 'False', 'False', 'False', 'True', 'True', 'False', 'True', 'True', 'True', 'False', 'False', 'False', 'False', 'False', 'False', 'False', 'False', 'True', 'False', 'False', 'False', 'True', 'True', 'False', 'True', 'True', 'True', 'False', 'False', 'False', 'False', 'False', 'False', 'False', 'False', 'False', 'False', 'False', 'False', 'True', 'False', 'True', 'True', 'True', 'False', 'True', 'False', 'True', 'True', 'True', 'False', 'True', 'True', 't1', 't0', 't1', 't1'], ['neg'])\n",
      "  (['True', 'True', 'False', 'False', 'False', 'False', 'True', 'False', 'True', 'False', 'False', 'True', 'True', 'True', 'False', 'False', 'False', 'True', 'True', 'True', 'True', 'False', 'True', 'True', 'True', 'False', 'False', 'True', 'False', 'False', 'False', 'False', 'True', 'False', 'True', 'True', 'False', 'True', 'False', 'True', 'False', 'False', 'False', 'False', 'True', 'False', 'True', 'True', 'False', 'False', 'True', 'False', 'True', 'True', 'False', 'True', 'True', 'True', 'False', 'False', 'False', 'False', 'True', 'False', 'False', 'False', 'False', 'False', 'True', 'False', 'True', 'True', 'False', 'True', 'True', 'True', 'False', 'False', 'False', 'False', 'True', 'False', 'False', 'False', 'False', 'False', 'False', 'False', 'True', 'False', 'True', 'True', 'True', 'False', 'True', 'False', 'True', 'True', 'True', 'False', 'True', 'True', 't1', 't0', 't1', 't0'], ['neg'])\n",
      "  (['True', 'True', 'False', 'False', 'False', 'False', 'True', 'False', 'True', 'False', 'False', 'True', 'True', 'True', 'False', 'False', 'False', 'True', 'True', 'True', 'True', 'False', 'True', 'True', 'True', 'False', 'False', 'True', 'False', 'False', 'True', 'False', 'False', 'False', 'True', 'True', 'False', 'True', 'False', 'True', 'False', 'False', 'True', 'False', 'False', 'False', 'True', 'True', 'False', 'False', 'False', 'False', 'True', 'True', 'False', 'True', 'False', 'True', 'False', 'False', 'False', 'False', 'False', 'False', 'False', 'False', 'False', 'False', 'False', 'False', 'True', 'True', 'False', 'True', 'False', 'True', 'False', 'False', 'False', 'False', 'False', 'False', 'False', 'False', 'False', 'False', 'False', 'False', 'True', 'False', 'True', 'True', 'True', 'False', 'True', 'False', 'True', 'True', 'True', 'False', 'True', 'True', 't1', 't0', 't0', 't1'], ['neg'])\n",
      "  (['True', 'True', 'False', 'False', 'False', 'False', 'True', 'False', 'True', 'False', 'False', 'True', 'True', 'True', 'False', 'False', 'True', 'True', 'True', 'True', 'True', 'False', 'True', 'True', 'True', 'False', 'False', 'True', 'False', 'False', 'False', 'False', 'True', 'False', 'True', 'True', 'False', 'True', 'False', 'True', 'False', 'False', 'False', 'False', 'True', 'False', 'True', 'True', 'False', 'False', 'True', 'False', 'True', 'True', 'False', 'True', 'False', 'True', 'False', 'False', 'False', 'False', 'False', 'False', 'False', 'False', 'False', 'False', 'True', 'False', 'True', 'True', 'False', 'True', 'False', 'True', 'False', 'False', 'False', 'False', 'False', 'False', 'False', 'False', 'False', 'False', 'False', 'True', 'True', 'False', 'True', 'True', 'True', 'True', 'True', 'False', 'True', 'True', 'True', 'False', 'True', 'True', 't1', 't0', 't0', 't0'], ['neg'])\n",
      "  (['True', 'False', 'True', 'False', 'False', 'False', 'False', 'True', 'True', 'False', 'True', 'False', 'True', 'False', 'True', 'False', 'True', 'False', 'True', 'True', 'True', 'True', 'False', 'True', 'False', 'True', 'True', 'False', 'True', 'False', 'False', 'False', 'True', 'True', 'True', 'False', 'True', 'False', 'False', 'False', 'False', 'True', 'False', 'False', 'True', 'True', 'True', 'False', 'False', 'False', 'True', 'True', 'False', 'False', 'True', 'False', 'False', 'False', 'False', 'True', 'False', 'False', 'False', 'False', 'False', 'False', 'False', 'False', 'True', 'True', 'False', 'False', 'True', 'False', 'False', 'False', 'False', 'True', 'False', 'False', 'False', 'False', 'False', 'False', 'False', 'False', 'True', 'True', 'False', 'True', 'True', 'False', 'True', 'True', 'False', 'True', 'True', 'False', 'True', 'True', 'False', 'True', 't0', 't2', 't2', 't0'], ['neg'])\n",
      "  (['True', 'True', 'True', 'False', 'False', 'False', 'False', 'True', 'True', 'False', 'True', 'False', 'True', 'True', 'True', 'False', 'True', 'True', 'True', 'True', 'True', 'False', 'False', 'False', 'True', 'True', 'True', 'True', 'True', 'True', 'False', 'False', 'True', 'False', 'True', 'True', 'False', 'False', 'False', 'False', 'False', 'False', 'False', 'False', 'True', 'False', 'True', 'True', 'False', 'False', 'True', 'False', 'True', 'True', 'True', 'True', 'False', 'False', 'False', 'True', 'False', 'False', 'False', 'False', 'False', 'True', 'False', 'False', 'True', 'False', 'False', 'True', 'False', 'True', 'False', 'False', 'False', 'True', 'False', 'False', 'False', 'False', 'False', 'True', 'False', 'False', 'False', 'False', 'False', 'False', 'True', 'False', 'False', 'False', 'False', 'False', 'True', 'False', 'False', 'False', 'False', 'False', 't0', 't2', 't1', 't0'], ['neg'])\n",
      "  (['True', 'False', 'True', 'False', 'False', 'False', 'False', 'True', 'True', 'False', 'True', 'False', 'True', 'False', 'True', 'False', 'True', 'False', 'True', 'True', 'True', 'True', 'False', 'True', 'False', 'True', 'True', 'False', 'True', 'False', 'False', 'True', 'True', 'True', 'False', 'False', 'True', 'False', 'False', 'False', 'False', 'True', 'False', 'True', 'True', 'True', 'False', 'False', 'False', 'True', 'True', 'True', 'False', 'False', 'True', 'True', 'False', 'False', 'False', 'True', 'False', 'True', 'False', 'False', 'False', 'False', 'False', 'True', 'True', 'True', 'False', 'False', 'True', 'True', 'False', 'False', 'False', 'True', 'False', 'True', 'False', 'False', 'False', 'False', 'False', 'False', 'True', 'True', 'False', 'True', 'True', 'False', 'True', 'True', 'False', 'True', 'True', 'False', 'True', 'True', 'False', 'True', 't0', 't2', 't0', 't2'], ['neg'])\n",
      "  (['True', 'True', 'True', 'False', 'False', 'False', 'False', 'True', 'True', 'False', 'True', 'False', 'True', 'True', 'True', 'False', 'True', 'True', 'True', 'True', 'True', 'False', 'False', 'False', 'True', 'True', 'True', 'True', 'True', 'True', 'True', 'False', 'False', 'False', 'True', 'True', 'False', 'False', 'False', 'False', 'False', 'False', 'True', 'False', 'False', 'False', 'True', 'True', 'False', 'False', 'False', 'False', 'True', 'True', 'True', 'True', 'False', 'False', 'False', 'True', 'False', 'False', 'False', 'False', 'False', 'True', 'False', 'False', 'False', 'False', 'True', 'False', 'True', 'True', 'False', 'False', 'False', 'False', 'False', 'False', 'False', 'False', 'False', 'False', 'False', 'False', 'False', 'False', 'False', 'True', 'True', 'False', 'False', 'False', 'False', 'True', 'True', 'False', 'False', 'False', 'False', 'True', 't0', 't2', 't0', 't1'], ['neg'])\n",
      "  (['True', 'False', 'True', 'False', 'False', 'False', 'False', 'True', 'True', 'False', 'True', 'False', 'True', 'False', 'True', 'False', 'True', 'True', 'True', 'True', 'True', 'True', 'False', 'True', 'False', 'True', 'True', 'False', 'True', 'False', 'False', 'False', 'True', 'True', 'True', 'False', 'True', 'False', 'False', 'False', 'False', 'True', 'False', 'False', 'True', 'True', 'True', 'False', 'False', 'False', 'True', 'True', 'True', 'False', 'True', 'True', 'False', 'False', 'False', 'True', 'False', 'False', 'False', 'False', 'False', 'False', 'False', 'False', 'True', 'True', 'True', 'False', 'True', 'True', 'False', 'False', 'False', 'True', 'False', 'False', 'False', 'False', 'False', 'False', 'False', 'False', 'True', 'True', 'False', 'True', 'True', 'False', 'True', 'True', 'False', 'True', 'True', 'False', 'True', 'True', 'False', 'True', 't0', 't2', 't0', 't0'], ['neg'])\n",
      "  (['True', 'True', 'True', 'False', 'False', 'False', 'True', 'False', 'True', 'False', 'True', 'False', 'True', 'True', 'True', 'False', 'True', 'True', 'True', 'True', 'True', 'False', 'False', 'False', 'True', 'True', 'True', 'True', 'True', 'True', 'False', 'False', 'True', 'True', 'True', 'False', 'False', 'False', 'False', 'False', 'False', 'False', 'False', 'False', 'True', 'True', 'True', 'False', 'False', 'False', 'True', 'True', 'True', 'False', 'True', 'True', 'False', 'True', 'False', 'False', 'False', 'False', 'False', 'True', 'False', 'False', 'False', 'False', 'False', 'True', 'True', 'False', 'True', 'False', 'False', 'True', 'False', 'False', 'False', 'False', 'False', 'True', 'False', 'False', 'False', 'False', 'False', 'False', 'False', 'False', 'False', 'False', 'True', 'False', 'False', 'False', 'False', 'False', 'True', 'False', 'False', 'False', 't0', 't1', 't2', 't0'], ['neg'])\n",
      "  (['True', 'True', 'False', 'False', 'False', 'False', 'True', 'False', 'True', 'False', 'True', 'False', 'True', 'True', 'False', 'True', 'False', 'True', 'True', 'True', 'True', 'False', 'True', 'True', 'True', 'False', 'False', 'True', 'False', 'False', 'True', 'False', 'False', 'False', 'True', 'True', 'False', 'True', 'False', 'True', 'False', 'False', 'True', 'False', 'False', 'False', 'True', 'True', 'True', 'False', 'False', 'False', 'True', 'True', 'False', 'True', 'False', 'True', 'False', 'False', 'False', 'False', 'False', 'False', 'False', 'False', 'True', 'False', 'False', 'False', 'True', 'True', 'False', 'True', 'False', 'True', 'False', 'False', 'False', 'False', 'False', 'False', 'False', 'False', 'False', 'False', 'False', 'False', 'True', 'True', 'True', 'True', 'True', 'False', 'True', 'True', 'True', 'True', 'True', 'False', 'True', 'True', 't0', 't1', 't1', 't1'], ['neg'])\n",
      "  (['True', 'True', 'False', 'False', 'False', 'False', 'True', 'False', 'True', 'False', 'True', 'False', 'True', 'True', 'False', 'False', 'False', 'True', 'True', 'True', 'True', 'False', 'True', 'True', 'True', 'False', 'False', 'True', 'False', 'False', 'False', 'False', 'True', 'False', 'True', 'True', 'False', 'True', 'False', 'True', 'False', 'False', 'False', 'False', 'True', 'False', 'True', 'True', 'False', 'False', 'False', 'False', 'True', 'True', 'False', 'True', 'False', 'True', 'False', 'False', 'False', 'False', 'False', 'False', 'False', 'False', 'False', 'False', 'False', 'False', 'True', 'True', 'False', 'True', 'False', 'True', 'False', 'False', 'False', 'False', 'False', 'False', 'False', 'False', 'False', 'False', 'False', 'False', 'True', 'False', 'True', 'True', 'True', 'False', 'True', 'False', 'True', 'True', 'True', 'False', 'True', 'True', 't0', 't1', 't1', 't0'], ['neg'])\n",
      "  (['True', 'True', 'False', 'False', 'False', 'False', 'True', 'False', 'True', 'False', 'True', 'False', 'True', 'True', 'False', 'False', 'False', 'True', 'True', 'True', 'True', 'False', 'True', 'True', 'True', 'False', 'False', 'True', 'False', 'False', 'True', 'False', 'False', 'False', 'True', 'True', 'False', 'True', 'False', 'True', 'False', 'False', 'True', 'False', 'False', 'False', 'True', 'True', 'True', 'False', 'False', 'False', 'True', 'True', 'True', 'True', 'False', 'True', 'False', 'False', 'True', 'False', 'False', 'False', 'False', 'False', 'True', 'False', 'False', 'False', 'True', 'True', 'True', 'True', 'False', 'True', 'False', 'False', 'True', 'False', 'False', 'False', 'False', 'False', 'False', 'False', 'False', 'False', 'True', 'False', 'True', 'True', 'True', 'False', 'True', 'False', 'True', 'True', 'True', 'False', 'True', 'True', 't0', 't1', 't0', 't1'], ['neg'])\n",
      "  (['True', 'True', 'False', 'False', 'False', 'False', 'True', 'False', 'True', 'False', 'True', 'False', 'True', 'True', 'False', 'False', 'True', 'True', 'True', 'True', 'True', 'False', 'True', 'True', 'True', 'False', 'False', 'True', 'False', 'False', 'False', 'False', 'True', 'False', 'True', 'True', 'False', 'True', 'False', 'True', 'False', 'False', 'False', 'False', 'True', 'False', 'True', 'True', 'False', 'False', 'True', 'False', 'True', 'True', 'True', 'True', 'False', 'True', 'False', 'False', 'False', 'False', 'False', 'False', 'False', 'False', 'False', 'False', 'True', 'False', 'True', 'True', 'True', 'True', 'False', 'True', 'False', 'False', 'False', 'False', 'False', 'False', 'False', 'False', 'False', 'False', 'False', 'False', 'True', 'False', 'True', 'True', 'True', 'False', 'True', 'False', 'True', 'True', 'True', 'False', 'True', 'True', 't0', 't1', 't0', 't0'], ['neg'])\n",
      "  (['True', 'False', 'True', 'False', 'False', 'False', 'False', 'True', 'True', 'False', 'True', 'False', 'True', 'False', 'True', 'False', 'True', 'True', 'True', 'True', 'True', 'True', 'False', 'True', 'False', 'True', 'True', 'False', 'True', 'False', 'False', 'False', 'True', 'True', 'True', 'False', 'True', 'False', 'False', 'False', 'False', 'True', 'False', 'False', 'True', 'True', 'True', 'False', 'False', 'False', 'True', 'True', 'True', 'False', 'True', 'True', 'False', 'False', 'False', 'True', 'False', 'False', 'False', 'False', 'False', 'False', 'False', 'False', 'True', 'True', 'True', 'False', 'True', 'True', 'False', 'False', 'False', 'True', 'False', 'False', 'False', 'False', 'False', 'False', 'False', 'False', 'True', 'True', 'False', 'True', 'True', 'False', 'True', 'True', 'False', 'True', 'True', 'False', 'True', 'True', 'False', 'True', 't0', 't0', 't2', 't0'], ['neg'])\n",
      "  (['True', 'True', 'False', 'False', 'False', 'False', 'True', 'False', 'True', 'False', 'True', 'False', 'True', 'True', 'False', 'False', 'False', 'True', 'True', 'True', 'True', 'False', 'True', 'True', 'True', 'False', 'False', 'True', 'False', 'False', 'True', 'False', 'False', 'False', 'True', 'True', 'False', 'True', 'False', 'True', 'False', 'False', 'True', 'False', 'False', 'False', 'True', 'True', 'False', 'False', 'False', 'False', 'True', 'True', 'False', 'True', 'False', 'True', 'False', 'False', 'False', 'False', 'False', 'False', 'False', 'False', 'False', 'False', 'False', 'False', 'True', 'True', 'False', 'True', 'False', 'True', 'False', 'False', 'False', 'False', 'False', 'False', 'False', 'False', 'False', 'False', 'False', 'False', 'True', 'True', 'True', 'True', 'True', 'False', 'True', 'True', 'True', 'True', 'True', 'False', 'True', 'True', 't0', 't0', 't1', 't1'], ['neg'])\n",
      "  (['True', 'True', 'False', 'False', 'False', 'False', 'True', 'False', 'True', 'False', 'True', 'False', 'True', 'True', 'False', 'False', 'True', 'True', 'True', 'True', 'True', 'False', 'True', 'True', 'True', 'False', 'False', 'True', 'False', 'False', 'False', 'False', 'True', 'False', 'True', 'True', 'False', 'True', 'False', 'True', 'False', 'False', 'False', 'False', 'True', 'False', 'True', 'True', 'False', 'False', 'True', 'False', 'True', 'True', 'True', 'True', 'False', 'True', 'False', 'False', 'False', 'False', 'False', 'False', 'False', 'False', 'False', 'False', 'True', 'False', 'True', 'True', 'True', 'True', 'False', 'True', 'False', 'False', 'False', 'False', 'False', 'False', 'False', 'False', 'False', 'False', 'False', 'False', 'True', 'False', 'True', 'True', 'True', 'False', 'True', 'False', 'True', 'True', 'True', 'False', 'True', 'True', 't0', 't0', 't1', 't0'], ['neg'])\n",
      "  (['True', 'True', 'False', 'False', 'False', 'False', 'True', 'False', 'True', 'False', 'True', 'False', 'True', 'True', 'False', 'False', 'True', 'True', 'True', 'True', 'True', 'False', 'True', 'True', 'True', 'False', 'False', 'True', 'False', 'False', 'True', 'False', 'False', 'False', 'True', 'True', 'False', 'True', 'False', 'True', 'False', 'False', 'True', 'False', 'False', 'False', 'True', 'True', 'False', 'False', 'False', 'False', 'True', 'True', 'True', 'True', 'False', 'True', 'False', 'False', 'False', 'False', 'False', 'False', 'False', 'False', 'False', 'False', 'False', 'False', 'True', 'True', 'True', 'True', 'False', 'True', 'False', 'False', 'False', 'False', 'False', 'False', 'False', 'False', 'False', 'False', 'False', 'False', 'True', 'True', 'True', 'True', 'True', 'False', 'True', 'True', 'True', 'True', 'True', 'False', 'True', 'True', 't0', 't0', 't0', 't1'], ['neg'])\n",
      "  (['True', 'False', 'False', 'True', 'False', 'False', 'False', 'False', 'True', 'False', 'True', 'False', 'True', 'False', 'False', 'False', 'True', 'True', 'True', 'True', 'False', 'True', 'True', 'False', 'False', 'False', 'True', 'False', 'False', 'True', 'False', 'False', 'True', 'True', 'True', 'True', 'True', 'True', 'False', 'True', 'False', 'True', 'False', 'False', 'True', 'True', 'True', 'True', 'False', 'False', 'True', 'True', 'True', 'True', 'True', 'True', 'False', 'True', 'False', 'True', 'False', 'False', 'False', 'True', 'False', 'True', 'False', 'False', 'True', 'True', 'True', 'True', 'True', 'True', 'False', 'True', 'False', 'True', 'False', 'False', 'False', 'True', 'False', 'True', 'False', 'False', 'True', 'True', 'True', 'True', 'True', 'True', 'True', 'True', 'True', 'True', 'True', 'True', 'True', 'True', 'True', 'True', 't0', 't0', 't0', 't0'], ['neg'])\n",
      "\n"
     ]
    }
   ],
   "source": [
    "# Reduce properties variables\n",
    "PRIDE_property_functions = property_functions\n",
    "\n",
    "feature_names, data = convert_to_LFIT(events,pos,neg,PRIDE_property_functions)\n",
    "\n",
    "# trick change variable order to force pride to use pos in last resort\n",
    "feature_names = feature_names[LEN_SEQUENCE:] + feature_names[:LEN_SEQUENCE]\n",
    "data = [(s[LEN_SEQUENCE:] + s[:LEN_SEQUENCE],s_) for (s,s_) in data]\n",
    "\n",
    "# Convert array data as a StateTransitionsDataset using pylfit.preprocessing\n",
    "dataset = pylfit.preprocessing.transitions_dataset_from_array(data=data, \\\n",
    "feature_names=feature_names, target_names=[\"class\"])\n",
    "dataset.summary()\n",
    "print()"
   ]
  },
  {
   "cell_type": "code",
   "execution_count": 48,
   "id": "b32cee73",
   "metadata": {
    "execution": {
     "iopub.execute_input": "2022-05-23T14:17:14.427252Z",
     "iopub.status.busy": "2022-05-23T14:17:14.426212Z",
     "iopub.status.idle": "2022-05-23T14:17:14.433580Z",
     "shell.execute_reply": "2022-05-23T14:17:14.432868Z"
    },
    "papermill": {
     "duration": 0.114138,
     "end_time": "2022-05-23T14:17:14.436189",
     "exception": false,
     "start_time": "2022-05-23T14:17:14.322051",
     "status": "completed"
    },
    "tags": []
   },
   "outputs": [
    {
     "name": "stdout",
     "output_type": "stream",
     "text": [
      "106 variables\n"
     ]
    }
   ],
   "source": [
    "print(len(dataset.features),\"variables\")"
   ]
  },
  {
   "cell_type": "code",
   "execution_count": 49,
   "id": "a4b730e8",
   "metadata": {
    "execution": {
     "iopub.execute_input": "2022-05-23T14:17:14.638333Z",
     "iopub.status.busy": "2022-05-23T14:17:14.637788Z",
     "iopub.status.idle": "2022-05-23T14:17:14.701221Z",
     "shell.execute_reply": "2022-05-23T14:17:14.699611Z"
    },
    "papermill": {
     "duration": 0.167256,
     "end_time": "2022-05-23T14:17:14.703843",
     "exception": false,
     "start_time": "2022-05-23T14:17:14.536587",
     "status": "completed"
    },
    "tags": []
   },
   "outputs": [
    {
     "name": "stdout",
     "output_type": "stream",
     "text": [
      "WDMVLP summary:\n",
      " Algorithm: pride\n",
      " Features: \n",
      "  ltl_Finally_t0: ['False', 'True']\n",
      "  ltl_Finally_t1: ['False', 'True']\n",
      "  ltl_Finally_t2: ['False', 'True']\n",
      "  ltl_Globally_t0: ['False', 'True']\n",
      "  ltl_Globally_t1: ['False', 'True']\n",
      "  ltl_Globally_t2: ['False', 'True']\n",
      "  ltl_t0_Until_t1: ['False', 'True']\n",
      "  ltl_t0_Until_t2: ['False', 'True']\n",
      "  ltl_t1_Until_t0: ['False', 'True']\n",
      "  ltl_t1_Until_t2: ['False', 'True']\n",
      "  ltl_t2_Until_t0: ['False', 'True']\n",
      "  ltl_t2_Until_t1: ['False', 'True']\n",
      "  existence_t0: ['False', 'True']\n",
      "  existence_t1: ['False', 'True']\n",
      "  existence_t2: ['False', 'True']\n",
      "  absence_2_t0: ['False', 'True']\n",
      "  absence_2_t1: ['False', 'True']\n",
      "  absence_2_t2: ['False', 'True']\n",
      "  choice_t0_t1: ['False', 'True']\n",
      "  choice_t0_t2: ['False', 'True']\n",
      "  choice_t1_t2: ['False', 'True']\n",
      "  exclusive_choice_t0_t1: ['False', 'True']\n",
      "  exclusive_choice_t0_t2: ['False', 'True']\n",
      "  exclusive_choice_t1_t2: ['False', 'True']\n",
      "  resp_existence_t0_t1: ['False', 'True']\n",
      "  resp_existence_t0_t2: ['False', 'True']\n",
      "  resp_existence_t1_t2: ['False', 'True']\n",
      "  coexistence_t0_t1: ['False', 'True']\n",
      "  coexistence_t0_t2: ['False', 'True']\n",
      "  coexistence_t1_t2: ['False', 'True']\n",
      "  response_t0_t1: ['False', 'True']\n",
      "  response_t0_t2: ['False', 'True']\n",
      "  response_t1_t0: ['False', 'True']\n",
      "  response_t1_t2: ['False', 'True']\n",
      "  response_t2_t0: ['False', 'True']\n",
      "  response_t2_t1: ['False', 'True']\n",
      "  precedence_t0_t1: ['False', 'True']\n",
      "  precedence_t0_t2: ['False', 'True']\n",
      "  precedence_t1_t0: ['False', 'True']\n",
      "  precedence_t1_t2: ['False', 'True']\n",
      "  precedence_t2_t0: ['False', 'True']\n",
      "  precedence_t2_t1: ['False', 'True']\n",
      "  succession_t0_t1: ['False', 'True']\n",
      "  succession_t0_t2: ['False', 'True']\n",
      "  succession_t1_t0: ['False', 'True']\n",
      "  succession_t1_t2: ['False', 'True']\n",
      "  succession_t2_t0: ['False', 'True']\n",
      "  succession_t2_t1: ['False', 'True']\n",
      "  alt_response_t0_t1: ['False', 'True']\n",
      "  alt_response_t0_t2: ['False', 'True']\n",
      "  alt_response_t1_t0: ['False', 'True']\n",
      "  alt_response_t1_t2: ['False', 'True']\n",
      "  alt_response_t2_t0: ['False', 'True']\n",
      "  alt_response_t2_t1: ['False', 'True']\n",
      "  alt_precedence_t0_t1: ['False', 'True']\n",
      "  alt_precedence_t0_t2: ['False', 'True']\n",
      "  alt_precedence_t1_t0: ['False', 'True']\n",
      "  alt_precedence_t1_t2: ['False', 'True']\n",
      "  alt_precedence_t2_t0: ['False', 'True']\n",
      "  alt_precedence_t2_t1: ['False', 'True']\n",
      "  alt_succession_t0_t1: ['False', 'True']\n",
      "  alt_succession_t0_t2: ['False', 'True']\n",
      "  alt_succession_t1_t0: ['False', 'True']\n",
      "  alt_succession_t1_t2: ['False', 'True']\n",
      "  alt_succession_t2_t0: ['False', 'True']\n",
      "  alt_succession_t2_t1: ['False', 'True']\n",
      "  chain_response_t0_t1: ['False', 'True']\n",
      "  chain_response_t0_t2: ['False', 'True']\n",
      "  chain_response_t1_t0: ['False', 'True']\n",
      "  chain_response_t1_t2: ['False', 'True']\n",
      "  chain_response_t2_t0: ['False', 'True']\n",
      "  chain_response_t2_t1: ['False', 'True']\n",
      "  chain_precedence_t0_t1: ['False', 'True']\n",
      "  chain_precedence_t0_t2: ['False', 'True']\n",
      "  chain_precedence_t1_t0: ['False', 'True']\n",
      "  chain_precedence_t1_t2: ['False', 'True']\n",
      "  chain_precedence_t2_t0: ['False', 'True']\n",
      "  chain_precedence_t2_t1: ['False', 'True']\n",
      "  chain_succession_t0_t1: ['False', 'True']\n",
      "  chain_succession_t0_t2: ['False', 'True']\n",
      "  chain_succession_t1_t0: ['False', 'True']\n",
      "  chain_succession_t1_t2: ['False', 'True']\n",
      "  chain_succession_t2_t0: ['False', 'True']\n",
      "  chain_succession_t2_t1: ['False', 'True']\n",
      "  not_coexistence_t0_t1: ['False', 'True']\n",
      "  not_coexistence_t0_t2: ['False', 'True']\n",
      "  not_coexistence_t1_t2: ['False', 'True']\n",
      "  not_precedence_t0_t1: ['False', 'True']\n",
      "  not_precedence_t0_t2: ['False', 'True']\n",
      "  not_precedence_t1_t0: ['False', 'True']\n",
      "  not_precedence_t1_t2: ['False', 'True']\n",
      "  not_precedence_t2_t0: ['False', 'True']\n",
      "  not_precedence_t2_t1: ['False', 'True']\n",
      "  not_succession_t0_t1: ['False', 'True']\n",
      "  not_succession_t0_t2: ['False', 'True']\n",
      "  not_succession_t1_t0: ['False', 'True']\n",
      "  not_succession_t1_t2: ['False', 'True']\n",
      "  not_succession_t2_t0: ['False', 'True']\n",
      "  not_succession_t2_t1: ['False', 'True']\n",
      "  not_chain_succession_t0_t1: ['False', 'True']\n",
      "  not_chain_succession_t0_t2: ['False', 'True']\n",
      "  not_chain_succession_t1_t2: ['False', 'True']\n",
      "  ev_0: ['t0', 't1', 't2']\n",
      "  ev_1: ['t0', 't1', 't2']\n",
      "  ev_2: ['t0', 't1', 't2']\n",
      "  ev_3: ['t0', 't1', 't2']\n",
      " Targets: \n",
      "  class: ['neg', 'pos']\n",
      " Likeliness rules:\n",
      "  16, class(neg) :- ltl_Finally_t2(False).\n",
      "  41, class(neg) :- ltl_t1_Until_t0(False).\n",
      "  40, class(neg) :- response_t0_t2(False).\n",
      "  1, class(neg) :- absence_2_t0(False), alt_response_t0_t2(True).\n",
      "  6, class(pos) :- ltl_Finally_t2(True), ltl_t0_Until_t1(True), ltl_t1_Until_t0(True), response_t0_t1(True).\n",
      "  4, class(pos) :- ltl_t0_Until_t1(False), ltl_t1_Until_t0(True), absence_2_t0(True).\n",
      "  10, class(pos) :- ltl_t0_Until_t1(True), ltl_t1_Until_t0(True), response_t0_t2(True).\n",
      "  6, class(pos) :- ltl_t1_Until_t0(True), response_t0_t2(True), alt_response_t0_t2(False).\n",
      " Unlikeliness rules:\n",
      "  6, class(neg) :- ltl_Finally_t2(True), ltl_t0_Until_t1(True), ltl_t1_Until_t0(True), response_t0_t1(True).\n",
      "  4, class(neg) :- ltl_t0_Until_t1(False), ltl_t1_Until_t0(True), absence_2_t0(True).\n",
      "  10, class(neg) :- ltl_t0_Until_t1(True), ltl_t1_Until_t0(True), response_t0_t2(True).\n",
      "  6, class(neg) :- ltl_t1_Until_t0(True), response_t0_t2(True), alt_response_t0_t2(False).\n",
      "  16, class(pos) :- ltl_Finally_t2(False).\n",
      "  41, class(pos) :- ltl_t1_Until_t0(False).\n",
      "  40, class(pos) :- response_t0_t2(False).\n",
      "  1, class(pos) :- absence_2_t0(False), alt_response_t0_t2(True).\n"
     ]
    }
   ],
   "source": [
    "# Initialize a WDMVLP with the dataset variables and set GULA as learning algorithm\n",
    "model = pylfit.models.WDMVLP(features=dataset.features, targets=dataset.targets)\n",
    "model.compile(algorithm=\"pride\") # model.compile(algorithm=\"pride\")\n",
    "\n",
    "# Fit the DMVLP on the dataset\n",
    "model.fit(dataset=dataset)\n",
    "model.summary()"
   ]
  },
  {
   "cell_type": "code",
   "execution_count": 50,
   "id": "c612a4b5",
   "metadata": {
    "execution": {
     "iopub.execute_input": "2022-05-23T14:17:14.908820Z",
     "iopub.status.busy": "2022-05-23T14:17:14.908529Z",
     "iopub.status.idle": "2022-05-23T14:17:14.916005Z",
     "shell.execute_reply": "2022-05-23T14:17:14.915027Z"
    },
    "papermill": {
     "duration": 0.111647,
     "end_time": "2022-05-23T14:17:14.918585",
     "exception": false,
     "start_time": "2022-05-23T14:17:14.806938",
     "status": "completed"
    },
    "tags": []
   },
   "outputs": [
    {
     "name": "stdout",
     "output_type": "stream",
     "text": [
      "Best neg rules:\n",
      "[(41, 'class(neg) :- ltl_t1_Until_t0(False).'), (40, 'class(neg) :- response_t0_t2(False).'), (16, 'class(neg) :- ltl_Finally_t2(False).'), (1, 'class(neg) :- absence_2_t0(False), alt_response_t0_t2(True).')]\n",
      "Best pos rules:\n",
      "[(10, 'class(pos) :- ltl_t0_Until_t1(True), ltl_t1_Until_t0(True), response_t0_t2(True).'), (6, 'class(pos) :- ltl_t1_Until_t0(True), response_t0_t2(True), alt_response_t0_t2(False).'), (6, 'class(pos) :- ltl_Finally_t2(True), ltl_t0_Until_t1(True), ltl_t1_Until_t0(True), response_t0_t1(True).'), (4, 'class(pos) :- ltl_t0_Until_t1(False), ltl_t1_Until_t0(True), absence_2_t0(True).')]\n"
     ]
    }
   ],
   "source": [
    "for label in model.targets[0][1]:\n",
    "    print(\"Best\",label,\"rules:\")\n",
    "    print(sorted([(w,r.logic_form(model.features,model.targets)) for w,r in model.rules if model.targets[r.head_variable][1][r.head_value] == label and w > 0], reverse=True)[:10])"
   ]
  },
  {
   "cell_type": "markdown",
   "id": "cdf054f0",
   "metadata": {
    "papermill": {
     "duration": 0.102472,
     "end_time": "2022-05-23T14:17:15.119256",
     "exception": false,
     "start_time": "2022-05-23T14:17:15.016784",
     "status": "completed"
    },
    "tags": []
   },
   "source": [
    "## 4.4) PRIDE: with reordered properties"
   ]
  },
  {
   "cell_type": "code",
   "execution_count": 51,
   "id": "4e64936f",
   "metadata": {
    "execution": {
     "iopub.execute_input": "2022-05-23T14:17:15.326372Z",
     "iopub.status.busy": "2022-05-23T14:17:15.326088Z",
     "iopub.status.idle": "2022-05-23T14:17:15.436431Z",
     "shell.execute_reply": "2022-05-23T14:17:15.431370Z"
    },
    "papermill": {
     "duration": 0.216166,
     "end_time": "2022-05-23T14:17:15.440834",
     "exception": false,
     "start_time": "2022-05-23T14:17:15.224668",
     "status": "completed"
    },
    "tags": []
   },
   "outputs": [
    {
     "name": "stdout",
     "output_type": "stream",
     "text": [
      "StateTransitionsDataset summary:\n",
      " Features: \n",
      "  existence_t0: ['False', 'True']\n",
      "  existence_t1: ['False', 'True']\n",
      "  existence_t2: ['False', 'True']\n",
      "  not_precedence_t0_t1: ['False', 'True']\n",
      "  not_precedence_t0_t2: ['False', 'True']\n",
      "  not_precedence_t1_t0: ['False', 'True']\n",
      "  not_precedence_t1_t2: ['False', 'True']\n",
      "  not_precedence_t2_t0: ['False', 'True']\n",
      "  not_precedence_t2_t1: ['False', 'True']\n",
      "  ltl_Finally_t0: ['False', 'True']\n",
      "  ltl_Finally_t1: ['False', 'True']\n",
      "  ltl_Finally_t2: ['False', 'True']\n",
      "  ltl_Globally_t0: ['False', 'True']\n",
      "  ltl_Globally_t1: ['False', 'True']\n",
      "  ltl_Globally_t2: ['False', 'True']\n",
      "  ltl_t0_Until_t1: ['False', 'True']\n",
      "  ltl_t0_Until_t2: ['False', 'True']\n",
      "  ltl_t1_Until_t0: ['False', 'True']\n",
      "  ltl_t1_Until_t2: ['False', 'True']\n",
      "  ltl_t2_Until_t0: ['False', 'True']\n",
      "  ltl_t2_Until_t1: ['False', 'True']\n",
      "  absence_2_t0: ['False', 'True']\n",
      "  absence_2_t1: ['False', 'True']\n",
      "  absence_2_t2: ['False', 'True']\n",
      "  choice_t0_t1: ['False', 'True']\n",
      "  choice_t0_t2: ['False', 'True']\n",
      "  choice_t1_t2: ['False', 'True']\n",
      "  exclusive_choice_t0_t1: ['False', 'True']\n",
      "  exclusive_choice_t0_t2: ['False', 'True']\n",
      "  exclusive_choice_t1_t2: ['False', 'True']\n",
      "  resp_existence_t0_t1: ['False', 'True']\n",
      "  resp_existence_t0_t2: ['False', 'True']\n",
      "  resp_existence_t1_t2: ['False', 'True']\n",
      "  coexistence_t0_t1: ['False', 'True']\n",
      "  coexistence_t0_t2: ['False', 'True']\n",
      "  coexistence_t1_t2: ['False', 'True']\n",
      "  response_t0_t1: ['False', 'True']\n",
      "  response_t0_t2: ['False', 'True']\n",
      "  response_t1_t0: ['False', 'True']\n",
      "  response_t1_t2: ['False', 'True']\n",
      "  response_t2_t0: ['False', 'True']\n",
      "  response_t2_t1: ['False', 'True']\n",
      "  precedence_t0_t1: ['False', 'True']\n",
      "  precedence_t0_t2: ['False', 'True']\n",
      "  precedence_t1_t0: ['False', 'True']\n",
      "  precedence_t1_t2: ['False', 'True']\n",
      "  precedence_t2_t0: ['False', 'True']\n",
      "  precedence_t2_t1: ['False', 'True']\n",
      "  succession_t0_t1: ['False', 'True']\n",
      "  succession_t0_t2: ['False', 'True']\n",
      "  succession_t1_t0: ['False', 'True']\n",
      "  succession_t1_t2: ['False', 'True']\n",
      "  succession_t2_t0: ['False', 'True']\n",
      "  succession_t2_t1: ['False', 'True']\n",
      "  alt_response_t0_t1: ['False', 'True']\n",
      "  alt_response_t0_t2: ['False', 'True']\n",
      "  alt_response_t1_t0: ['False', 'True']\n",
      "  alt_response_t1_t2: ['False', 'True']\n",
      "  alt_response_t2_t0: ['False', 'True']\n",
      "  alt_response_t2_t1: ['False', 'True']\n",
      "  alt_precedence_t0_t1: ['False', 'True']\n",
      "  alt_precedence_t0_t2: ['False', 'True']\n",
      "  alt_precedence_t1_t0: ['False', 'True']\n",
      "  alt_precedence_t1_t2: ['False', 'True']\n",
      "  alt_precedence_t2_t0: ['False', 'True']\n",
      "  alt_precedence_t2_t1: ['False', 'True']\n",
      "  alt_succession_t0_t1: ['False', 'True']\n",
      "  alt_succession_t0_t2: ['False', 'True']\n",
      "  alt_succession_t1_t0: ['False', 'True']\n",
      "  alt_succession_t1_t2: ['False', 'True']\n",
      "  alt_succession_t2_t0: ['False', 'True']\n",
      "  alt_succession_t2_t1: ['False', 'True']\n",
      "  chain_response_t0_t1: ['False', 'True']\n",
      "  chain_response_t0_t2: ['False', 'True']\n",
      "  chain_response_t1_t0: ['False', 'True']\n",
      "  chain_response_t1_t2: ['False', 'True']\n",
      "  chain_response_t2_t0: ['False', 'True']\n",
      "  chain_response_t2_t1: ['False', 'True']\n",
      "  chain_precedence_t0_t1: ['False', 'True']\n",
      "  chain_precedence_t0_t2: ['False', 'True']\n",
      "  chain_precedence_t1_t0: ['False', 'True']\n",
      "  chain_precedence_t1_t2: ['False', 'True']\n",
      "  chain_precedence_t2_t0: ['False', 'True']\n",
      "  chain_precedence_t2_t1: ['False', 'True']\n",
      "  chain_succession_t0_t1: ['False', 'True']\n",
      "  chain_succession_t0_t2: ['False', 'True']\n",
      "  chain_succession_t1_t0: ['False', 'True']\n",
      "  chain_succession_t1_t2: ['False', 'True']\n",
      "  chain_succession_t2_t0: ['False', 'True']\n",
      "  chain_succession_t2_t1: ['False', 'True']\n",
      "  not_coexistence_t0_t1: ['False', 'True']\n",
      "  not_coexistence_t0_t2: ['False', 'True']\n",
      "  not_coexistence_t1_t2: ['False', 'True']\n",
      "  not_succession_t0_t1: ['False', 'True']\n",
      "  not_succession_t0_t2: ['False', 'True']\n",
      "  not_succession_t1_t0: ['False', 'True']\n",
      "  not_succession_t1_t2: ['False', 'True']\n",
      "  not_succession_t2_t0: ['False', 'True']\n",
      "  not_succession_t2_t1: ['False', 'True']\n",
      "  not_chain_succession_t0_t1: ['False', 'True']\n",
      "  not_chain_succession_t0_t2: ['False', 'True']\n",
      "  not_chain_succession_t1_t2: ['False', 'True']\n",
      "  ev_0: ['t0', 't1', 't2']\n",
      "  ev_1: ['t0', 't1', 't2']\n",
      "  ev_2: ['t0', 't1', 't2']\n",
      "  ev_3: ['t0', 't1', 't2']\n",
      " Targets: \n",
      "  class: ['neg', 'pos']\n",
      " Data:\n",
      "  (['True', 'True', 'True', 'True', 'False', 'False', 'False', 'True', 'True', 'True', 'True', 'True', 'False', 'False', 'False', 'True', 'False', 'True', 'False', 'False', 'True', 'True', 'False', 'True', 'True', 'True', 'True', 'False', 'False', 'False', 'True', 'True', 'True', 'True', 'True', 'True', 'False', 'True', 'True', 'True', 'False', 'False', 'False', 'False', 'False', 'False', 'False', 'False', 'False', 'True', 'True', 'True', 'False', 'False', 'False', 'True', 'False', 'False', 'False', 'False', 'False', 'True', 'True', 'True', 'False', 'False', 'False', 'True', 'False', 'False', 'False', 'False', 'False', 'True', 'False', 'False', 'False', 'False', 'False', 'True', 'True', 'False', 'False', 'False', 'False', 'True', 'False', 'False', 'False', 'False', 'False', 'False', 'False', 'True', 'False', 'False', 'False', 'True', 'True', 'False', 'False', 'True', 't1', 't1', 't0', 't2'], ['pos'])\n",
      "  (['True', 'True', 'True', 'True', 'False', 'False', 'False', 'True', 'True', 'True', 'True', 'True', 'False', 'False', 'False', 'True', 'False', 'True', 'False', 'False', 'True', 'True', 'True', 'False', 'True', 'True', 'True', 'False', 'False', 'False', 'True', 'True', 'True', 'True', 'True', 'True', 'False', 'True', 'True', 'True', 'False', 'False', 'False', 'False', 'False', 'False', 'False', 'False', 'False', 'True', 'True', 'True', 'False', 'False', 'False', 'True', 'True', 'True', 'False', 'False', 'False', 'False', 'True', 'False', 'False', 'False', 'False', 'False', 'True', 'False', 'False', 'False', 'False', 'True', 'True', 'False', 'False', 'False', 'False', 'False', 'True', 'False', 'False', 'False', 'False', 'False', 'True', 'False', 'False', 'False', 'False', 'False', 'False', 'True', 'False', 'False', 'False', 'True', 'True', 'False', 'False', 'True', 't1', 't0', 't2', 't2'], ['pos'])\n",
      "  (['True', 'True', 'True', 'False', 'False', 'False', 'False', 'True', 'False', 'True', 'True', 'True', 'False', 'False', 'False', 'True', 'False', 'True', 'False', 'False', 'True', 'True', 'False', 'True', 'True', 'True', 'True', 'False', 'False', 'False', 'True', 'True', 'True', 'True', 'True', 'True', 'True', 'True', 'False', 'False', 'False', 'True', 'False', 'False', 'False', 'False', 'False', 'False', 'True', 'True', 'False', 'False', 'False', 'True', 'True', 'True', 'False', 'False', 'False', 'True', 'False', 'True', 'True', 'True', 'False', 'False', 'False', 'True', 'False', 'False', 'False', 'False', 'False', 'True', 'False', 'False', 'False', 'True', 'False', 'True', 'True', 'False', 'False', 'False', 'False', 'True', 'False', 'False', 'False', 'False', 'False', 'False', 'False', 'False', 'False', 'False', 'False', 'True', 'False', 'False', 'False', 'False', 't1', 't0', 't2', 't1'], ['pos'])\n",
      "  (['True', 'True', 'True', 'False', 'False', 'False', 'False', 'True', 'True', 'True', 'True', 'True', 'False', 'False', 'False', 'True', 'False', 'True', 'False', 'False', 'True', 'True', 'False', 'True', 'True', 'True', 'True', 'False', 'False', 'False', 'True', 'True', 'True', 'True', 'True', 'True', 'True', 'True', 'False', 'True', 'False', 'False', 'False', 'False', 'False', 'False', 'False', 'False', 'True', 'True', 'False', 'True', 'False', 'False', 'True', 'True', 'False', 'False', 'False', 'False', 'False', 'True', 'True', 'True', 'False', 'False', 'False', 'True', 'False', 'False', 'False', 'False', 'True', 'False', 'False', 'False', 'False', 'False', 'False', 'False', 'True', 'True', 'False', 'False', 'False', 'False', 'False', 'False', 'False', 'False', 'False', 'False', 'False', 'False', 'False', 'False', 'False', 'True', 'True', 'False', 'True', 'False', 't1', 't0', 't1', 't2'], ['pos'])\n",
      "  (['True', 'True', 'True', 'True', 'False', 'False', 'False', 'True', 'True', 'True', 'True', 'True', 'False', 'False', 'False', 'True', 'False', 'True', 'False', 'False', 'True', 'False', 'True', 'True', 'True', 'True', 'True', 'False', 'False', 'False', 'True', 'True', 'True', 'True', 'True', 'True', 'False', 'True', 'True', 'True', 'False', 'False', 'False', 'False', 'False', 'False', 'False', 'False', 'False', 'True', 'True', 'True', 'False', 'False', 'False', 'False', 'True', 'True', 'False', 'False', 'False', 'True', 'False', 'True', 'False', 'False', 'False', 'False', 'False', 'True', 'False', 'False', 'False', 'False', 'True', 'False', 'False', 'False', 'False', 'True', 'False', 'False', 'False', 'False', 'False', 'False', 'False', 'False', 'False', 'False', 'False', 'False', 'False', 'True', 'False', 'False', 'False', 'True', 'True', 'False', 'False', 'True', 't1', 't0', 't0', 't2'], ['pos'])\n",
      "  (['True', 'False', 'True', 'True', 'False', 'True', 'True', 'True', 'True', 'True', 'False', 'True', 'False', 'False', 'False', 'False', 'True', 'True', 'False', 'True', 'False', 'True', 'True', 'False', 'True', 'True', 'True', 'True', 'False', 'True', 'False', 'True', 'True', 'False', 'True', 'False', 'False', 'True', 'True', 'True', 'False', 'False', 'True', 'False', 'False', 'False', 'False', 'True', 'False', 'True', 'True', 'True', 'False', 'False', 'False', 'True', 'True', 'True', 'False', 'False', 'True', 'False', 'False', 'False', 'False', 'True', 'False', 'False', 'False', 'False', 'False', 'False', 'False', 'True', 'True', 'True', 'False', 'False', 'True', 'False', 'False', 'False', 'False', 'True', 'False', 'False', 'False', 'False', 'False', 'False', 'False', 'False', 'True', 'True', 'False', 'True', 'True', 'True', 'True', 'True', 'False', 'True', 't0', 't2', 't2', 't2'], ['pos'])\n",
      "  (['True', 'True', 'True', 'False', 'False', 'True', 'True', 'True', 'False', 'True', 'True', 'True', 'False', 'False', 'False', 'False', 'True', 'True', 'False', 'True', 'False', 'True', 'True', 'False', 'True', 'True', 'True', 'False', 'False', 'False', 'True', 'True', 'True', 'True', 'True', 'True', 'True', 'True', 'False', 'False', 'False', 'True', 'False', 'False', 'False', 'False', 'False', 'False', 'True', 'True', 'False', 'False', 'False', 'True', 'True', 'True', 'False', 'False', 'False', 'False', 'True', 'False', 'False', 'False', 'False', 'True', 'True', 'False', 'False', 'False', 'False', 'False', 'False', 'True', 'False', 'False', 'False', 'False', 'False', 'False', 'False', 'False', 'False', 'True', 'False', 'False', 'False', 'False', 'False', 'False', 'False', 'False', 'False', 'False', 'False', 'True', 'True', 'True', 'False', 'True', 'False', 'False', 't0', 't2', 't2', 't1'], ['pos'])\n",
      "  (['True', 'True', 'True', 'False', 'False', 'True', 'False', 'True', 'False', 'True', 'True', 'True', 'False', 'False', 'False', 'False', 'True', 'True', 'False', 'True', 'False', 'True', 'True', 'False', 'True', 'True', 'True', 'False', 'False', 'False', 'True', 'True', 'True', 'True', 'True', 'True', 'True', 'True', 'False', 'True', 'False', 'False', 'False', 'False', 'False', 'False', 'False', 'False', 'True', 'True', 'False', 'True', 'False', 'False', 'True', 'True', 'False', 'True', 'False', 'False', 'True', 'False', 'False', 'False', 'False', 'True', 'True', 'False', 'False', 'False', 'False', 'False', 'False', 'True', 'False', 'True', 'False', 'False', 'False', 'False', 'False', 'False', 'False', 'True', 'False', 'False', 'False', 'False', 'False', 'False', 'False', 'False', 'False', 'False', 'False', 'True', 'False', 'True', 'False', 'True', 'False', 'False', 't0', 't2', 't1', 't2'], ['pos'])\n",
      "  (['True', 'True', 'True', 'False', 'False', 'True', 'True', 'True', 'False', 'True', 'True', 'True', 'False', 'False', 'False', 'False', 'True', 'True', 'False', 'True', 'False', 'True', 'False', 'True', 'True', 'True', 'True', 'False', 'False', 'False', 'True', 'True', 'True', 'True', 'True', 'True', 'True', 'True', 'False', 'False', 'False', 'True', 'False', 'False', 'False', 'False', 'False', 'False', 'True', 'True', 'False', 'False', 'False', 'True', 'True', 'True', 'False', 'False', 'False', 'True', 'False', 'True', 'False', 'False', 'False', 'False', 'False', 'True', 'False', 'False', 'False', 'False', 'False', 'True', 'False', 'False', 'False', 'True', 'False', 'True', 'False', 'False', 'False', 'False', 'False', 'True', 'False', 'False', 'False', 'False', 'False', 'False', 'False', 'False', 'False', 'True', 'True', 'True', 'False', 'True', 'False', 'False', 't0', 't2', 't1', 't1'], ['pos'])\n",
      "  (['True', 'True', 'True', 'False', 'False', 'True', 'False', 'True', 'True', 'True', 'True', 'True', 'False', 'False', 'False', 'True', 'False', 'True', 'False', 'True', 'False', 'True', 'True', 'False', 'True', 'True', 'True', 'False', 'False', 'False', 'True', 'True', 'True', 'True', 'True', 'True', 'True', 'True', 'False', 'True', 'False', 'False', 'False', 'False', 'False', 'False', 'False', 'False', 'True', 'True', 'False', 'True', 'False', 'False', 'True', 'True', 'False', 'True', 'False', 'False', 'True', 'False', 'False', 'False', 'False', 'False', 'True', 'False', 'False', 'False', 'False', 'False', 'True', 'False', 'False', 'True', 'False', 'False', 'True', 'False', 'False', 'False', 'False', 'False', 'True', 'False', 'False', 'False', 'False', 'False', 'False', 'False', 'False', 'False', 'False', 'True', 'False', 'True', 'True', 'False', 'True', 'False', 't0', 't1', 't2', 't2'], ['pos'])\n",
      "  (['True', 'True', 'True', 'False', 'False', 'True', 'False', 'True', 'False', 'True', 'True', 'True', 'False', 'False', 'False', 'True', 'False', 'True', 'False', 'True', 'False', 'True', 'False', 'True', 'True', 'True', 'True', 'False', 'False', 'False', 'True', 'True', 'True', 'True', 'True', 'True', 'True', 'True', 'False', 'False', 'False', 'True', 'False', 'False', 'False', 'False', 'False', 'False', 'True', 'True', 'False', 'False', 'False', 'True', 'True', 'True', 'False', 'False', 'False', 'True', 'False', 'True', 'False', 'True', 'False', 'False', 'False', 'True', 'False', 'False', 'False', 'False', 'True', 'False', 'False', 'False', 'False', 'True', 'False', 'False', 'False', 'True', 'False', 'False', 'False', 'False', 'False', 'False', 'False', 'False', 'False', 'False', 'False', 'False', 'False', 'True', 'False', 'True', 'False', 'False', 'True', 'False', 't0', 't1', 't2', 't1'], ['pos'])\n",
      "  (['True', 'True', 'True', 'False', 'False', 'True', 'False', 'True', 'True', 'True', 'True', 'True', 'False', 'False', 'False', 'True', 'False', 'True', 'False', 'True', 'False', 'True', 'False', 'True', 'True', 'True', 'True', 'False', 'False', 'False', 'True', 'True', 'True', 'True', 'True', 'True', 'True', 'True', 'False', 'True', 'False', 'False', 'False', 'False', 'False', 'False', 'False', 'False', 'True', 'True', 'False', 'True', 'False', 'False', 'True', 'True', 'False', 'False', 'False', 'False', 'False', 'True', 'False', 'True', 'False', 'False', 'False', 'True', 'False', 'False', 'False', 'False', 'True', 'False', 'False', 'False', 'False', 'False', 'False', 'False', 'False', 'True', 'False', 'False', 'False', 'False', 'False', 'False', 'False', 'False', 'False', 'False', 'False', 'False', 'False', 'True', 'False', 'True', 'True', 'False', 'True', 'False', 't0', 't1', 't1', 't2'], ['pos'])\n",
      "  (['True', 'True', 'True', 'False', 'False', 'False', 'False', 'True', 'True', 'True', 'True', 'True', 'False', 'False', 'False', 'True', 'False', 'True', 'False', 'True', 'False', 'False', 'True', 'True', 'True', 'True', 'True', 'False', 'False', 'False', 'True', 'True', 'True', 'True', 'True', 'True', 'False', 'True', 'True', 'True', 'False', 'False', 'False', 'False', 'False', 'False', 'False', 'False', 'False', 'True', 'True', 'True', 'False', 'False', 'False', 'False', 'True', 'True', 'False', 'False', 'True', 'True', 'False', 'True', 'False', 'False', 'False', 'False', 'False', 'True', 'False', 'False', 'False', 'False', 'True', 'False', 'False', 'False', 'True', 'True', 'False', 'False', 'False', 'False', 'False', 'False', 'False', 'False', 'False', 'False', 'False', 'False', 'False', 'False', 'False', 'False', 'False', 'True', 'True', 'False', 'False', 'True', 't0', 't1', 't0', 't2'], ['pos'])\n",
      "  (['True', 'False', 'True', 'True', 'False', 'True', 'True', 'True', 'True', 'True', 'False', 'True', 'False', 'False', 'False', 'False', 'True', 'True', 'False', 'True', 'False', 'False', 'True', 'False', 'True', 'True', 'True', 'True', 'False', 'True', 'False', 'True', 'True', 'False', 'True', 'False', 'False', 'True', 'True', 'True', 'False', 'False', 'True', 'False', 'False', 'False', 'False', 'True', 'False', 'True', 'True', 'True', 'False', 'False', 'False', 'False', 'True', 'True', 'False', 'False', 'True', 'False', 'False', 'False', 'False', 'True', 'False', 'False', 'False', 'False', 'False', 'False', 'False', 'False', 'True', 'True', 'False', 'False', 'True', 'False', 'False', 'False', 'False', 'True', 'False', 'False', 'False', 'False', 'False', 'False', 'False', 'False', 'True', 'True', 'False', 'True', 'True', 'True', 'True', 'True', 'False', 'True', 't0', 't0', 't2', 't2'], ['pos'])\n",
      "  (['True', 'True', 'True', 'False', 'False', 'True', 'True', 'True', 'False', 'True', 'True', 'True', 'False', 'False', 'False', 'False', 'True', 'True', 'False', 'True', 'False', 'False', 'True', 'True', 'True', 'True', 'True', 'False', 'False', 'False', 'True', 'True', 'True', 'True', 'True', 'True', 'True', 'True', 'False', 'False', 'False', 'True', 'False', 'False', 'False', 'False', 'False', 'False', 'True', 'True', 'False', 'False', 'False', 'True', 'False', 'False', 'False', 'False', 'False', 'True', 'True', 'True', 'False', 'False', 'False', 'True', 'False', 'False', 'False', 'False', 'False', 'True', 'False', 'False', 'False', 'False', 'False', 'True', 'False', 'True', 'False', 'False', 'False', 'True', 'False', 'False', 'False', 'False', 'False', 'True', 'False', 'False', 'False', 'False', 'False', 'True', 'True', 'True', 'False', 'True', 'False', 'False', 't0', 't0', 't2', 't1'], ['pos'])\n",
      "  (['True', 'True', 'True', 'False', 'False', 'True', 'False', 'True', 'True', 'True', 'True', 'True', 'False', 'False', 'False', 'True', 'False', 'True', 'False', 'True', 'False', 'False', 'True', 'True', 'True', 'True', 'True', 'False', 'False', 'False', 'True', 'True', 'True', 'True', 'True', 'True', 'True', 'True', 'False', 'True', 'False', 'False', 'False', 'False', 'False', 'False', 'False', 'False', 'True', 'True', 'False', 'True', 'False', 'False', 'False', 'False', 'False', 'True', 'False', 'False', 'True', 'True', 'False', 'True', 'False', 'False', 'False', 'False', 'False', 'True', 'False', 'False', 'False', 'False', 'False', 'True', 'False', 'False', 'True', 'False', 'False', 'True', 'False', 'False', 'False', 'False', 'False', 'True', 'False', 'False', 'False', 'False', 'False', 'False', 'False', 'True', 'False', 'True', 'True', 'False', 'True', 'False', 't0', 't0', 't1', 't2'], ['pos'])\n",
      "  (['True', 'False', 'True', 'True', 'False', 'True', 'True', 'True', 'True', 'True', 'False', 'True', 'False', 'False', 'False', 'False', 'True', 'True', 'False', 'True', 'False', 'False', 'True', 'True', 'True', 'True', 'True', 'True', 'False', 'True', 'False', 'True', 'True', 'False', 'True', 'False', 'False', 'True', 'True', 'True', 'False', 'False', 'True', 'False', 'False', 'False', 'False', 'True', 'False', 'True', 'True', 'True', 'False', 'False', 'False', 'False', 'True', 'True', 'False', 'False', 'True', 'True', 'False', 'False', 'False', 'True', 'False', 'False', 'False', 'False', 'False', 'False', 'False', 'False', 'True', 'True', 'False', 'False', 'True', 'True', 'False', 'False', 'False', 'True', 'False', 'False', 'False', 'False', 'False', 'False', 'False', 'False', 'True', 'True', 'False', 'True', 'True', 'True', 'True', 'True', 'False', 'True', 't0', 't0', 't0', 't2'], ['pos'])\n",
      "  (['False', 'False', 'True', 'True', 'True', 'True', 'True', 'True', 'True', 'False', 'False', 'True', 'False', 'False', 'True', 'False', 'True', 'False', 'True', 'False', 'False', 'True', 'True', 'False', 'False', 'True', 'True', 'False', 'True', 'True', 'True', 'True', 'True', 'True', 'False', 'False', 'True', 'True', 'True', 'True', 'False', 'False', 'True', 'False', 'True', 'False', 'True', 'True', 'True', 'True', 'True', 'True', 'False', 'False', 'True', 'True', 'True', 'True', 'False', 'False', 'True', 'False', 'True', 'False', 'True', 'True', 'True', 'False', 'True', 'False', 'False', 'False', 'True', 'True', 'True', 'True', 'False', 'False', 'True', 'False', 'True', 'False', 'True', 'True', 'True', 'False', 'True', 'False', 'False', 'False', 'True', 'True', 'True', 'True', 'True', 'True', 'True', 'True', 'True', 'True', 'True', 'True', 't2', 't2', 't2', 't2'], ['neg'])\n",
      "  (['False', 'True', 'True', 'True', 'True', 'True', 'True', 'True', 'False', 'False', 'True', 'True', 'False', 'False', 'False', 'False', 'True', 'False', 'True', 'False', 'True', 'True', 'True', 'False', 'True', 'True', 'True', 'True', 'True', 'False', 'True', 'True', 'True', 'False', 'False', 'True', 'True', 'True', 'False', 'False', 'False', 'True', 'False', 'False', 'True', 'False', 'True', 'False', 'True', 'True', 'False', 'False', 'False', 'True', 'True', 'True', 'False', 'False', 'False', 'False', 'False', 'False', 'True', 'False', 'True', 'True', 'False', 'False', 'False', 'False', 'False', 'False', 'True', 'True', 'False', 'False', 'False', 'False', 'False', 'False', 'True', 'False', 'True', 'True', 'False', 'False', 'False', 'False', 'False', 'False', 'True', 'True', 'False', 'True', 'True', 'True', 'True', 'True', 'False', 'True', 'True', 'False', 't2', 't2', 't2', 't1'], ['neg'])\n",
      "  (['True', 'False', 'True', 'True', 'True', 'True', 'True', 'False', 'True', 'True', 'False', 'True', 'False', 'False', 'False', 'False', 'True', 'False', 'True', 'True', 'False', 'True', 'True', 'False', 'True', 'True', 'True', 'True', 'False', 'True', 'False', 'True', 'True', 'False', 'True', 'False', 'False', 'False', 'True', 'True', 'True', 'False', 'True', 'False', 'False', 'False', 'False', 'True', 'False', 'False', 'True', 'True', 'True', 'False', 'False', 'False', 'True', 'True', 'False', 'False', 'True', 'False', 'False', 'False', 'True', 'True', 'False', 'False', 'False', 'False', 'False', 'False', 'False', 'False', 'True', 'True', 'False', 'False', 'True', 'False', 'False', 'False', 'True', 'True', 'False', 'False', 'False', 'False', 'False', 'False', 'False', 'False', 'True', 'True', 'True', 'True', 'True', 'False', 'True', 'True', 'False', 'True', 't2', 't2', 't2', 't0'], ['neg'])\n",
      "  (['False', 'True', 'True', 'True', 'True', 'True', 'False', 'True', 'False', 'False', 'True', 'True', 'False', 'False', 'False', 'False', 'True', 'False', 'True', 'False', 'True', 'True', 'True', 'False', 'True', 'True', 'True', 'True', 'True', 'False', 'True', 'True', 'True', 'False', 'False', 'True', 'True', 'True', 'False', 'True', 'False', 'False', 'False', 'False', 'True', 'False', 'True', 'False', 'True', 'True', 'False', 'True', 'False', 'False', 'True', 'True', 'False', 'True', 'False', 'False', 'False', 'False', 'True', 'False', 'True', 'True', 'False', 'False', 'False', 'False', 'False', 'False', 'True', 'True', 'False', 'True', 'False', 'False', 'False', 'False', 'True', 'False', 'True', 'True', 'False', 'False', 'False', 'False', 'False', 'False', 'True', 'True', 'False', 'True', 'True', 'True', 'False', 'True', 'False', 'True', 'True', 'False', 't2', 't2', 't1', 't2'], ['neg'])\n",
      "  (['False', 'True', 'True', 'True', 'True', 'True', 'True', 'True', 'False', 'False', 'True', 'True', 'False', 'False', 'False', 'False', 'True', 'False', 'True', 'False', 'True', 'True', 'False', 'False', 'True', 'True', 'True', 'True', 'True', 'False', 'True', 'True', 'True', 'False', 'False', 'True', 'True', 'True', 'False', 'False', 'False', 'True', 'False', 'False', 'True', 'False', 'True', 'False', 'True', 'True', 'False', 'False', 'False', 'True', 'True', 'True', 'False', 'False', 'False', 'False', 'False', 'False', 'True', 'False', 'True', 'False', 'False', 'False', 'False', 'False', 'False', 'False', 'True', 'True', 'False', 'False', 'False', 'False', 'False', 'False', 'True', 'False', 'True', 'False', 'False', 'False', 'False', 'False', 'False', 'False', 'True', 'True', 'False', 'True', 'True', 'True', 'True', 'True', 'False', 'True', 'True', 'False', 't2', 't2', 't1', 't1'], ['neg'])\n",
      "  (['True', 'True', 'True', 'True', 'True', 'False', 'True', 'False', 'False', 'True', 'True', 'True', 'False', 'False', 'False', 'False', 'True', 'False', 'True', 'False', 'True', 'True', 'True', 'False', 'True', 'True', 'True', 'False', 'False', 'False', 'True', 'True', 'True', 'True', 'True', 'True', 'False', 'False', 'True', 'False', 'True', 'True', 'False', 'False', 'False', 'False', 'False', 'False', 'False', 'False', 'True', 'False', 'True', 'True', 'False', 'False', 'True', 'False', 'False', 'False', 'False', 'False', 'True', 'False', 'True', 'True', 'False', 'False', 'True', 'False', 'False', 'False', 'False', 'False', 'True', 'False', 'False', 'False', 'False', 'False', 'True', 'False', 'False', 'True', 'False', 'False', 'True', 'False', 'False', 'False', 'False', 'False', 'False', 'True', 'True', 'False', 'True', 'False', 'False', 'False', 'True', 'False', 't2', 't2', 't1', 't0'], ['neg'])\n",
      "  (['True', 'False', 'True', 'True', 'False', 'True', 'True', 'False', 'True', 'True', 'False', 'True', 'False', 'False', 'False', 'False', 'True', 'False', 'True', 'True', 'False', 'True', 'True', 'False', 'True', 'True', 'True', 'True', 'False', 'True', 'False', 'True', 'True', 'False', 'True', 'False', 'False', 'True', 'True', 'True', 'False', 'False', 'True', 'False', 'False', 'False', 'False', 'True', 'False', 'True', 'True', 'True', 'False', 'False', 'False', 'True', 'True', 'True', 'False', 'False', 'True', 'False', 'False', 'False', 'True', 'True', 'False', 'False', 'False', 'False', 'False', 'False', 'False', 'True', 'True', 'True', 'False', 'False', 'True', 'False', 'False', 'False', 'True', 'True', 'False', 'False', 'False', 'False', 'False', 'False', 'False', 'False', 'True', 'True', 'False', 'True', 'True', 'False', 'True', 'True', 'False', 'True', 't2', 't2', 't0', 't2'], ['neg'])\n",
      "  (['True', 'True', 'True', 'False', 'True', 'True', 'True', 'False', 'False', 'True', 'True', 'True', 'False', 'False', 'False', 'False', 'True', 'False', 'True', 'True', 'False', 'True', 'True', 'False', 'True', 'True', 'True', 'False', 'False', 'False', 'True', 'True', 'True', 'True', 'True', 'True', 'True', 'False', 'False', 'False', 'True', 'True', 'False', 'False', 'False', 'False', 'False', 'False', 'True', 'False', 'False', 'False', 'True', 'True', 'True', 'False', 'False', 'False', 'False', 'False', 'True', 'False', 'False', 'False', 'True', 'True', 'True', 'False', 'False', 'False', 'False', 'False', 'True', 'False', 'False', 'False', 'False', 'False', 'True', 'False', 'False', 'False', 'True', 'False', 'True', 'False', 'False', 'False', 'False', 'False', 'False', 'False', 'False', 'False', 'True', 'True', 'True', 'False', 'False', 'False', 'False', 'True', 't2', 't2', 't0', 't1'], ['neg'])\n",
      "  (['True', 'False', 'True', 'True', 'True', 'True', 'True', 'False', 'True', 'True', 'False', 'True', 'False', 'False', 'False', 'False', 'True', 'False', 'True', 'True', 'False', 'False', 'True', 'False', 'True', 'True', 'True', 'True', 'False', 'True', 'False', 'True', 'True', 'False', 'True', 'False', 'False', 'False', 'True', 'True', 'True', 'False', 'True', 'False', 'False', 'False', 'False', 'True', 'False', 'False', 'True', 'True', 'True', 'False', 'False', 'False', 'True', 'True', 'False', 'False', 'True', 'False', 'False', 'False', 'False', 'True', 'False', 'False', 'False', 'False', 'False', 'False', 'False', 'False', 'True', 'True', 'False', 'False', 'True', 'False', 'False', 'False', 'False', 'True', 'False', 'False', 'False', 'False', 'False', 'False', 'False', 'False', 'True', 'True', 'True', 'True', 'True', 'False', 'True', 'True', 'False', 'True', 't2', 't2', 't0', 't0'], ['neg'])\n",
      "  (['False', 'True', 'True', 'True', 'True', 'True', 'False', 'True', 'False', 'False', 'True', 'True', 'False', 'False', 'False', 'False', 'True', 'False', 'True', 'False', 'True', 'True', 'True', 'False', 'True', 'True', 'True', 'True', 'True', 'False', 'True', 'True', 'True', 'False', 'False', 'True', 'True', 'True', 'False', 'True', 'False', 'False', 'False', 'False', 'True', 'False', 'True', 'False', 'True', 'True', 'False', 'True', 'False', 'False', 'True', 'True', 'False', 'True', 'False', 'False', 'False', 'False', 'True', 'False', 'True', 'True', 'False', 'False', 'False', 'False', 'False', 'False', 'True', 'True', 'False', 'True', 'False', 'False', 'False', 'False', 'True', 'False', 'True', 'True', 'False', 'False', 'False', 'False', 'False', 'False', 'True', 'True', 'False', 'True', 'True', 'True', 'False', 'True', 'False', 'True', 'True', 'False', 't2', 't1', 't2', 't2'], ['neg'])\n",
      "  (['False', 'True', 'True', 'True', 'True', 'True', 'False', 'True', 'False', 'False', 'True', 'True', 'False', 'False', 'False', 'False', 'True', 'False', 'True', 'False', 'True', 'True', 'False', 'False', 'True', 'True', 'True', 'True', 'True', 'False', 'True', 'True', 'True', 'False', 'False', 'True', 'True', 'True', 'False', 'False', 'False', 'True', 'False', 'False', 'True', 'False', 'True', 'False', 'True', 'True', 'False', 'False', 'False', 'True', 'True', 'True', 'False', 'False', 'False', 'True', 'False', 'False', 'True', 'False', 'True', 'True', 'False', 'False', 'False', 'False', 'False', 'True', 'True', 'True', 'False', 'False', 'False', 'True', 'False', 'False', 'True', 'False', 'True', 'True', 'False', 'False', 'False', 'False', 'False', 'True', 'True', 'True', 'False', 'True', 'True', 'True', 'False', 'True', 'False', 'True', 'True', 'False', 't2', 't1', 't2', 't1'], ['neg'])\n",
      "  (['True', 'True', 'True', 'True', 'True', 'False', 'False', 'False', 'False', 'True', 'True', 'True', 'False', 'False', 'False', 'False', 'True', 'False', 'True', 'False', 'True', 'True', 'True', 'False', 'True', 'True', 'True', 'False', 'False', 'False', 'True', 'True', 'True', 'True', 'True', 'True', 'False', 'False', 'True', 'True', 'True', 'False', 'False', 'False', 'False', 'False', 'False', 'False', 'False', 'False', 'True', 'True', 'True', 'False', 'False', 'False', 'True', 'True', 'False', 'False', 'False', 'False', 'True', 'False', 'True', 'True', 'False', 'False', 'True', 'False', 'False', 'False', 'False', 'False', 'False', 'True', 'False', 'False', 'False', 'False', 'False', 'False', 'True', 'True', 'False', 'False', 'False', 'False', 'False', 'False', 'False', 'False', 'False', 'True', 'True', 'False', 'False', 'False', 'False', 'True', 'False', 'False', 't2', 't1', 't2', 't0'], ['neg'])\n",
      "  (['False', 'True', 'True', 'True', 'True', 'True', 'False', 'True', 'False', 'False', 'True', 'True', 'False', 'False', 'False', 'False', 'True', 'False', 'True', 'False', 'True', 'True', 'False', 'False', 'True', 'True', 'True', 'True', 'True', 'False', 'True', 'True', 'True', 'False', 'False', 'True', 'True', 'True', 'False', 'True', 'False', 'False', 'False', 'False', 'True', 'False', 'True', 'False', 'True', 'True', 'False', 'True', 'False', 'False', 'True', 'True', 'False', 'False', 'False', 'False', 'False', 'False', 'True', 'False', 'True', 'False', 'False', 'False', 'False', 'False', 'False', 'False', 'True', 'True', 'False', 'False', 'False', 'False', 'False', 'False', 'True', 'False', 'True', 'False', 'False', 'False', 'False', 'False', 'False', 'False', 'True', 'True', 'False', 'True', 'True', 'True', 'False', 'True', 'False', 'True', 'True', 'False', 't2', 't1', 't1', 't2'], ['neg'])\n",
      "  (['False', 'True', 'True', 'True', 'True', 'True', 'True', 'True', 'False', 'False', 'True', 'True', 'False', 'False', 'False', 'False', 'True', 'False', 'True', 'False', 'True', 'True', 'False', 'True', 'True', 'True', 'True', 'True', 'True', 'False', 'True', 'True', 'True', 'False', 'False', 'True', 'True', 'True', 'False', 'False', 'False', 'True', 'False', 'False', 'True', 'False', 'True', 'False', 'True', 'True', 'False', 'False', 'False', 'True', 'True', 'True', 'False', 'False', 'False', 'True', 'False', 'False', 'True', 'False', 'True', 'False', 'False', 'False', 'False', 'False', 'False', 'False', 'True', 'True', 'False', 'False', 'False', 'True', 'False', 'False', 'True', 'False', 'True', 'False', 'False', 'False', 'False', 'False', 'False', 'False', 'True', 'True', 'False', 'True', 'True', 'True', 'True', 'True', 'False', 'True', 'True', 'False', 't2', 't1', 't1', 't1'], ['neg'])\n",
      "  (['True', 'True', 'True', 'True', 'True', 'False', 'True', 'False', 'False', 'True', 'True', 'True', 'False', 'False', 'False', 'False', 'True', 'False', 'True', 'False', 'True', 'True', 'False', 'True', 'True', 'True', 'True', 'False', 'False', 'False', 'True', 'True', 'True', 'True', 'True', 'True', 'False', 'False', 'True', 'False', 'True', 'True', 'False', 'False', 'False', 'False', 'False', 'False', 'False', 'False', 'True', 'False', 'True', 'True', 'False', 'False', 'False', 'False', 'True', 'True', 'False', 'False', 'True', 'False', 'True', 'False', 'False', 'False', 'False', 'False', 'True', 'False', 'False', 'False', 'False', 'False', 'False', 'True', 'False', 'False', 'True', 'False', 'False', 'False', 'False', 'False', 'False', 'False', 'False', 'False', 'False', 'False', 'False', 'True', 'True', 'False', 'True', 'False', 'False', 'False', 'True', 'False', 't2', 't1', 't1', 't0'], ['neg'])\n",
      "  (['True', 'True', 'True', 'True', 'False', 'False', 'False', 'False', 'False', 'True', 'True', 'True', 'False', 'False', 'False', 'False', 'True', 'False', 'True', 'False', 'True', 'True', 'True', 'False', 'True', 'True', 'True', 'False', 'False', 'False', 'True', 'True', 'True', 'True', 'True', 'True', 'False', 'True', 'True', 'True', 'False', 'False', 'False', 'False', 'False', 'False', 'False', 'False', 'False', 'True', 'True', 'True', 'False', 'False', 'False', 'True', 'True', 'True', 'False', 'False', 'False', 'False', 'True', 'False', 'True', 'True', 'False', 'False', 'True', 'False', 'False', 'False', 'False', 'True', 'True', 'False', 'False', 'False', 'False', 'False', 'True', 'False', 'False', 'True', 'False', 'False', 'True', 'False', 'False', 'False', 'False', 'False', 'False', 'True', 'False', 'False', 'False', 'False', 'False', 'False', 'False', 'False', 't2', 't1', 't0', 't2'], ['neg'])\n",
      "  (['True', 'True', 'True', 'False', 'True', 'False', 'True', 'False', 'False', 'True', 'True', 'True', 'False', 'False', 'False', 'False', 'True', 'False', 'True', 'False', 'True', 'True', 'False', 'True', 'True', 'True', 'True', 'False', 'False', 'False', 'True', 'True', 'True', 'True', 'True', 'True', 'True', 'False', 'False', 'False', 'True', 'True', 'False', 'False', 'False', 'False', 'False', 'False', 'True', 'False', 'False', 'False', 'True', 'True', 'True', 'False', 'False', 'False', 'True', 'True', 'False', 'False', 'True', 'False', 'True', 'False', 'False', 'False', 'False', 'False', 'True', 'False', 'True', 'False', 'False', 'False', 'False', 'True', 'False', 'False', 'True', 'False', 'False', 'False', 'False', 'False', 'False', 'False', 'False', 'False', 'False', 'False', 'False', 'False', 'True', 'False', 'True', 'False', 'False', 'False', 'True', 'False', 't2', 't1', 't0', 't1'], ['neg'])\n",
      "  (['True', 'True', 'True', 'True', 'True', 'False', 'True', 'False', 'False', 'True', 'True', 'True', 'False', 'False', 'False', 'False', 'True', 'False', 'True', 'False', 'True', 'False', 'True', 'True', 'True', 'True', 'True', 'False', 'False', 'False', 'True', 'True', 'True', 'True', 'True', 'True', 'False', 'False', 'True', 'False', 'True', 'True', 'False', 'False', 'False', 'False', 'False', 'False', 'False', 'False', 'True', 'False', 'True', 'True', 'False', 'False', 'True', 'False', 'True', 'True', 'False', 'False', 'False', 'False', 'False', 'True', 'False', 'False', 'False', 'False', 'False', 'True', 'False', 'False', 'True', 'False', 'False', 'True', 'False', 'False', 'False', 'False', 'False', 'True', 'False', 'False', 'False', 'False', 'False', 'True', 'False', 'False', 'False', 'True', 'True', 'False', 'True', 'False', 'False', 'False', 'True', 'False', 't2', 't1', 't0', 't0'], ['neg'])\n",
      "  (['True', 'False', 'True', 'True', 'False', 'True', 'True', 'False', 'True', 'True', 'False', 'True', 'False', 'False', 'False', 'False', 'True', 'False', 'True', 'True', 'False', 'True', 'True', 'False', 'True', 'True', 'True', 'True', 'False', 'True', 'False', 'True', 'True', 'False', 'True', 'False', 'False', 'True', 'True', 'True', 'False', 'False', 'True', 'False', 'False', 'False', 'False', 'True', 'False', 'True', 'True', 'True', 'False', 'False', 'False', 'True', 'True', 'True', 'False', 'False', 'True', 'False', 'False', 'False', 'True', 'True', 'False', 'False', 'False', 'False', 'False', 'False', 'False', 'True', 'True', 'True', 'False', 'False', 'True', 'False', 'False', 'False', 'True', 'True', 'False', 'False', 'False', 'False', 'False', 'False', 'False', 'False', 'True', 'True', 'False', 'True', 'True', 'False', 'True', 'True', 'False', 'True', 't2', 't0', 't2', 't2'], ['neg'])\n",
      "  (['True', 'True', 'True', 'False', 'False', 'True', 'True', 'False', 'False', 'True', 'True', 'True', 'False', 'False', 'False', 'False', 'True', 'False', 'True', 'True', 'False', 'True', 'True', 'False', 'True', 'True', 'True', 'False', 'False', 'False', 'True', 'True', 'True', 'True', 'True', 'True', 'True', 'True', 'False', 'False', 'False', 'True', 'False', 'False', 'False', 'False', 'False', 'False', 'True', 'True', 'False', 'False', 'False', 'True', 'True', 'True', 'False', 'False', 'False', 'False', 'True', 'False', 'False', 'False', 'True', 'True', 'True', 'False', 'False', 'False', 'False', 'False', 'False', 'True', 'False', 'False', 'False', 'False', 'False', 'False', 'False', 'False', 'True', 'True', 'False', 'False', 'False', 'False', 'False', 'False', 'False', 'False', 'False', 'False', 'False', 'True', 'True', 'False', 'False', 'True', 'False', 'False', 't2', 't0', 't2', 't1'], ['neg'])\n",
      "  (['True', 'False', 'True', 'True', 'False', 'True', 'True', 'False', 'True', 'True', 'False', 'True', 'False', 'False', 'False', 'False', 'True', 'False', 'True', 'True', 'False', 'False', 'True', 'False', 'True', 'True', 'True', 'True', 'False', 'True', 'False', 'True', 'True', 'False', 'True', 'False', 'False', 'False', 'True', 'True', 'True', 'False', 'True', 'False', 'False', 'False', 'False', 'True', 'False', 'False', 'True', 'True', 'True', 'False', 'False', 'False', 'True', 'True', 'True', 'False', 'True', 'False', 'False', 'False', 'True', 'True', 'False', 'False', 'False', 'False', 'True', 'False', 'False', 'False', 'True', 'True', 'True', 'False', 'True', 'False', 'False', 'False', 'True', 'True', 'False', 'False', 'False', 'False', 'True', 'False', 'False', 'False', 'True', 'True', 'False', 'True', 'True', 'False', 'True', 'True', 'False', 'True', 't2', 't0', 't2', 't0'], ['neg'])\n",
      "  (['True', 'True', 'True', 'False', 'False', 'True', 'False', 'False', 'False', 'True', 'True', 'True', 'False', 'False', 'False', 'False', 'True', 'False', 'True', 'True', 'False', 'True', 'True', 'False', 'True', 'True', 'True', 'False', 'False', 'False', 'True', 'True', 'True', 'True', 'True', 'True', 'True', 'True', 'False', 'True', 'False', 'False', 'False', 'False', 'False', 'False', 'False', 'False', 'True', 'True', 'False', 'True', 'False', 'False', 'True', 'True', 'False', 'True', 'False', 'False', 'True', 'False', 'False', 'False', 'True', 'True', 'True', 'False', 'False', 'False', 'False', 'False', 'True', 'False', 'False', 'True', 'False', 'False', 'True', 'False', 'False', 'False', 'True', 'False', 'True', 'False', 'False', 'False', 'False', 'False', 'False', 'False', 'False', 'False', 'False', 'True', 'False', 'False', 'False', 'False', 'False', 'False', 't2', 't0', 't1', 't2'], ['neg'])\n",
      "  (['True', 'True', 'True', 'False', 'True', 'True', 'True', 'False', 'False', 'True', 'True', 'True', 'False', 'False', 'False', 'False', 'True', 'False', 'True', 'True', 'False', 'True', 'False', 'True', 'True', 'True', 'True', 'False', 'False', 'False', 'True', 'True', 'True', 'True', 'True', 'True', 'True', 'False', 'False', 'False', 'True', 'True', 'False', 'False', 'False', 'False', 'False', 'False', 'True', 'False', 'False', 'False', 'True', 'True', 'True', 'False', 'False', 'False', 'True', 'True', 'False', 'False', 'False', 'False', 'True', 'False', 'False', 'False', 'False', 'False', 'True', 'False', 'True', 'False', 'False', 'False', 'True', 'False', 'False', 'False', 'False', 'False', 'True', 'False', 'False', 'False', 'False', 'False', 'True', 'False', 'False', 'False', 'False', 'False', 'True', 'True', 'True', 'False', 'False', 'False', 'False', 'True', 't2', 't0', 't1', 't1'], ['neg'])\n",
      "  (['True', 'True', 'True', 'False', 'True', 'False', 'True', 'False', 'False', 'True', 'True', 'True', 'False', 'False', 'False', 'False', 'True', 'False', 'True', 'True', 'False', 'False', 'True', 'True', 'True', 'True', 'True', 'False', 'False', 'False', 'True', 'True', 'True', 'True', 'True', 'True', 'False', 'False', 'True', 'False', 'True', 'True', 'False', 'False', 'False', 'False', 'False', 'False', 'False', 'False', 'True', 'False', 'True', 'True', 'False', 'False', 'True', 'False', 'True', 'True', 'True', 'False', 'False', 'False', 'False', 'True', 'False', 'False', 'False', 'False', 'False', 'True', 'False', 'False', 'True', 'False', 'True', 'False', 'True', 'False', 'False', 'False', 'False', 'False', 'False', 'False', 'False', 'False', 'False', 'False', 'False', 'False', 'False', 'False', 'True', 'False', 'True', 'False', 'False', 'False', 'False', 'True', 't2', 't0', 't1', 't0'], ['neg'])\n",
      "  (['True', 'False', 'True', 'True', 'False', 'True', 'True', 'False', 'True', 'True', 'False', 'True', 'False', 'False', 'False', 'False', 'True', 'False', 'True', 'True', 'False', 'False', 'True', 'False', 'True', 'True', 'True', 'True', 'False', 'True', 'False', 'True', 'True', 'False', 'True', 'False', 'False', 'True', 'True', 'True', 'False', 'False', 'True', 'False', 'False', 'False', 'False', 'True', 'False', 'True', 'True', 'True', 'False', 'False', 'False', 'False', 'True', 'True', 'False', 'False', 'True', 'False', 'False', 'False', 'False', 'True', 'False', 'False', 'False', 'False', 'False', 'False', 'False', 'False', 'True', 'True', 'False', 'False', 'True', 'False', 'False', 'False', 'False', 'True', 'False', 'False', 'False', 'False', 'False', 'False', 'False', 'False', 'True', 'True', 'False', 'True', 'True', 'False', 'True', 'True', 'False', 'True', 't2', 't0', 't0', 't2'], ['neg'])\n",
      "  (['True', 'True', 'True', 'False', 'True', 'True', 'True', 'False', 'False', 'True', 'True', 'True', 'False', 'False', 'False', 'False', 'True', 'False', 'True', 'True', 'False', 'False', 'True', 'True', 'True', 'True', 'True', 'False', 'False', 'False', 'True', 'True', 'True', 'True', 'True', 'True', 'True', 'False', 'False', 'False', 'True', 'True', 'False', 'False', 'False', 'False', 'False', 'False', 'True', 'False', 'False', 'False', 'True', 'True', 'False', 'False', 'False', 'False', 'True', 'True', 'True', 'False', 'False', 'False', 'False', 'True', 'False', 'False', 'False', 'False', 'False', 'True', 'False', 'False', 'False', 'False', 'True', 'False', 'True', 'False', 'False', 'False', 'False', 'False', 'False', 'False', 'False', 'False', 'False', 'False', 'False', 'False', 'False', 'False', 'True', 'True', 'True', 'False', 'False', 'False', 'False', 'True', 't2', 't0', 't0', 't1'], ['neg'])\n",
      "  (['True', 'False', 'True', 'True', 'True', 'True', 'True', 'False', 'True', 'True', 'False', 'True', 'False', 'False', 'False', 'False', 'True', 'False', 'True', 'True', 'False', 'False', 'True', 'True', 'True', 'True', 'True', 'True', 'False', 'True', 'False', 'True', 'True', 'False', 'True', 'False', 'False', 'False', 'True', 'True', 'True', 'False', 'True', 'False', 'False', 'False', 'False', 'True', 'False', 'False', 'True', 'True', 'True', 'False', 'False', 'False', 'True', 'True', 'True', 'False', 'True', 'False', 'False', 'False', 'False', 'True', 'False', 'False', 'False', 'False', 'False', 'False', 'False', 'False', 'True', 'True', 'True', 'False', 'True', 'False', 'False', 'False', 'False', 'True', 'False', 'False', 'False', 'False', 'False', 'False', 'False', 'False', 'True', 'True', 'True', 'True', 'True', 'False', 'True', 'True', 'False', 'True', 't2', 't0', 't0', 't0'], ['neg'])\n",
      "  (['False', 'True', 'True', 'True', 'True', 'True', 'False', 'True', 'True', 'False', 'True', 'True', 'False', 'False', 'False', 'True', 'False', 'False', 'True', 'False', 'True', 'True', 'True', 'False', 'True', 'True', 'True', 'True', 'True', 'False', 'True', 'True', 'True', 'False', 'False', 'True', 'True', 'True', 'False', 'True', 'False', 'False', 'False', 'False', 'True', 'False', 'True', 'False', 'True', 'True', 'False', 'True', 'False', 'False', 'True', 'True', 'False', 'True', 'False', 'False', 'False', 'False', 'True', 'False', 'True', 'False', 'False', 'False', 'False', 'False', 'False', 'False', 'True', 'True', 'False', 'True', 'False', 'False', 'False', 'False', 'True', 'False', 'True', 'False', 'False', 'False', 'False', 'False', 'False', 'False', 'True', 'True', 'False', 'True', 'True', 'True', 'False', 'True', 'True', 'True', 'True', 'False', 't1', 't2', 't2', 't2'], ['neg'])\n",
      "  (['False', 'True', 'True', 'True', 'True', 'True', 'False', 'True', 'False', 'False', 'True', 'True', 'False', 'False', 'False', 'True', 'False', 'False', 'True', 'False', 'True', 'True', 'False', 'False', 'True', 'True', 'True', 'True', 'True', 'False', 'True', 'True', 'True', 'False', 'False', 'True', 'True', 'True', 'False', 'False', 'False', 'True', 'False', 'False', 'True', 'False', 'True', 'False', 'True', 'True', 'False', 'False', 'False', 'True', 'True', 'True', 'False', 'False', 'False', 'False', 'False', 'False', 'True', 'False', 'True', 'False', 'False', 'False', 'False', 'False', 'False', 'False', 'True', 'True', 'False', 'False', 'False', 'False', 'False', 'False', 'True', 'False', 'True', 'False', 'False', 'False', 'False', 'False', 'False', 'False', 'True', 'True', 'False', 'True', 'True', 'True', 'False', 'True', 'False', 'True', 'True', 'False', 't1', 't2', 't2', 't1'], ['neg'])\n",
      "  (['True', 'True', 'True', 'True', 'True', 'False', 'False', 'False', 'True', 'True', 'True', 'True', 'False', 'False', 'False', 'True', 'False', 'False', 'True', 'False', 'True', 'True', 'True', 'False', 'True', 'True', 'True', 'False', 'False', 'False', 'True', 'True', 'True', 'True', 'True', 'True', 'False', 'False', 'True', 'True', 'True', 'False', 'False', 'False', 'False', 'False', 'False', 'False', 'False', 'False', 'True', 'True', 'True', 'False', 'False', 'False', 'True', 'True', 'False', 'False', 'False', 'False', 'True', 'False', 'True', 'False', 'False', 'False', 'True', 'False', 'False', 'False', 'False', 'False', 'False', 'True', 'False', 'False', 'False', 'False', 'False', 'False', 'True', 'False', 'False', 'False', 'False', 'False', 'False', 'False', 'False', 'False', 'False', 'True', 'True', 'False', 'False', 'False', 'True', 'True', 'False', 'False', 't1', 't2', 't2', 't0'], ['neg'])\n",
      "  (['False', 'True', 'True', 'True', 'True', 'True', 'False', 'True', 'False', 'False', 'True', 'True', 'False', 'False', 'False', 'True', 'False', 'False', 'True', 'False', 'True', 'True', 'False', 'False', 'True', 'True', 'True', 'True', 'True', 'False', 'True', 'True', 'True', 'False', 'False', 'True', 'True', 'True', 'False', 'True', 'False', 'False', 'False', 'False', 'True', 'False', 'True', 'False', 'True', 'True', 'False', 'True', 'False', 'False', 'True', 'True', 'False', 'True', 'False', 'False', 'False', 'False', 'True', 'True', 'True', 'False', 'False', 'False', 'False', 'True', 'False', 'False', 'True', 'True', 'False', 'True', 'False', 'False', 'False', 'False', 'True', 'True', 'True', 'False', 'False', 'False', 'False', 'True', 'False', 'False', 'True', 'True', 'False', 'True', 'True', 'True', 'False', 'True', 'False', 'True', 'True', 'False', 't1', 't2', 't1', 't2'], ['neg'])\n",
      "  (['False', 'True', 'True', 'True', 'True', 'True', 'False', 'True', 'False', 'False', 'True', 'True', 'False', 'False', 'False', 'True', 'False', 'False', 'True', 'False', 'True', 'True', 'False', 'True', 'True', 'True', 'True', 'True', 'True', 'False', 'True', 'True', 'True', 'False', 'False', 'True', 'True', 'True', 'False', 'False', 'False', 'True', 'False', 'False', 'True', 'False', 'True', 'False', 'True', 'True', 'False', 'False', 'False', 'True', 'True', 'True', 'False', 'False', 'False', 'True', 'False', 'False', 'True', 'True', 'True', 'False', 'False', 'False', 'False', 'False', 'False', 'False', 'True', 'True', 'False', 'False', 'False', 'True', 'False', 'False', 'True', 'True', 'True', 'False', 'False', 'False', 'False', 'False', 'False', 'False', 'True', 'True', 'False', 'True', 'True', 'True', 'False', 'True', 'False', 'True', 'True', 'False', 't1', 't2', 't1', 't1'], ['neg'])\n",
      "  (['True', 'True', 'True', 'True', 'True', 'False', 'False', 'False', 'False', 'True', 'True', 'True', 'False', 'False', 'False', 'True', 'False', 'False', 'True', 'False', 'True', 'True', 'False', 'True', 'True', 'True', 'True', 'False', 'False', 'False', 'True', 'True', 'True', 'True', 'True', 'True', 'False', 'False', 'True', 'False', 'True', 'True', 'False', 'False', 'False', 'False', 'False', 'False', 'False', 'False', 'True', 'False', 'True', 'True', 'False', 'False', 'False', 'False', 'True', 'True', 'False', 'False', 'True', 'True', 'True', 'False', 'False', 'False', 'False', 'False', 'True', 'False', 'False', 'False', 'False', 'False', 'False', 'True', 'False', 'False', 'True', 'True', 'False', 'False', 'False', 'False', 'False', 'False', 'False', 'False', 'False', 'False', 'False', 'True', 'True', 'False', 'False', 'False', 'False', 'False', 'True', 'False', 't1', 't2', 't1', 't0'], ['neg'])\n",
      "  (['True', 'True', 'True', 'True', 'False', 'False', 'False', 'False', 'True', 'True', 'True', 'True', 'False', 'False', 'False', 'True', 'False', 'False', 'True', 'False', 'True', 'True', 'True', 'False', 'True', 'True', 'True', 'False', 'False', 'False', 'True', 'True', 'True', 'True', 'True', 'True', 'False', 'True', 'True', 'True', 'False', 'False', 'False', 'False', 'False', 'False', 'False', 'False', 'False', 'True', 'True', 'True', 'False', 'False', 'False', 'True', 'True', 'True', 'False', 'False', 'False', 'False', 'True', 'False', 'True', 'False', 'False', 'False', 'True', 'False', 'False', 'False', 'False', 'True', 'False', 'True', 'False', 'False', 'False', 'False', 'False', 'False', 'True', 'False', 'False', 'False', 'False', 'False', 'False', 'False', 'False', 'False', 'False', 'True', 'False', 'False', 'False', 'False', 'True', 'True', 'False', 'False', 't1', 't2', 't0', 't2'], ['neg'])\n",
      "  (['True', 'True', 'True', 'False', 'True', 'False', 'False', 'False', 'False', 'True', 'True', 'True', 'False', 'False', 'False', 'True', 'False', 'False', 'True', 'False', 'True', 'True', 'False', 'True', 'True', 'True', 'True', 'False', 'False', 'False', 'True', 'True', 'True', 'True', 'True', 'True', 'True', 'False', 'False', 'False', 'True', 'True', 'False', 'False', 'False', 'False', 'False', 'False', 'True', 'False', 'False', 'False', 'True', 'True', 'True', 'False', 'False', 'False', 'True', 'True', 'False', 'False', 'True', 'True', 'True', 'False', 'False', 'False', 'False', 'False', 'True', 'False', 'True', 'False', 'False', 'False', 'True', 'False', 'False', 'False', 'False', 'True', 'True', 'False', 'False', 'False', 'False', 'False', 'True', 'False', 'False', 'False', 'False', 'False', 'True', 'False', 'False', 'False', 'False', 'False', 'False', 'False', 't1', 't2', 't0', 't1'], ['neg'])\n",
      "  (['True', 'True', 'True', 'True', 'True', 'False', 'False', 'False', 'True', 'True', 'True', 'True', 'False', 'False', 'False', 'True', 'False', 'False', 'True', 'False', 'True', 'False', 'True', 'True', 'True', 'True', 'True', 'False', 'False', 'False', 'True', 'True', 'True', 'True', 'True', 'True', 'False', 'False', 'True', 'True', 'True', 'False', 'False', 'False', 'False', 'False', 'False', 'False', 'False', 'False', 'True', 'True', 'True', 'False', 'False', 'False', 'True', 'True', 'True', 'False', 'False', 'False', 'False', 'True', 'False', 'False', 'False', 'False', 'False', 'True', 'False', 'False', 'False', 'False', 'False', 'True', 'True', 'False', 'False', 'False', 'False', 'True', 'False', 'False', 'False', 'False', 'False', 'True', 'False', 'False', 'False', 'False', 'False', 'True', 'True', 'False', 'False', 'False', 'True', 'True', 'False', 'False', 't1', 't2', 't0', 't0'], ['neg'])\n",
      "  (['False', 'True', 'True', 'True', 'True', 'True', 'False', 'True', 'True', 'False', 'True', 'True', 'False', 'False', 'False', 'True', 'False', 'False', 'True', 'False', 'True', 'True', 'False', 'False', 'True', 'True', 'True', 'True', 'True', 'False', 'True', 'True', 'True', 'False', 'False', 'True', 'True', 'True', 'False', 'True', 'False', 'False', 'False', 'False', 'True', 'False', 'True', 'False', 'True', 'True', 'False', 'True', 'False', 'False', 'True', 'True', 'False', 'False', 'False', 'False', 'False', 'False', 'True', 'False', 'True', 'False', 'False', 'False', 'False', 'False', 'False', 'False', 'True', 'True', 'False', 'False', 'False', 'False', 'False', 'False', 'True', 'False', 'True', 'False', 'False', 'False', 'False', 'False', 'False', 'False', 'True', 'True', 'False', 'True', 'True', 'True', 'False', 'True', 'True', 'True', 'True', 'False', 't1', 't1', 't2', 't2'], ['neg'])\n",
      "  (['False', 'True', 'True', 'True', 'True', 'True', 'False', 'True', 'False', 'False', 'True', 'True', 'False', 'False', 'False', 'True', 'False', 'False', 'True', 'False', 'True', 'True', 'False', 'True', 'True', 'True', 'True', 'True', 'True', 'False', 'True', 'True', 'True', 'False', 'False', 'True', 'True', 'True', 'False', 'False', 'False', 'True', 'False', 'False', 'True', 'False', 'True', 'False', 'True', 'True', 'False', 'False', 'False', 'True', 'True', 'True', 'False', 'False', 'False', 'True', 'False', 'False', 'True', 'True', 'True', 'False', 'False', 'False', 'False', 'False', 'False', 'False', 'True', 'True', 'False', 'False', 'False', 'True', 'False', 'False', 'True', 'True', 'True', 'False', 'False', 'False', 'False', 'False', 'False', 'False', 'True', 'True', 'False', 'True', 'True', 'True', 'False', 'True', 'False', 'True', 'True', 'False', 't1', 't1', 't2', 't1'], ['neg'])\n",
      "  (['True', 'True', 'True', 'True', 'True', 'False', 'False', 'False', 'True', 'True', 'True', 'True', 'False', 'False', 'False', 'True', 'False', 'False', 'True', 'False', 'True', 'True', 'False', 'True', 'True', 'True', 'True', 'False', 'False', 'False', 'True', 'True', 'True', 'True', 'True', 'True', 'False', 'False', 'True', 'True', 'True', 'False', 'False', 'False', 'False', 'False', 'False', 'False', 'False', 'False', 'True', 'True', 'True', 'False', 'False', 'False', 'False', 'False', 'True', 'False', 'False', 'False', 'True', 'True', 'True', 'False', 'False', 'False', 'False', 'False', 'True', 'False', 'False', 'False', 'False', 'False', 'True', 'False', 'False', 'False', 'False', 'True', 'True', 'False', 'False', 'False', 'False', 'False', 'True', 'False', 'False', 'False', 'False', 'True', 'True', 'False', 'False', 'False', 'True', 'True', 'False', 'False', 't1', 't1', 't2', 't0'], ['neg'])\n",
      "  (['False', 'True', 'True', 'True', 'True', 'True', 'False', 'True', 'True', 'False', 'True', 'True', 'False', 'False', 'False', 'True', 'False', 'False', 'True', 'False', 'True', 'True', 'False', 'True', 'True', 'True', 'True', 'True', 'True', 'False', 'True', 'True', 'True', 'False', 'False', 'True', 'True', 'True', 'False', 'True', 'False', 'False', 'False', 'False', 'True', 'False', 'True', 'False', 'True', 'True', 'False', 'True', 'False', 'False', 'True', 'True', 'False', 'False', 'False', 'False', 'False', 'False', 'True', 'True', 'True', 'False', 'False', 'False', 'False', 'False', 'False', 'False', 'True', 'True', 'False', 'False', 'False', 'False', 'False', 'False', 'True', 'True', 'True', 'False', 'False', 'False', 'False', 'False', 'False', 'False', 'True', 'True', 'False', 'True', 'True', 'True', 'False', 'True', 'True', 'True', 'True', 'False', 't1', 't1', 't1', 't2'], ['neg'])\n",
      "  (['False', 'True', 'False', 'True', 'True', 'True', 'True', 'True', 'True', 'False', 'True', 'False', 'False', 'True', 'False', 'True', 'False', 'False', 'False', 'False', 'True', 'True', 'False', 'True', 'True', 'False', 'True', 'True', 'False', 'True', 'True', 'True', 'False', 'False', 'True', 'False', 'True', 'True', 'False', 'False', 'True', 'True', 'False', 'True', 'True', 'True', 'True', 'False', 'True', 'True', 'False', 'False', 'True', 'True', 'True', 'True', 'False', 'False', 'True', 'True', 'False', 'True', 'True', 'True', 'True', 'False', 'False', 'True', 'False', 'False', 'True', 'False', 'True', 'True', 'False', 'False', 'True', 'True', 'False', 'True', 'True', 'True', 'True', 'False', 'False', 'True', 'False', 'False', 'True', 'False', 'True', 'True', 'False', 'True', 'True', 'True', 'True', 'True', 'True', 'True', 'True', 'True', 't1', 't1', 't1', 't1'], ['neg'])\n",
      "  (['True', 'True', 'False', 'True', 'True', 'False', 'True', 'True', 'True', 'True', 'True', 'False', 'False', 'False', 'False', 'True', 'False', 'True', 'False', 'False', 'True', 'True', 'False', 'True', 'True', 'True', 'True', 'False', 'True', 'True', 'True', 'False', 'False', 'True', 'False', 'False', 'False', 'False', 'True', 'False', 'True', 'True', 'False', 'True', 'False', 'True', 'False', 'False', 'False', 'False', 'True', 'False', 'True', 'True', 'False', 'False', 'False', 'False', 'True', 'True', 'False', 'True', 'True', 'True', 'False', 'False', 'False', 'False', 'False', 'False', 'False', 'False', 'False', 'False', 'False', 'False', 'True', 'True', 'False', 'True', 'True', 'True', 'False', 'False', 'False', 'False', 'False', 'False', 'False', 'False', 'False', 'False', 'False', 'True', 'True', 'False', 'True', 'True', 'True', 'False', 'True', 'True', 't1', 't1', 't1', 't0'], ['neg'])\n",
      "  (['True', 'True', 'False', 'False', 'True', 'False', 'True', 'True', 'True', 'True', 'True', 'False', 'False', 'False', 'False', 'True', 'False', 'True', 'False', 'False', 'True', 'True', 'False', 'True', 'True', 'True', 'True', 'False', 'True', 'True', 'True', 'False', 'False', 'True', 'False', 'False', 'True', 'False', 'False', 'False', 'True', 'True', 'False', 'True', 'False', 'True', 'False', 'False', 'True', 'False', 'False', 'False', 'True', 'True', 'True', 'False', 'False', 'False', 'True', 'True', 'False', 'True', 'True', 'True', 'False', 'False', 'False', 'False', 'False', 'False', 'False', 'False', 'True', 'False', 'False', 'False', 'True', 'True', 'False', 'True', 'True', 'True', 'False', 'False', 'False', 'False', 'False', 'False', 'False', 'False', 'False', 'False', 'False', 'False', 'True', 'False', 'True', 'True', 'True', 'False', 'True', 'True', 't1', 't1', 't0', 't1'], ['neg'])\n",
      "  (['True', 'True', 'False', 'True', 'True', 'False', 'True', 'True', 'True', 'True', 'True', 'False', 'False', 'False', 'False', 'True', 'False', 'True', 'False', 'False', 'True', 'False', 'False', 'True', 'True', 'True', 'True', 'False', 'True', 'True', 'True', 'False', 'False', 'True', 'False', 'False', 'False', 'False', 'True', 'False', 'True', 'True', 'False', 'True', 'False', 'True', 'False', 'False', 'False', 'False', 'True', 'False', 'True', 'True', 'False', 'False', 'False', 'False', 'True', 'True', 'False', 'True', 'False', 'True', 'False', 'False', 'False', 'False', 'False', 'False', 'False', 'False', 'False', 'False', 'False', 'False', 'True', 'True', 'False', 'True', 'False', 'True', 'False', 'False', 'False', 'False', 'False', 'False', 'False', 'False', 'False', 'False', 'False', 'True', 'True', 'False', 'True', 'True', 'True', 'False', 'True', 'True', 't1', 't1', 't0', 't0'], ['neg'])\n",
      "  (['True', 'True', 'True', 'True', 'False', 'False', 'False', 'False', 'True', 'True', 'True', 'True', 'False', 'False', 'False', 'True', 'False', 'True', 'False', 'False', 'True', 'False', 'True', 'True', 'True', 'True', 'True', 'False', 'False', 'False', 'True', 'True', 'True', 'True', 'True', 'True', 'False', 'False', 'True', 'True', 'True', 'False', 'False', 'False', 'False', 'False', 'False', 'False', 'False', 'False', 'True', 'True', 'True', 'False', 'False', 'False', 'True', 'True', 'True', 'False', 'False', 'True', 'False', 'True', 'False', 'False', 'False', 'False', 'False', 'True', 'False', 'False', 'False', 'False', 'True', 'False', 'True', 'False', 'False', 'True', 'False', 'False', 'False', 'False', 'False', 'False', 'False', 'False', 'False', 'False', 'False', 'False', 'False', 'True', 'False', 'False', 'False', 'False', 'True', 'False', 'False', 'True', 't1', 't0', 't2', 't0'], ['neg'])\n",
      "  (['True', 'True', 'False', 'False', 'True', 'False', 'True', 'True', 'True', 'True', 'True', 'False', 'False', 'False', 'False', 'True', 'False', 'True', 'False', 'False', 'True', 'True', 'False', 'True', 'True', 'True', 'True', 'False', 'True', 'True', 'True', 'False', 'False', 'True', 'False', 'False', 'True', 'False', 'False', 'False', 'True', 'True', 'False', 'True', 'False', 'True', 'False', 'False', 'True', 'False', 'False', 'False', 'True', 'True', 'True', 'False', 'False', 'False', 'True', 'True', 'False', 'True', 'True', 'True', 'False', 'False', 'False', 'False', 'False', 'False', 'False', 'False', 'True', 'False', 'False', 'False', 'True', 'True', 'False', 'True', 'True', 'True', 'False', 'False', 'False', 'False', 'False', 'False', 'False', 'False', 'False', 'False', 'False', 'False', 'True', 'False', 'True', 'True', 'True', 'False', 'True', 'True', 't1', 't0', 't1', 't1'], ['neg'])\n",
      "  (['True', 'True', 'False', 'False', 'True', 'False', 'True', 'True', 'True', 'True', 'True', 'False', 'False', 'False', 'False', 'True', 'False', 'True', 'False', 'False', 'True', 'False', 'False', 'True', 'True', 'True', 'True', 'False', 'True', 'True', 'True', 'False', 'False', 'True', 'False', 'False', 'False', 'False', 'True', 'False', 'True', 'True', 'False', 'True', 'False', 'True', 'False', 'False', 'False', 'False', 'True', 'False', 'True', 'True', 'False', 'False', 'True', 'False', 'True', 'True', 'False', 'True', 'True', 'True', 'False', 'False', 'False', 'False', 'True', 'False', 'False', 'False', 'False', 'False', 'True', 'False', 'True', 'True', 'False', 'True', 'True', 'True', 'False', 'False', 'False', 'False', 'True', 'False', 'False', 'False', 'False', 'False', 'False', 'False', 'True', 'False', 'True', 'True', 'True', 'False', 'True', 'True', 't1', 't0', 't1', 't0'], ['neg'])\n",
      "  (['True', 'True', 'False', 'False', 'True', 'False', 'True', 'True', 'True', 'True', 'True', 'False', 'False', 'False', 'False', 'True', 'False', 'True', 'False', 'False', 'True', 'False', 'False', 'True', 'True', 'True', 'True', 'False', 'True', 'True', 'True', 'False', 'False', 'True', 'False', 'False', 'True', 'False', 'False', 'False', 'True', 'True', 'False', 'True', 'False', 'True', 'False', 'False', 'True', 'False', 'False', 'False', 'True', 'True', 'False', 'False', 'False', 'False', 'True', 'True', 'False', 'True', 'False', 'True', 'False', 'False', 'False', 'False', 'False', 'False', 'False', 'False', 'False', 'False', 'False', 'False', 'True', 'True', 'False', 'True', 'False', 'True', 'False', 'False', 'False', 'False', 'False', 'False', 'False', 'False', 'False', 'False', 'False', 'False', 'True', 'False', 'True', 'True', 'True', 'False', 'True', 'True', 't1', 't0', 't0', 't1'], ['neg'])\n",
      "  (['True', 'True', 'False', 'True', 'True', 'False', 'True', 'True', 'True', 'True', 'True', 'False', 'False', 'False', 'False', 'True', 'False', 'True', 'False', 'False', 'True', 'False', 'True', 'True', 'True', 'True', 'True', 'False', 'True', 'True', 'True', 'False', 'False', 'True', 'False', 'False', 'False', 'False', 'True', 'False', 'True', 'True', 'False', 'True', 'False', 'True', 'False', 'False', 'False', 'False', 'True', 'False', 'True', 'True', 'False', 'False', 'True', 'False', 'True', 'True', 'False', 'True', 'False', 'True', 'False', 'False', 'False', 'False', 'False', 'False', 'False', 'False', 'False', 'False', 'True', 'False', 'True', 'True', 'False', 'True', 'False', 'True', 'False', 'False', 'False', 'False', 'False', 'False', 'False', 'False', 'False', 'False', 'False', 'True', 'True', 'False', 'True', 'True', 'True', 'False', 'True', 'True', 't1', 't0', 't0', 't0'], ['neg'])\n",
      "  (['True', 'False', 'True', 'True', 'False', 'True', 'True', 'False', 'True', 'True', 'False', 'True', 'False', 'False', 'False', 'False', 'True', 'True', 'False', 'True', 'False', 'False', 'True', 'False', 'True', 'True', 'True', 'True', 'False', 'True', 'False', 'True', 'True', 'False', 'True', 'False', 'False', 'False', 'True', 'True', 'True', 'False', 'True', 'False', 'False', 'False', 'False', 'True', 'False', 'False', 'True', 'True', 'True', 'False', 'False', 'False', 'True', 'True', 'False', 'False', 'True', 'False', 'False', 'False', 'False', 'True', 'False', 'False', 'False', 'False', 'False', 'False', 'False', 'False', 'True', 'True', 'False', 'False', 'True', 'False', 'False', 'False', 'False', 'True', 'False', 'False', 'False', 'False', 'False', 'False', 'False', 'False', 'True', 'True', 'False', 'True', 'True', 'False', 'True', 'True', 'False', 'True', 't0', 't2', 't2', 't0'], ['neg'])\n",
      "  (['True', 'True', 'True', 'False', 'False', 'False', 'True', 'False', 'False', 'True', 'True', 'True', 'False', 'False', 'False', 'False', 'True', 'True', 'False', 'True', 'False', 'False', 'True', 'True', 'True', 'True', 'True', 'False', 'False', 'False', 'True', 'True', 'True', 'True', 'True', 'True', 'False', 'False', 'True', 'False', 'True', 'True', 'False', 'False', 'False', 'False', 'False', 'False', 'False', 'False', 'True', 'False', 'True', 'True', 'False', 'False', 'True', 'False', 'True', 'True', 'True', 'True', 'False', 'False', 'False', 'True', 'False', 'False', 'False', 'False', 'False', 'True', 'False', 'False', 'True', 'False', 'False', 'True', 'False', 'True', 'False', 'False', 'False', 'True', 'False', 'False', 'False', 'False', 'False', 'True', 'False', 'False', 'False', 'False', 'False', 'False', 'True', 'False', 'False', 'False', 'False', 'False', 't0', 't2', 't1', 't0'], ['neg'])\n",
      "  (['True', 'False', 'True', 'True', 'False', 'True', 'True', 'False', 'True', 'True', 'False', 'True', 'False', 'False', 'False', 'False', 'True', 'True', 'False', 'True', 'False', 'False', 'True', 'False', 'True', 'True', 'True', 'True', 'False', 'True', 'False', 'True', 'True', 'False', 'True', 'False', 'False', 'True', 'True', 'True', 'False', 'False', 'True', 'False', 'False', 'False', 'False', 'True', 'False', 'True', 'True', 'True', 'False', 'False', 'False', 'True', 'True', 'True', 'False', 'False', 'True', 'True', 'False', 'False', 'False', 'True', 'False', 'True', 'False', 'False', 'False', 'False', 'False', 'True', 'True', 'True', 'False', 'False', 'True', 'True', 'False', 'False', 'False', 'True', 'False', 'True', 'False', 'False', 'False', 'False', 'False', 'False', 'True', 'True', 'False', 'True', 'True', 'False', 'True', 'True', 'False', 'True', 't0', 't2', 't0', 't2'], ['neg'])\n",
      "  (['True', 'True', 'True', 'False', 'False', 'True', 'True', 'False', 'False', 'True', 'True', 'True', 'False', 'False', 'False', 'False', 'True', 'True', 'False', 'True', 'False', 'False', 'True', 'True', 'True', 'True', 'True', 'False', 'False', 'False', 'True', 'True', 'True', 'True', 'True', 'True', 'True', 'False', 'False', 'False', 'True', 'True', 'False', 'False', 'False', 'False', 'False', 'False', 'True', 'False', 'False', 'False', 'True', 'True', 'False', 'False', 'False', 'False', 'True', 'True', 'True', 'True', 'False', 'False', 'False', 'True', 'False', 'False', 'False', 'False', 'False', 'True', 'False', 'False', 'False', 'False', 'True', 'False', 'True', 'True', 'False', 'False', 'False', 'False', 'False', 'False', 'False', 'False', 'False', 'False', 'False', 'False', 'False', 'False', 'False', 'True', 'True', 'False', 'False', 'False', 'False', 'True', 't0', 't2', 't0', 't1'], ['neg'])\n",
      "  (['True', 'False', 'True', 'True', 'False', 'True', 'True', 'False', 'True', 'True', 'False', 'True', 'False', 'False', 'False', 'False', 'True', 'True', 'False', 'True', 'False', 'False', 'True', 'True', 'True', 'True', 'True', 'True', 'False', 'True', 'False', 'True', 'True', 'False', 'True', 'False', 'False', 'False', 'True', 'True', 'True', 'False', 'True', 'False', 'False', 'False', 'False', 'True', 'False', 'False', 'True', 'True', 'True', 'False', 'False', 'False', 'True', 'True', 'True', 'False', 'True', 'True', 'False', 'False', 'False', 'True', 'False', 'False', 'False', 'False', 'False', 'False', 'False', 'False', 'True', 'True', 'True', 'False', 'True', 'True', 'False', 'False', 'False', 'True', 'False', 'False', 'False', 'False', 'False', 'False', 'False', 'False', 'True', 'True', 'False', 'True', 'True', 'False', 'True', 'True', 'False', 'True', 't0', 't2', 't0', 't0'], ['neg'])\n",
      "  (['True', 'True', 'True', 'False', 'False', 'False', 'False', 'False', 'True', 'True', 'True', 'True', 'False', 'False', 'False', 'True', 'False', 'True', 'False', 'True', 'False', 'False', 'True', 'True', 'True', 'True', 'True', 'False', 'False', 'False', 'True', 'True', 'True', 'True', 'True', 'True', 'False', 'False', 'True', 'True', 'True', 'False', 'False', 'False', 'False', 'False', 'False', 'False', 'False', 'False', 'True', 'True', 'True', 'False', 'False', 'False', 'True', 'True', 'True', 'False', 'True', 'True', 'False', 'True', 'False', 'False', 'False', 'False', 'False', 'True', 'False', 'False', 'False', 'False', 'False', 'True', 'True', 'False', 'True', 'False', 'False', 'True', 'False', 'False', 'False', 'False', 'False', 'True', 'False', 'False', 'False', 'False', 'False', 'False', 'False', 'False', 'False', 'False', 'True', 'False', 'False', 'False', 't0', 't1', 't2', 't0'], ['neg'])\n",
      "  (['True', 'True', 'False', 'False', 'True', 'True', 'True', 'True', 'True', 'True', 'True', 'False', 'False', 'False', 'False', 'True', 'False', 'True', 'False', 'True', 'False', 'True', 'False', 'True', 'True', 'True', 'True', 'False', 'True', 'True', 'True', 'False', 'False', 'True', 'False', 'False', 'True', 'False', 'False', 'False', 'True', 'True', 'False', 'True', 'False', 'True', 'False', 'False', 'True', 'False', 'False', 'False', 'True', 'True', 'True', 'False', 'False', 'False', 'True', 'True', 'False', 'True', 'False', 'True', 'False', 'False', 'False', 'False', 'False', 'False', 'False', 'False', 'True', 'False', 'False', 'False', 'True', 'True', 'False', 'True', 'False', 'True', 'False', 'False', 'False', 'False', 'False', 'False', 'False', 'False', 'False', 'False', 'False', 'False', 'True', 'True', 'True', 'True', 'True', 'False', 'True', 'True', 't0', 't1', 't1', 't1'], ['neg'])\n",
      "  (['True', 'True', 'False', 'False', 'True', 'False', 'True', 'True', 'True', 'True', 'True', 'False', 'False', 'False', 'False', 'True', 'False', 'True', 'False', 'True', 'False', 'False', 'False', 'True', 'True', 'True', 'True', 'False', 'True', 'True', 'True', 'False', 'False', 'True', 'False', 'False', 'False', 'False', 'True', 'False', 'True', 'True', 'False', 'True', 'False', 'True', 'False', 'False', 'False', 'False', 'True', 'False', 'True', 'True', 'False', 'False', 'False', 'False', 'True', 'True', 'False', 'True', 'False', 'True', 'False', 'False', 'False', 'False', 'False', 'False', 'False', 'False', 'False', 'False', 'False', 'False', 'True', 'True', 'False', 'True', 'False', 'True', 'False', 'False', 'False', 'False', 'False', 'False', 'False', 'False', 'False', 'False', 'False', 'False', 'True', 'False', 'True', 'True', 'True', 'False', 'True', 'True', 't0', 't1', 't1', 't0'], ['neg'])\n",
      "  (['True', 'True', 'False', 'False', 'True', 'False', 'True', 'True', 'True', 'True', 'True', 'False', 'False', 'False', 'False', 'True', 'False', 'True', 'False', 'True', 'False', 'False', 'False', 'True', 'True', 'True', 'True', 'False', 'True', 'True', 'True', 'False', 'False', 'True', 'False', 'False', 'True', 'False', 'False', 'False', 'True', 'True', 'False', 'True', 'False', 'True', 'False', 'False', 'True', 'False', 'False', 'False', 'True', 'True', 'True', 'False', 'False', 'False', 'True', 'True', 'True', 'True', 'False', 'True', 'False', 'False', 'True', 'False', 'False', 'False', 'False', 'False', 'True', 'False', 'False', 'False', 'True', 'True', 'True', 'True', 'False', 'True', 'False', 'False', 'True', 'False', 'False', 'False', 'False', 'False', 'False', 'False', 'False', 'False', 'True', 'False', 'True', 'True', 'True', 'False', 'True', 'True', 't0', 't1', 't0', 't1'], ['neg'])\n",
      "  (['True', 'True', 'False', 'False', 'True', 'False', 'True', 'True', 'True', 'True', 'True', 'False', 'False', 'False', 'False', 'True', 'False', 'True', 'False', 'True', 'False', 'False', 'True', 'True', 'True', 'True', 'True', 'False', 'True', 'True', 'True', 'False', 'False', 'True', 'False', 'False', 'False', 'False', 'True', 'False', 'True', 'True', 'False', 'True', 'False', 'True', 'False', 'False', 'False', 'False', 'True', 'False', 'True', 'True', 'False', 'False', 'True', 'False', 'True', 'True', 'True', 'True', 'False', 'True', 'False', 'False', 'False', 'False', 'False', 'False', 'False', 'False', 'False', 'False', 'True', 'False', 'True', 'True', 'True', 'True', 'False', 'True', 'False', 'False', 'False', 'False', 'False', 'False', 'False', 'False', 'False', 'False', 'False', 'False', 'True', 'False', 'True', 'True', 'True', 'False', 'True', 'True', 't0', 't1', 't0', 't0'], ['neg'])\n",
      "  (['True', 'False', 'True', 'True', 'False', 'True', 'True', 'False', 'True', 'True', 'False', 'True', 'False', 'False', 'False', 'False', 'True', 'True', 'False', 'True', 'False', 'False', 'True', 'True', 'True', 'True', 'True', 'True', 'False', 'True', 'False', 'True', 'True', 'False', 'True', 'False', 'False', 'False', 'True', 'True', 'True', 'False', 'True', 'False', 'False', 'False', 'False', 'True', 'False', 'False', 'True', 'True', 'True', 'False', 'False', 'False', 'True', 'True', 'True', 'False', 'True', 'True', 'False', 'False', 'False', 'True', 'False', 'False', 'False', 'False', 'False', 'False', 'False', 'False', 'True', 'True', 'True', 'False', 'True', 'True', 'False', 'False', 'False', 'True', 'False', 'False', 'False', 'False', 'False', 'False', 'False', 'False', 'True', 'True', 'False', 'True', 'True', 'False', 'True', 'True', 'False', 'True', 't0', 't0', 't2', 't0'], ['neg'])\n",
      "  (['True', 'True', 'False', 'False', 'True', 'True', 'True', 'True', 'True', 'True', 'True', 'False', 'False', 'False', 'False', 'True', 'False', 'True', 'False', 'True', 'False', 'False', 'False', 'True', 'True', 'True', 'True', 'False', 'True', 'True', 'True', 'False', 'False', 'True', 'False', 'False', 'True', 'False', 'False', 'False', 'True', 'True', 'False', 'True', 'False', 'True', 'False', 'False', 'True', 'False', 'False', 'False', 'True', 'True', 'False', 'False', 'False', 'False', 'True', 'True', 'False', 'True', 'False', 'True', 'False', 'False', 'False', 'False', 'False', 'False', 'False', 'False', 'False', 'False', 'False', 'False', 'True', 'True', 'False', 'True', 'False', 'True', 'False', 'False', 'False', 'False', 'False', 'False', 'False', 'False', 'False', 'False', 'False', 'False', 'True', 'True', 'True', 'True', 'True', 'False', 'True', 'True', 't0', 't0', 't1', 't1'], ['neg'])\n",
      "  (['True', 'True', 'False', 'False', 'True', 'False', 'True', 'True', 'True', 'True', 'True', 'False', 'False', 'False', 'False', 'True', 'False', 'True', 'False', 'True', 'False', 'False', 'True', 'True', 'True', 'True', 'True', 'False', 'True', 'True', 'True', 'False', 'False', 'True', 'False', 'False', 'False', 'False', 'True', 'False', 'True', 'True', 'False', 'True', 'False', 'True', 'False', 'False', 'False', 'False', 'True', 'False', 'True', 'True', 'False', 'False', 'True', 'False', 'True', 'True', 'True', 'True', 'False', 'True', 'False', 'False', 'False', 'False', 'False', 'False', 'False', 'False', 'False', 'False', 'True', 'False', 'True', 'True', 'True', 'True', 'False', 'True', 'False', 'False', 'False', 'False', 'False', 'False', 'False', 'False', 'False', 'False', 'False', 'False', 'True', 'False', 'True', 'True', 'True', 'False', 'True', 'True', 't0', 't0', 't1', 't0'], ['neg'])\n",
      "  (['True', 'True', 'False', 'False', 'True', 'True', 'True', 'True', 'True', 'True', 'True', 'False', 'False', 'False', 'False', 'True', 'False', 'True', 'False', 'True', 'False', 'False', 'True', 'True', 'True', 'True', 'True', 'False', 'True', 'True', 'True', 'False', 'False', 'True', 'False', 'False', 'True', 'False', 'False', 'False', 'True', 'True', 'False', 'True', 'False', 'True', 'False', 'False', 'True', 'False', 'False', 'False', 'True', 'True', 'False', 'False', 'False', 'False', 'True', 'True', 'True', 'True', 'False', 'True', 'False', 'False', 'False', 'False', 'False', 'False', 'False', 'False', 'False', 'False', 'False', 'False', 'True', 'True', 'True', 'True', 'False', 'True', 'False', 'False', 'False', 'False', 'False', 'False', 'False', 'False', 'False', 'False', 'False', 'False', 'True', 'True', 'True', 'True', 'True', 'False', 'True', 'True', 't0', 't0', 't0', 't1'], ['neg'])\n",
      "  (['True', 'False', 'False', 'True', 'True', 'True', 'True', 'True', 'True', 'True', 'False', 'False', 'True', 'False', 'False', 'False', 'False', 'True', 'False', 'True', 'False', 'False', 'True', 'True', 'True', 'True', 'False', 'True', 'True', 'False', 'False', 'False', 'True', 'False', 'False', 'True', 'False', 'False', 'True', 'True', 'True', 'True', 'True', 'True', 'False', 'True', 'False', 'True', 'False', 'False', 'True', 'True', 'True', 'True', 'False', 'False', 'True', 'True', 'True', 'True', 'True', 'True', 'False', 'True', 'False', 'True', 'False', 'False', 'False', 'True', 'False', 'True', 'False', 'False', 'True', 'True', 'True', 'True', 'True', 'True', 'False', 'True', 'False', 'True', 'False', 'False', 'False', 'True', 'False', 'True', 'False', 'False', 'True', 'True', 'True', 'True', 'True', 'True', 'True', 'True', 'True', 'True', 't0', 't0', 't0', 't0'], ['neg'])\n",
      "\n"
     ]
    }
   ],
   "source": [
    "# Reduce properties variables\n",
    "PRIDE_property_functions.remove(existence)\n",
    "PRIDE_property_functions.remove(not_precedence)\n",
    "PRIDE_property_functions = [existence, not_precedence] + PRIDE_property_functions\n",
    "\n",
    "feature_names, data = convert_to_LFIT(events,pos,neg,PRIDE_property_functions)\n",
    "\n",
    "# trick change variable order to force pride to use pos in last resort\n",
    "feature_names = feature_names[LEN_SEQUENCE:] + feature_names[:LEN_SEQUENCE]\n",
    "data = [(s[LEN_SEQUENCE:] + s[:LEN_SEQUENCE],s_) for (s,s_) in data]\n",
    "\n",
    "# Convert array data as a StateTransitionsDataset using pylfit.preprocessing\n",
    "dataset = pylfit.preprocessing.transitions_dataset_from_array(data=data, \\\n",
    "feature_names=feature_names, target_names=[\"class\"])\n",
    "dataset.summary()\n",
    "print()"
   ]
  },
  {
   "cell_type": "code",
   "execution_count": 52,
   "id": "5ee19037",
   "metadata": {
    "execution": {
     "iopub.execute_input": "2022-05-23T14:17:15.646171Z",
     "iopub.status.busy": "2022-05-23T14:17:15.645443Z",
     "iopub.status.idle": "2022-05-23T14:17:15.709944Z",
     "shell.execute_reply": "2022-05-23T14:17:15.708880Z"
    },
    "papermill": {
     "duration": 0.168619,
     "end_time": "2022-05-23T14:17:15.712634",
     "exception": false,
     "start_time": "2022-05-23T14:17:15.544015",
     "status": "completed"
    },
    "tags": []
   },
   "outputs": [
    {
     "name": "stdout",
     "output_type": "stream",
     "text": [
      "WDMVLP summary:\n",
      " Algorithm: pride\n",
      " Features: \n",
      "  existence_t0: ['False', 'True']\n",
      "  existence_t1: ['False', 'True']\n",
      "  existence_t2: ['False', 'True']\n",
      "  not_precedence_t0_t1: ['False', 'True']\n",
      "  not_precedence_t0_t2: ['False', 'True']\n",
      "  not_precedence_t1_t0: ['False', 'True']\n",
      "  not_precedence_t1_t2: ['False', 'True']\n",
      "  not_precedence_t2_t0: ['False', 'True']\n",
      "  not_precedence_t2_t1: ['False', 'True']\n",
      "  ltl_Finally_t0: ['False', 'True']\n",
      "  ltl_Finally_t1: ['False', 'True']\n",
      "  ltl_Finally_t2: ['False', 'True']\n",
      "  ltl_Globally_t0: ['False', 'True']\n",
      "  ltl_Globally_t1: ['False', 'True']\n",
      "  ltl_Globally_t2: ['False', 'True']\n",
      "  ltl_t0_Until_t1: ['False', 'True']\n",
      "  ltl_t0_Until_t2: ['False', 'True']\n",
      "  ltl_t1_Until_t0: ['False', 'True']\n",
      "  ltl_t1_Until_t2: ['False', 'True']\n",
      "  ltl_t2_Until_t0: ['False', 'True']\n",
      "  ltl_t2_Until_t1: ['False', 'True']\n",
      "  absence_2_t0: ['False', 'True']\n",
      "  absence_2_t1: ['False', 'True']\n",
      "  absence_2_t2: ['False', 'True']\n",
      "  choice_t0_t1: ['False', 'True']\n",
      "  choice_t0_t2: ['False', 'True']\n",
      "  choice_t1_t2: ['False', 'True']\n",
      "  exclusive_choice_t0_t1: ['False', 'True']\n",
      "  exclusive_choice_t0_t2: ['False', 'True']\n",
      "  exclusive_choice_t1_t2: ['False', 'True']\n",
      "  resp_existence_t0_t1: ['False', 'True']\n",
      "  resp_existence_t0_t2: ['False', 'True']\n",
      "  resp_existence_t1_t2: ['False', 'True']\n",
      "  coexistence_t0_t1: ['False', 'True']\n",
      "  coexistence_t0_t2: ['False', 'True']\n",
      "  coexistence_t1_t2: ['False', 'True']\n",
      "  response_t0_t1: ['False', 'True']\n",
      "  response_t0_t2: ['False', 'True']\n",
      "  response_t1_t0: ['False', 'True']\n",
      "  response_t1_t2: ['False', 'True']\n",
      "  response_t2_t0: ['False', 'True']\n",
      "  response_t2_t1: ['False', 'True']\n",
      "  precedence_t0_t1: ['False', 'True']\n",
      "  precedence_t0_t2: ['False', 'True']\n",
      "  precedence_t1_t0: ['False', 'True']\n",
      "  precedence_t1_t2: ['False', 'True']\n",
      "  precedence_t2_t0: ['False', 'True']\n",
      "  precedence_t2_t1: ['False', 'True']\n",
      "  succession_t0_t1: ['False', 'True']\n",
      "  succession_t0_t2: ['False', 'True']\n",
      "  succession_t1_t0: ['False', 'True']\n",
      "  succession_t1_t2: ['False', 'True']\n",
      "  succession_t2_t0: ['False', 'True']\n",
      "  succession_t2_t1: ['False', 'True']\n",
      "  alt_response_t0_t1: ['False', 'True']\n",
      "  alt_response_t0_t2: ['False', 'True']\n",
      "  alt_response_t1_t0: ['False', 'True']\n",
      "  alt_response_t1_t2: ['False', 'True']\n",
      "  alt_response_t2_t0: ['False', 'True']\n",
      "  alt_response_t2_t1: ['False', 'True']\n",
      "  alt_precedence_t0_t1: ['False', 'True']\n",
      "  alt_precedence_t0_t2: ['False', 'True']\n",
      "  alt_precedence_t1_t0: ['False', 'True']\n",
      "  alt_precedence_t1_t2: ['False', 'True']\n",
      "  alt_precedence_t2_t0: ['False', 'True']\n",
      "  alt_precedence_t2_t1: ['False', 'True']\n",
      "  alt_succession_t0_t1: ['False', 'True']\n",
      "  alt_succession_t0_t2: ['False', 'True']\n",
      "  alt_succession_t1_t0: ['False', 'True']\n",
      "  alt_succession_t1_t2: ['False', 'True']\n",
      "  alt_succession_t2_t0: ['False', 'True']\n",
      "  alt_succession_t2_t1: ['False', 'True']\n",
      "  chain_response_t0_t1: ['False', 'True']\n",
      "  chain_response_t0_t2: ['False', 'True']\n",
      "  chain_response_t1_t0: ['False', 'True']\n",
      "  chain_response_t1_t2: ['False', 'True']\n",
      "  chain_response_t2_t0: ['False', 'True']\n",
      "  chain_response_t2_t1: ['False', 'True']\n",
      "  chain_precedence_t0_t1: ['False', 'True']\n",
      "  chain_precedence_t0_t2: ['False', 'True']\n",
      "  chain_precedence_t1_t0: ['False', 'True']\n",
      "  chain_precedence_t1_t2: ['False', 'True']\n",
      "  chain_precedence_t2_t0: ['False', 'True']\n",
      "  chain_precedence_t2_t1: ['False', 'True']\n",
      "  chain_succession_t0_t1: ['False', 'True']\n",
      "  chain_succession_t0_t2: ['False', 'True']\n",
      "  chain_succession_t1_t0: ['False', 'True']\n",
      "  chain_succession_t1_t2: ['False', 'True']\n",
      "  chain_succession_t2_t0: ['False', 'True']\n",
      "  chain_succession_t2_t1: ['False', 'True']\n",
      "  not_coexistence_t0_t1: ['False', 'True']\n",
      "  not_coexistence_t0_t2: ['False', 'True']\n",
      "  not_coexistence_t1_t2: ['False', 'True']\n",
      "  not_succession_t0_t1: ['False', 'True']\n",
      "  not_succession_t0_t2: ['False', 'True']\n",
      "  not_succession_t1_t0: ['False', 'True']\n",
      "  not_succession_t1_t2: ['False', 'True']\n",
      "  not_succession_t2_t0: ['False', 'True']\n",
      "  not_succession_t2_t1: ['False', 'True']\n",
      "  not_chain_succession_t0_t1: ['False', 'True']\n",
      "  not_chain_succession_t0_t2: ['False', 'True']\n",
      "  not_chain_succession_t1_t2: ['False', 'True']\n",
      "  ev_0: ['t0', 't1', 't2']\n",
      "  ev_1: ['t0', 't1', 't2']\n",
      "  ev_2: ['t0', 't1', 't2']\n",
      "  ev_3: ['t0', 't1', 't2']\n",
      " Targets: \n",
      "  class: ['neg', 'pos']\n",
      " Likeliness rules:\n",
      "  33, class(neg) :- not_precedence_t2_t0(False).\n",
      "  16, class(neg) :- existence_t0(False).\n",
      "  16, class(neg) :- existence_t2(False).\n",
      "  11, class(pos) :- existence_t0(True), not_precedence_t1_t2(False), not_precedence_t2_t0(True).\n",
      "  17, class(pos) :- existence_t0(True), existence_t2(True), not_precedence_t2_t0(True).\n",
      " Unlikeliness rules:\n",
      "  11, class(neg) :- existence_t0(True), not_precedence_t1_t2(False), not_precedence_t2_t0(True).\n",
      "  17, class(neg) :- existence_t0(True), existence_t2(True), not_precedence_t2_t0(True).\n",
      "  33, class(pos) :- not_precedence_t2_t0(False).\n",
      "  16, class(pos) :- existence_t0(False).\n",
      "  16, class(pos) :- existence_t2(False).\n"
     ]
    }
   ],
   "source": [
    "# Initialize a WDMVLP with the dataset variables and set GULA as learning algorithm\n",
    "model = pylfit.models.WDMVLP(features=dataset.features, targets=dataset.targets)\n",
    "model.compile(algorithm=\"pride\") # model.compile(algorithm=\"pride\")\n",
    "\n",
    "# Fit the DMVLP on the dataset\n",
    "model.fit(dataset=dataset)\n",
    "model.summary()"
   ]
  }
 ],
 "metadata": {
  "kernelspec": {
   "display_name": "Python 3",
   "language": "python",
   "name": "python3"
  },
  "language_info": {
   "codemirror_mode": {
    "name": "ipython",
    "version": 3
   },
   "file_extension": ".py",
   "mimetype": "text/x-python",
   "name": "python",
   "nbconvert_exporter": "python",
   "pygments_lexer": "ipython3",
   "version": "3.7.12"
  },
  "papermill": {
   "default_parameters": {},
   "duration": 42.992012,
   "end_time": "2022-05-23T14:17:16.537439",
   "environment_variables": {},
   "exception": null,
   "input_path": "__notebook__.ipynb",
   "output_path": "__notebook__.ipynb",
   "parameters": {},
   "start_time": "2022-05-23T14:16:33.545427",
   "version": "2.3.4"
  }
 },
 "nbformat": 4,
 "nbformat_minor": 5
}
